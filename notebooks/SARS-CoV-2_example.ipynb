{
 "cells": [
  {
   "cell_type": "markdown",
   "id": "472cb94a",
   "metadata": {},
   "source": [
    "# SARS-CoV-2 section of manuscript"
   ]
  },
  {
   "cell_type": "code",
   "execution_count": 1,
   "id": "e9c31cb4",
   "metadata": {},
   "outputs": [],
   "source": [
    "import os\n",
    "import pandas as pd\n",
    "import matplotlib.pyplot as plt\n",
    "import seaborn as sns\n",
    "import pandas as pd\n",
    "import numpy as np\n",
    "import scipy.stats as stats\n",
    "import statsmodels\n",
    "import glob\n",
    "\n",
    "# Suppress FutureWarnings\n",
    "import warnings\n",
    "warnings.simplefilter(action='ignore', category=FutureWarning)\n",
    "\n",
    "# SMEAGOL imports\n",
    "import smeagol.io, smeagol.models, smeagol.scan, smeagol.enrich, smeagol.visualize, smeagol.variant"
   ]
  },
  {
   "cell_type": "markdown",
   "id": "be99262b",
   "metadata": {},
   "source": [
    "## Read genome, PWMs, sites, and enrichment"
   ]
  },
  {
   "cell_type": "code",
   "execution_count": 2,
   "id": "87378e8a",
   "metadata": {},
   "outputs": [
    {
     "name": "stdout",
     "output_type": "stream",
     "text": [
      "Read 1 records from ../DATA/Genomes/Genomes/IV/Monopartite/Coronaviridae/GCF_009858895.2/GCF_009858895.2_ASM985889v3_genomic.fna.gz\n"
     ]
    }
   ],
   "source": [
    "genome_file='../DATA/Genomes/Genomes/IV/Monopartite/Coronaviridae/GCF_009858895.2/GCF_009858895.2_ASM985889v3_genomic.fna.gz'\n",
    "genome = smeagol.io.read_fasta(genome_file)"
   ]
  },
  {
   "cell_type": "code",
   "execution_count": 3,
   "id": "c155c9ef",
   "metadata": {},
   "outputs": [
    {
     "name": "stdout",
     "output_type": "stream",
     "text": [
      "362\n",
      "146\n"
     ]
    }
   ],
   "source": [
    "pwm_file='../DATA/PWMs/attract_rbpdb_encode_filtered_human_pwms.h5'\n",
    "pwms = pd.read_hdf(pwm_file, key=\"data\")\n",
    "print(len(pwms))\n",
    "print(len(set(pwms.Gene_name)))"
   ]
  },
  {
   "cell_type": "code",
   "execution_count": null,
   "id": "d13e227f",
   "metadata": {},
   "outputs": [],
   "source": [
    "# Representative PWMs\n",
    "reps = list(pd.read_csv('../DATA/PWMs/attract_rbpdb_encode_representative_matrices.txt', header=None)[0])"
   ]
  },
  {
   "cell_type": "code",
   "execution_count": 4,
   "id": "9ee3ed98",
   "metadata": {},
   "outputs": [],
   "source": [
    "sites = pd.read_csv('../RESULTS/sites_attract_rbpdb_encode_filtered_human_pwms.tsv', sep='\\t')\n",
    "sites = sites.merge(pwms.loc[:, ['Matrix_id', 'Gene_name', 'source']])"
   ]
  },
  {
   "cell_type": "code",
   "execution_count": 5,
   "id": "c7f00249",
   "metadata": {
    "scrolled": true
   },
   "outputs": [
    {
     "name": "stderr",
     "output_type": "stream",
     "text": [
      "/Users/avantika/Desktop/viruslandscape/vir2/lib/python3.7/site-packages/pandas/core/arraylike.py:358: RuntimeWarning: divide by zero encountered in log2\n",
      "  result = getattr(ufunc, method)(*inputs, **kwargs)\n"
     ]
    }
   ],
   "source": [
    "all_enr = pd.read_csv('../RESULTS/genome_enrichment_results.tsv', sep='\\t')\n",
    "pre_len = len(all_enr)\n",
    "all_enr = all_enr.merge(pwms.loc[:, ['Matrix_id', 'Gene_name', 'source']])\n",
    "assert len(all_enr) == pre_len\n",
    "\n",
    "all_enr['sig05'] = all_enr.fdr<.05\n",
    "all_enr['sig1'] = all_enr.fdr<.1\n",
    "all_enr['dir'] = (all_enr.num > all_enr.avg).map({True: 'up', False: 'dn'})\n",
    "all_enr['fc'] = all_enr.num/all_enr.avg\n",
    "all_enr['log2fc'] = np.log2(all_enr.fc)\n",
    "\n",
    "enr = all_enr[all_enr.assembly=='GCF_009858895.2'].reset_index(drop=True)\n",
    "cov_enr = all_enr[(all_enr.family == 'Coronaviridae') & \\\n",
    "                  (all_enr.assembly!='GCF_009858895.2')].reset_index(drop=True)"
   ]
  },
  {
   "cell_type": "code",
   "execution_count": 8,
   "id": "d8fa46dd",
   "metadata": {},
   "outputs": [
    {
     "name": "stderr",
     "output_type": "stream",
     "text": [
      "/Users/avantika/Desktop/viruslandscape/vir2/lib/python3.7/site-packages/pandas/core/arraylike.py:358: RuntimeWarning: divide by zero encountered in log2\n",
      "  result = getattr(ufunc, method)(*inputs, **kwargs)\n"
     ]
    }
   ],
   "source": [
    "uenr = pd.read_csv('../RESULTS/utr_enrichment_results.tsv', sep='\\t')\n",
    "uenr = uenr[uenr.assembly == 'GCF_009858895.2']\n",
    "uenr['sig05'] = uenr.fdr<.05\n",
    "uenr['sig1'] = uenr.fdr<.1\n",
    "uenr['dir'] = (uenr.num > uenr.avg).map({True: 'up', False: 'dn'})\n",
    "uenr['fc'] = uenr.num/uenr.avg\n",
    "uenr['log2fc'] = np.log2(uenr.fc)"
   ]
  },
  {
   "cell_type": "markdown",
   "id": "5c3b269d",
   "metadata": {},
   "source": [
    "## Binding sites (threshold 0.8)"
   ]
  },
  {
   "cell_type": "code",
   "execution_count": 9,
   "id": "dd5056a4",
   "metadata": {},
   "outputs": [
    {
     "data": {
      "text/plain": [
       "-    23675\n",
       "+    22578\n",
       "Name: sense, dtype: int64"
      ]
     },
     "execution_count": 9,
     "metadata": {},
     "output_type": "execute_result"
    }
   ],
   "source": [
    "sites.sense.value_counts()"
   ]
  },
  {
   "cell_type": "code",
   "execution_count": 10,
   "id": "e83102d2",
   "metadata": {},
   "outputs": [
    {
     "name": "stdout",
     "output_type": "stream",
     "text": [
      "RBPs predicted to bind to the + strand: 144\n",
      " RBPs predicted to bind to the - strand: 143\n",
      " RBPs predicted to bind to either strand: 144\n",
      "\n"
     ]
    }
   ],
   "source": [
    "# How many RBPs are predicted to bind?\n",
    "pos_bound_rbps = set(sites.Gene_name[sites.sense=='+'])\n",
    "neg_bound_rbps = set(sites.Gene_name[sites.sense=='-'])\n",
    "all_bound_rbps = set(sites.Gene_name)\n",
    "print(\"RBPs predicted to bind to the + strand: {}\\n\".format(len(pos_bound_rbps)), \n",
    "      \"RBPs predicted to bind to the - strand: {}\\n\".format(len(neg_bound_rbps)), \n",
    "      \"RBPs predicted to bind to either strand: {}\\n\".format(len(all_bound_rbps)))"
   ]
  },
  {
   "cell_type": "code",
   "execution_count": 11,
   "id": "bb3ac1fb",
   "metadata": {
    "scrolled": false
   },
   "outputs": [
    {
     "data": {
      "text/plain": [
       "Matrix_id  Gene_name\n",
       "s38        HNRNPL       1159\n",
       "75         PPIE         1150\n",
       "s4         CELF2         666\n",
       "1174       KHDRBS3       616\n",
       "64         NOVA1         600\n",
       "dtype: int64"
      ]
     },
     "execution_count": 11,
     "metadata": {},
     "output_type": "execute_result"
    }
   ],
   "source": [
    "# Which RBPs have the most sites on the + strand?\n",
    "sites.loc[sites.sense=='+', ['Matrix_id', 'Gene_name']].value_counts().head()"
   ]
  },
  {
   "cell_type": "code",
   "execution_count": 12,
   "id": "6abefa64",
   "metadata": {},
   "outputs": [
    {
     "name": "stdout",
     "output_type": "stream",
     "text": [
      "Number of sites on the 5'UTR: 187\n",
      " RBPs predicted to bind to the 5'UTR: 63\n",
      " Number of sites on the 3'UTR: 423\n",
      " RBPs predicted to bind to the 3'UTR: 70\n",
      "\n"
     ]
    }
   ],
   "source": [
    "# How many sites and RBPs are predicted for the UTRs?\n",
    "usites = pd.read_csv('../RESULTS/gpIV_utr_sites.tsv', sep='\\t')\n",
    "usites = usites[usites.genome_file == 'GCF_009858895.2_ASM985889v3_genomic.fna.gz']\n",
    "print(\"Number of sites on the 5'UTR: {}\\n\".format(len(usites[usites.region=='five_prime_UTR'])), \n",
    "      \"RBPs predicted to bind to the 5'UTR: {}\\n\".format(len(set(usites.Gene_name[usites.region=='five_prime_UTR']))),\n",
    "      \"Number of sites on the 3'UTR: {}\\n\".format(len(usites[usites.region=='three_prime_UTR'])), \n",
    "      \"RBPs predicted to bind to the 3'UTR: {}\\n\".format(len(set(usites.Gene_name[usites.region=='three_prime_UTR']))))"
   ]
  },
  {
   "cell_type": "markdown",
   "id": "f8317ee2",
   "metadata": {},
   "source": [
    "## Enrichment"
   ]
  },
  {
   "cell_type": "code",
   "execution_count": 13,
   "id": "8f04f8b8",
   "metadata": {
    "scrolled": true
   },
   "outputs": [
    {
     "name": "stdout",
     "output_type": "stream",
     "text": [
      "Significant motifs: 89\n",
      " Significant RBPs: 65\n",
      "\n"
     ]
    }
   ],
   "source": [
    "print(\"Significant motifs: {}\\n\".format(len(set(enr.Matrix_id[enr.sig05]))),\n",
    "      \"Significant RBPs: {}\\n\".format(len(set(enr.Gene_name[enr.sig05]))))"
   ]
  },
  {
   "cell_type": "code",
   "execution_count": 14,
   "id": "d509ee06",
   "metadata": {
    "scrolled": true
   },
   "outputs": [
    {
     "data": {
      "text/plain": [
       "sense  dir\n",
       "+      dn     32\n",
       "       up     18\n",
       "-      up     14\n",
       "       dn     13\n",
       "dtype: int64"
      ]
     },
     "execution_count": 14,
     "metadata": {},
     "output_type": "execute_result"
    }
   ],
   "source": [
    "# How many enriched and depleted RBPs on each strand?\n",
    "enr.loc[enr.sig05, ['Gene_name', 'sense', 'dir']].drop_duplicates().iloc[:, 1:].value_counts()"
   ]
  },
  {
   "cell_type": "code",
   "execution_count": 16,
   "id": "4a00c8dd",
   "metadata": {},
   "outputs": [
    {
     "name": "stdout",
     "output_type": "stream",
     "text": [
      "Significant motifs in UTRs: 9\n",
      " Significant RBPs in UTRs: 9\n",
      "\n"
     ]
    }
   ],
   "source": [
    "print(\"Significant motifs in UTRs: {}\\n\".format(sum(uenr.sig05)),\n",
    "      \"Significant RBPs in UTRs: {}\\n\".format(len(set(uenr.RBP[uenr.sig05]))))"
   ]
  },
  {
   "cell_type": "markdown",
   "id": "05d731a5",
   "metadata": {},
   "source": [
    "## Define enriched sets"
   ]
  },
  {
   "cell_type": "code",
   "execution_count": 18,
   "id": "f556b0bd",
   "metadata": {
    "scrolled": true
   },
   "outputs": [
    {
     "name": "stdout",
     "output_type": "stream",
     "text": [
      "Enriched:\n",
      "In + : 18  In -: 14  In 5'UTR: 1  In 3'UTR: 8  In all + : 22  In all: 32 \n",
      "\n",
      "Depleted:\n",
      "In + : 32  In -: 13  In 5'UTR: 0  In 3'UTR: 0 In all: 44\n",
      "\n",
      "Enriched at FDR .1:\n",
      "In + : 23  In -: 17  In 5'UTR: 1  In 3'UTR: 8  In all + : 27  In all: 37\n",
      "\n",
      "Depleted at FDR .1:\n",
      "In + : 40  In -: 16  In 5'UTR: 0  In 3'UTR: 0 In all: 54\n",
      "\n"
     ]
    }
   ],
   "source": [
    "pos_up = set(enr.Gene_name[(enr.sense == '+') & (enr.sig05) & (enr.dir == 'up')])\n",
    "neg_up = set(enr.Gene_name[(enr.sense == '-') & (enr.sig05) & (enr.dir == 'up')])\n",
    "pos_dn = set(enr.Gene_name[(enr.sense == '+') & (enr.sig05) & (enr.dir == 'dn')])\n",
    "neg_dn = set(enr.Gene_name[(enr.sense == '-') & (enr.sig05) & (enr.dir == 'dn')])\n",
    "\n",
    "f_up=set(uenr.RBP[(uenr.region=='five_prime_UTR') & (uenr.dir == 'up') & (uenr.sig05)])\n",
    "t_up=set(uenr.RBP[(uenr.region=='three_prime_UTR') & (uenr.dir == 'up') & (uenr.sig05)])\n",
    "f_dn=set(uenr.RBP[(uenr.region=='five_prime_UTR') & (uenr.dir == 'dn') & (uenr.sig05)])\n",
    "t_dn=set(uenr.RBP[(uenr.region=='three_prime_UTR') & (uenr.dir == 'dn') & (uenr.sig05)])\n",
    "\n",
    "pos_up1 = set(enr.Gene_name[(enr.sense == '+') & (enr.fdr<0.1) & (enr.dir == 'up')])\n",
    "neg_up1 = set(enr.Gene_name[(enr.sense == '-') & (enr.fdr<0.1) & (enr.dir == 'up')])\n",
    "pos_dn1 = set(enr.Gene_name[(enr.sense == '+') & (enr.fdr<0.1) & (enr.dir == 'dn')])\n",
    "neg_dn1 = set(enr.Gene_name[(enr.sense == '-') & (enr.fdr<0.1) & (enr.dir == 'dn')])\n",
    "\n",
    "f_up1=set(uenr.RBP[(uenr.region=='five_prime_UTR') & (uenr.dir == 'up') & (uenr.fdr<.1)])\n",
    "t_up1=set(uenr.RBP[(uenr.region=='three_prime_UTR') & (uenr.dir == 'up') & (uenr.fdr<.1)])\n",
    "f_dn1=set(uenr.RBP[(uenr.region=='five_prime_UTR') & (uenr.dir == 'dn') & (uenr.fdr<.1)])\n",
    "t_dn1=set(uenr.RBP[(uenr.region=='three_prime_UTR') & (uenr.dir == 'dn') & (uenr.fdr<.1)])\n",
    "\n",
    "all_pos_up = pos_up.union(f_up).union(t_up)\n",
    "all_up = all_pos_up.union(neg_up)\n",
    "all_dn = pos_dn.union(f_dn).union(t_dn).union(neg_dn)\n",
    "\n",
    "all_pos_up1 = pos_up1.union(f_up1).union(t_up1)\n",
    "all_up1 = all_pos_up1.union(neg_up1)\n",
    "all_dn1 = pos_dn1.union(f_dn1).union(t_dn1).union(neg_dn1)\n",
    "\n",
    "print(\"Enriched:\")\n",
    "print(\"In + : {} \".format(len(pos_up)), \n",
    "      \"In -: {} \".format(len(neg_up)), \n",
    "      \"In 5'UTR: {} \".format(len(f_up)), \n",
    "      \"In 3'UTR: {} \".format(len(t_up)), \n",
    "      \"In all + : {} \".format(len(all_pos_up)), \n",
    "      \"In all: {} \\n\".format(len(all_up)))\n",
    "print(\"Depleted:\")\n",
    "print(\"In + : {} \".format(len(pos_dn)), \n",
    "      \"In -: {} \".format(len(neg_dn)), \n",
    "      \"In 5'UTR: {} \".format(len(f_dn)), \n",
    "      \"In 3'UTR: {}\".format(len(t_dn)), \n",
    "      \"In all: {}\\n\".format(len(all_dn)))\n",
    "\n",
    "print(\"Enriched at FDR .1:\")\n",
    "print(\"In + : {} \".format(len(pos_up1)), \n",
    "      \"In -: {} \".format(len(neg_up1)), \n",
    "      \"In 5'UTR: {} \".format(len(f_up1)), \n",
    "      \"In 3'UTR: {} \".format(len(t_up1)), \n",
    "      \"In all + : {} \".format(len(all_pos_up1)), \n",
    "      \"In all: {}\\n\".format(len(all_up1)))\n",
    "print(\"Depleted at FDR .1:\")\n",
    "print(\"In + : {} \".format(len(pos_dn1)), \n",
    "      \"In -: {} \".format(len(neg_dn1)), \n",
    "      \"In 5'UTR: {} \".format(len(f_dn1)), \n",
    "      \"In 3'UTR: {}\".format(len(t_dn1)), \n",
    "      \"In all: {}\\n\".format(len(all_dn1)))"
   ]
  },
  {
   "cell_type": "code",
   "execution_count": 19,
   "id": "6f3d58ee",
   "metadata": {},
   "outputs": [
    {
     "name": "stdout",
     "output_type": "stream",
     "text": [
      "{'SRSF10', 'MBNL1', 'PABPC1', 'TRA2A', 'TIA1', 'SRSF1', 'SART3', 'RBMY1A1', 'FUS', 'PABPC4', 'ZNF638', 'PABPN1', 'NUPL2', 'BOLL'}\n",
      "{'ZFP36', 'HNRNPA0', 'RBMX', 'SRSF4', 'RBM45', 'SRSF3', 'NOVA1', 'SRSF5', 'NOVA2', 'EWSR1'}\n",
      "{'GRSF1', 'PUF60', 'HNRNPC', 'SFPQ', 'RBM25', 'FUBP1', 'UNK', 'HNRNPA1', 'MSI1', 'ELAVL1', 'RBFOX3', 'ELAVL4', 'KHSRP', 'HNRNPH1', 'RBFOX2', 'HNRNPF', 'HNRNPCL1', 'CELF2', 'HNRNPK', 'PUM1', 'CPEB4', 'HNRNPH3', 'TIA1', 'CPEB1', 'RBFOX1', 'HNRNPH2', 'RALY', 'U2AF2', 'FUBP3', 'HNRNPDL', 'BOLL'}\n",
      "{'KHDRBS3', 'MBNL1', 'HNRNPL', 'PCBP4', 'CNOT4', 'PCBP2', 'ZCRB1', 'RBM41', 'RBM45', 'RBMY1A1', 'PABPC4', 'PABPN1L'}\n"
     ]
    }
   ],
   "source": [
    "# Differences between + and -\n",
    "print(set(pos_up).difference(neg_up))\n",
    "print(set(neg_up).difference(pos_up))\n",
    "print(set(pos_dn).difference(neg_dn))\n",
    "print(set(neg_dn).difference(pos_dn))"
   ]
  },
  {
   "cell_type": "code",
   "execution_count": 20,
   "id": "7feef503",
   "metadata": {},
   "outputs": [
    {
     "name": "stdout",
     "output_type": "stream",
     "text": [
      "{'ZRANB2'}\n",
      "{'PPIE', 'PABPN1L', 'KHDRBS3'}\n",
      "set()\n",
      "set()\n"
     ]
    }
   ],
   "source": [
    "# Differences between UTR and full\n",
    "print(f_up.difference(pos_up))\n",
    "print(t_up.difference(pos_up))\n",
    "print(f_up.intersection(pos_dn))\n",
    "print(t_up.intersection(pos_dn))"
   ]
  },
  {
   "cell_type": "markdown",
   "id": "1fac7be9",
   "metadata": {},
   "source": [
    "## Intersect with known binders"
   ]
  },
  {
   "cell_type": "code",
   "execution_count": 21,
   "id": "08e9721d",
   "metadata": {},
   "outputs": [
    {
     "name": "stdout",
     "output_type": "stream",
     "text": [
      "Validated binders from Schmidt study : 103\n",
      " Validated binders from Schmidt study with PWMs: 18\n",
      " Validated binders from Kamel study : 130\n",
      " Validated binders from Kamel study with PWMs: 36\n",
      " Validated binders from Lee study : 37\n",
      " Validated binders from Lee study with PWMs: 18\n",
      " Validated binders from all studies : 203\n",
      " Validated binders from all studies with PWMs: 41\n",
      " Validated binders from all studies with sites: 40\n"
     ]
    }
   ],
   "source": [
    "schmidt_b_core = set(pd.read_csv('../../sars-cov-2/binding_data/schmidt_core.txt', header=None)[0])\n",
    "schmidt_b_exp = set(pd.read_csv('../../sars-cov-2/binding_data/schmidt_expanded.txt', header=None)[0])\n",
    "schmidt_b = schmidt_b_core.union(schmidt_b_exp)\n",
    "\n",
    "kamel_b = pd.read_excel('~/Desktop/viruslandscape/sars-cov-2/binding_data/kamel.xlsx')\n",
    "kamel_b = set(kamel_b['Gene.name'][(kamel_b['Sig.vRNA.Interactors.FDR10'] == 'Yes') & (~kamel_b['Gene.name'].str.startswith('sp|'))])\n",
    "\n",
    "lee_b = set(pd.read_csv('../../sars-cov-2/binding_data/lee.txt', header=None)[0])\n",
    "\n",
    "all_validated = schmidt_b.union(kamel_b).union(lee_b)\n",
    "\n",
    "\n",
    "print(\"Validated binders from Schmidt study : {}\\n\".format(len(schmidt_b)),\n",
    "      \"Validated binders from Schmidt study with PWMs: {}\\n\".format(len(set(pwms.Gene_name).intersection(schmidt_b))),\n",
    "      \"Validated binders from Kamel study : {}\\n\".format(len(kamel_b)),\n",
    "      \"Validated binders from Kamel study with PWMs: {}\\n\".format(len(set(pwms.Gene_name).intersection(kamel_b))),\n",
    "      \"Validated binders from Lee study : {}\\n\".format(len(lee_b)),\n",
    "      \"Validated binders from Lee study with PWMs: {}\\n\".format(len(set(pwms.Gene_name).intersection(lee_b))),\n",
    "      \"Validated binders from all studies : {}\\n\".format(len(all_validated)),\n",
    "      \"Validated binders from all studies with PWMs: {}\\n\".format(len(set(pwms.Gene_name).intersection(all_validated))),\n",
    "      \"Validated binders from all studies with sites: {}\".format(len(set(sites.Gene_name).intersection(all_validated))))\n"
   ]
  },
  {
   "cell_type": "code",
   "execution_count": 22,
   "id": "526147dd",
   "metadata": {},
   "outputs": [
    {
     "name": "stdout",
     "output_type": "stream",
     "text": [
      "32 44\n"
     ]
    }
   ],
   "source": [
    "print(len(all_up), len(all_dn))"
   ]
  },
  {
   "cell_type": "code",
   "execution_count": 23,
   "id": "55d642cb",
   "metadata": {},
   "outputs": [
    {
     "name": "stdout",
     "output_type": "stream",
     "text": [
      "Validated binders enriched at fdr .05 : 8\n",
      " Validated binders depleted at fdr .05 : 13\n",
      " Validated binders enriched at fdr .1 : 10\n",
      " Validated binders depleted at fdr .1 : 16\n",
      "\n"
     ]
    }
   ],
   "source": [
    "print(\"Validated binders enriched at fdr .05 : {}\\n\".format(len(all_up.intersection(all_validated))),\n",
    "      \"Validated binders depleted at fdr .05 : {}\\n\".format(len(all_dn.intersection(all_validated))),\n",
    "      \"Validated binders enriched at fdr .1 : {}\\n\".format(len(all_up1.intersection(all_validated))),\n",
    "      \"Validated binders depleted at fdr .1 : {}\\n\".format(len(all_dn1.intersection(all_validated))))"
   ]
  },
  {
   "cell_type": "code",
   "execution_count": 24,
   "id": "8348bd30",
   "metadata": {},
   "outputs": [
    {
     "data": {
      "text/plain": [
       "{'CPEB4',\n",
       " 'ELAVL1',\n",
       " 'FUBP3',\n",
       " 'HNRNPA1',\n",
       " 'HNRNPC',\n",
       " 'HNRNPDL',\n",
       " 'HNRNPL',\n",
       " 'MBNL1',\n",
       " 'PABPC4',\n",
       " 'PCBP2',\n",
       " 'PUM1',\n",
       " 'RALY',\n",
       " 'TIA1'}"
      ]
     },
     "execution_count": 24,
     "metadata": {},
     "output_type": "execute_result"
    }
   ],
   "source": [
    "all_dn.intersection(all_validated)"
   ]
  },
  {
   "cell_type": "markdown",
   "id": "72c71b15",
   "metadata": {},
   "source": [
    "## Compare to CRISPR screens"
   ]
  },
  {
   "cell_type": "code",
   "execution_count": 27,
   "id": "9a76c224",
   "metadata": {},
   "outputs": [
    {
     "data": {
      "text/html": [
       "<div>\n",
       "<style scoped>\n",
       "    .dataframe tbody tr th:only-of-type {\n",
       "        vertical-align: middle;\n",
       "    }\n",
       "\n",
       "    .dataframe tbody tr th {\n",
       "        vertical-align: top;\n",
       "    }\n",
       "\n",
       "    .dataframe thead th {\n",
       "        text-align: right;\n",
       "    }\n",
       "</style>\n",
       "<table border=\"1\" class=\"dataframe\">\n",
       "  <thead>\n",
       "    <tr style=\"text-align: right;\">\n",
       "      <th></th>\n",
       "      <th>Gene</th>\n",
       "      <th>in_RBP_db</th>\n",
       "      <th>Lee_et_al_proviral</th>\n",
       "      <th>Lee_et_al_antiviral</th>\n",
       "      <th>Flynn_et_al_proviral</th>\n",
       "      <th>Flynn_et_al_antiviral</th>\n",
       "      <th>Wei_et_al_proviral</th>\n",
       "      <th>Wei_et_al_antiviral</th>\n",
       "    </tr>\n",
       "  </thead>\n",
       "  <tbody>\n",
       "    <tr>\n",
       "      <th>0</th>\n",
       "      <td>AAGAB</td>\n",
       "      <td>False</td>\n",
       "      <td>False</td>\n",
       "      <td>False</td>\n",
       "      <td>False</td>\n",
       "      <td>False</td>\n",
       "      <td>False</td>\n",
       "      <td>False</td>\n",
       "    </tr>\n",
       "    <tr>\n",
       "      <th>1</th>\n",
       "      <td>AARS2</td>\n",
       "      <td>False</td>\n",
       "      <td>False</td>\n",
       "      <td>False</td>\n",
       "      <td>False</td>\n",
       "      <td>True</td>\n",
       "      <td>False</td>\n",
       "      <td>False</td>\n",
       "    </tr>\n",
       "    <tr>\n",
       "      <th>2</th>\n",
       "      <td>AASDHPPT</td>\n",
       "      <td>False</td>\n",
       "      <td>False</td>\n",
       "      <td>False</td>\n",
       "      <td>False</td>\n",
       "      <td>True</td>\n",
       "      <td>False</td>\n",
       "      <td>False</td>\n",
       "    </tr>\n",
       "  </tbody>\n",
       "</table>\n",
       "</div>"
      ],
      "text/plain": [
       "       Gene  in_RBP_db  Lee_et_al_proviral  Lee_et_al_antiviral  \\\n",
       "0     AAGAB      False               False                False   \n",
       "1     AARS2      False               False                False   \n",
       "2  AASDHPPT      False               False                False   \n",
       "\n",
       "   Flynn_et_al_proviral  Flynn_et_al_antiviral  Wei_et_al_proviral  \\\n",
       "0                 False                  False               False   \n",
       "1                 False                   True               False   \n",
       "2                 False                   True               False   \n",
       "\n",
       "   Wei_et_al_antiviral  \n",
       "0                False  \n",
       "1                False  \n",
       "2                False  "
      ]
     },
     "execution_count": 27,
     "metadata": {},
     "output_type": "execute_result"
    }
   ],
   "source": [
    "crispr_df = pd.read_csv('../RESULTS/SARS_CoV_2_validated_RBP_effectors.tsv', sep='\\t')\n",
    "crispr_df.head(3)"
   ]
  },
  {
   "cell_type": "code",
   "execution_count": 32,
   "id": "b98faf13",
   "metadata": {},
   "outputs": [],
   "source": [
    "crispr_df['proviral'] = (crispr_df.Lee_et_al_proviral) | (crispr_df.Flynn_et_al_proviral) \\\n",
    "| (crispr_df.Wei_et_al_proviral)\n",
    "crispr_df['antiviral'] = (crispr_df.Lee_et_al_antiviral) | (crispr_df.Flynn_et_al_antiviral) \\\n",
    "| (crispr_df.Wei_et_al_antiviral)"
   ]
  },
  {
   "cell_type": "code",
   "execution_count": 34,
   "id": "95ae619b",
   "metadata": {},
   "outputs": [],
   "source": [
    "all_pv = set(crispr_df.Gene[crispr_df['proviral']])\n",
    "all_av = set(crispr_df.Gene[crispr_df['antiviral']])\n",
    "all_crispr = set(crispr_df.Gene)"
   ]
  },
  {
   "cell_type": "code",
   "execution_count": 37,
   "id": "9968fcae",
   "metadata": {
    "scrolled": true
   },
   "outputs": [
    {
     "name": "stdout",
     "output_type": "stream",
     "text": [
      "Antiviral in any study : 310\n",
      " Antiviral in any study with PWMs: 17\n",
      " Antiviral in any study with enrichment: {'SRSF10', 'EWSR1'}\n",
      " Antiviral in any study with depletion: {'ELAVL1', 'CNOT4', 'RALY', 'PCBP2', 'FUBP3'}\n",
      " Antiviral in any study with depletion at .1: {'ELAVL1', 'CNOT4', 'DAZAP1', 'TARDBP', 'RALY', 'PCBP2', 'HNRNPA2B1', 'FUBP3'}\n",
      " \n",
      " Proviral in any study : 138\n",
      " Proviral in any study with PWMs: 4\n",
      " Proviral in any study with enrichment: set()\n",
      " Proviral in any study with enrichment at .1: set()\n",
      " Proviral in any study with depletion: {'CNOT4'}\n",
      " \n",
      " Found in any study : 631\n",
      " Found in any study with PWMs: 21\n",
      "\n"
     ]
    }
   ],
   "source": [
    "print(\n",
    "\n",
    "\"Antiviral in any study : {}\\n\".format(len(all_av)),\n",
    "\"Antiviral in any study with PWMs: {}\\n\".format(sum((crispr_df.antiviral) & (crispr_df.in_RBP_db))),\n",
    "\"Antiviral in any study with enrichment: {}\\n\".format(all_up.intersection(all_av)),\n",
    "\"Antiviral in any study with depletion: {}\\n\".format(all_dn.intersection(all_av)),\n",
    "\"Antiviral in any study with depletion at .1: {}\\n\".format(all_dn1.intersection(all_av)),\n",
    "\n",
    "\"\\n\",\n",
    "\n",
    "\"Proviral in any study : {}\\n\".format(len(all_pv)),\n",
    "\"Proviral in any study with PWMs: {}\\n\".format(sum((crispr_df.proviral) & (crispr_df.in_RBP_db))),\n",
    "\"Proviral in any study with enrichment: {}\\n\".format(all_up.intersection(all_pv)),\n",
    "\"Proviral in any study with enrichment at .1: {}\\n\".format(all_up1.intersection(all_pv)),\n",
    "\"Proviral in any study with depletion: {}\\n\".format(all_dn.intersection(all_pv)),\n",
    "\n",
    "\"\\n\",\n",
    "\n",
    "\"Found in any study : {}\\n\".format(len(all_crispr)),\n",
    "\"Found in any study with PWMs: {}\\n\".format(len(crispr_df[crispr_df.in_RBP_db]))\n",
    ")"
   ]
  },
  {
   "cell_type": "code",
   "execution_count": 40,
   "id": "bb1fb170",
   "metadata": {
    "scrolled": true
   },
   "outputs": [
    {
     "data": {
      "text/html": [
       "<div>\n",
       "<style scoped>\n",
       "    .dataframe tbody tr th:only-of-type {\n",
       "        vertical-align: middle;\n",
       "    }\n",
       "\n",
       "    .dataframe tbody tr th {\n",
       "        vertical-align: top;\n",
       "    }\n",
       "\n",
       "    .dataframe thead th {\n",
       "        text-align: right;\n",
       "    }\n",
       "</style>\n",
       "<table border=\"1\" class=\"dataframe\">\n",
       "  <thead>\n",
       "    <tr style=\"text-align: right;\">\n",
       "      <th></th>\n",
       "      <th>RBP</th>\n",
       "      <th>Matrix_id</th>\n",
       "      <th>fc</th>\n",
       "    </tr>\n",
       "  </thead>\n",
       "  <tbody>\n",
       "    <tr>\n",
       "      <th>368</th>\n",
       "      <td>ELAVL1</td>\n",
       "      <td>M232_0.6</td>\n",
       "      <td>0.163639</td>\n",
       "    </tr>\n",
       "    <tr>\n",
       "      <th>502</th>\n",
       "      <td>RALY</td>\n",
       "      <td>M150_0.6</td>\n",
       "      <td>0.164745</td>\n",
       "    </tr>\n",
       "    <tr>\n",
       "      <th>442</th>\n",
       "      <td>DAZAP1</td>\n",
       "      <td>M013_0.6</td>\n",
       "      <td>0.288795</td>\n",
       "    </tr>\n",
       "    <tr>\n",
       "      <th>548</th>\n",
       "      <td>HNRNPA2B1</td>\n",
       "      <td>encode_HNRNPA2B1_1</td>\n",
       "      <td>0.438596</td>\n",
       "    </tr>\n",
       "    <tr>\n",
       "      <th>324</th>\n",
       "      <td>ELAVL1</td>\n",
       "      <td>s101</td>\n",
       "      <td>0.547859</td>\n",
       "    </tr>\n",
       "    <tr>\n",
       "      <th>561</th>\n",
       "      <td>PCBP2</td>\n",
       "      <td>encode_PCBP2_2</td>\n",
       "      <td>0.604254</td>\n",
       "    </tr>\n",
       "    <tr>\n",
       "      <th>539</th>\n",
       "      <td>CNOT4</td>\n",
       "      <td>encode_CNOT4_1</td>\n",
       "      <td>0.702702</td>\n",
       "    </tr>\n",
       "    <tr>\n",
       "      <th>292</th>\n",
       "      <td>FUBP3</td>\n",
       "      <td>encode_FUBP3_2</td>\n",
       "      <td>0.718137</td>\n",
       "    </tr>\n",
       "    <tr>\n",
       "      <th>320</th>\n",
       "      <td>TARDBP</td>\n",
       "      <td>encode_TARDBP_1</td>\n",
       "      <td>0.783209</td>\n",
       "    </tr>\n",
       "  </tbody>\n",
       "</table>\n",
       "</div>"
      ],
      "text/plain": [
       "           RBP           Matrix_id        fc\n",
       "368     ELAVL1            M232_0.6  0.163639\n",
       "502       RALY            M150_0.6  0.164745\n",
       "442     DAZAP1            M013_0.6  0.288795\n",
       "548  HNRNPA2B1  encode_HNRNPA2B1_1  0.438596\n",
       "324     ELAVL1                s101  0.547859\n",
       "561      PCBP2      encode_PCBP2_2  0.604254\n",
       "539      CNOT4      encode_CNOT4_1  0.702702\n",
       "292      FUBP3      encode_FUBP3_2  0.718137\n",
       "320     TARDBP     encode_TARDBP_1  0.783209"
      ]
     },
     "execution_count": 40,
     "metadata": {},
     "output_type": "execute_result"
    }
   ],
   "source": [
    "# Antiviral and depleted\n",
    "enr.loc[(enr.Gene_name.isin(all_av)) & (enr.sig1) & (enr.dir=='dn'), \n",
    "        ['RBP', 'Matrix_id', 'fc']].sort_values('fc')"
   ]
  },
  {
   "cell_type": "code",
   "execution_count": 30,
   "id": "df1cf261",
   "metadata": {},
   "outputs": [
    {
     "data": {
      "image/png": "[encoded data removed]",
      "text/plain": [
       "<IPython.core.display.Image object>"
      ]
     },
     "execution_count": 30,
     "metadata": {},
     "output_type": "execute_result"
    }
   ],
   "source": [
    "smeagol.visualize.plot_pwm(pwms, 'M150_0.6', 5)"
   ]
  },
  {
   "cell_type": "code",
   "execution_count": 31,
   "id": "d1ee919e",
   "metadata": {
    "scrolled": true
   },
   "outputs": [
    {
     "data": {
      "image/png": "[encoded data removed]",
      "text/plain": [
       "<IPython.core.display.Image object>"
      ]
     },
     "execution_count": 31,
     "metadata": {},
     "output_type": "execute_result"
    }
   ],
   "source": [
    "smeagol.visualize.plot_pwm(pwms, 'encode_FUBP3_2', 5)"
   ]
  },
  {
   "cell_type": "code",
   "execution_count": 32,
   "id": "3c67ed7e",
   "metadata": {
    "scrolled": true
   },
   "outputs": [
    {
     "data": {
      "image/png": "[encoded data removed]",
      "text/plain": [
       "<IPython.core.display.Image object>"
      ]
     },
     "execution_count": 32,
     "metadata": {},
     "output_type": "execute_result"
    }
   ],
   "source": [
    "smeagol.visualize.plot_pwm(pwms, 's101', 5)"
   ]
  },
  {
   "cell_type": "code",
   "execution_count": 33,
   "id": "b6f9b1e9",
   "metadata": {
    "scrolled": true
   },
   "outputs": [
    {
     "data": {
      "image/png": "[encoded data removed]",
      "text/plain": [
       "<IPython.core.display.Image object>"
      ]
     },
     "execution_count": 33,
     "metadata": {},
     "output_type": "execute_result"
    }
   ],
   "source": [
    "smeagol.visualize.plot_pwm(pwms, 'encode_PCBP2_2', 5)"
   ]
  },
  {
   "cell_type": "code",
   "execution_count": 34,
   "id": "90232453",
   "metadata": {},
   "outputs": [
    {
     "data": {
      "image/png": "[encoded data removed]",
      "text/plain": [
       "<IPython.core.display.Image object>"
      ]
     },
     "execution_count": 34,
     "metadata": {},
     "output_type": "execute_result"
    }
   ],
   "source": [
    "smeagol.visualize.plot_pwm(pwms, 'encode_HNRNPA2B1_1', 5)"
   ]
  },
  {
   "cell_type": "code",
   "execution_count": 35,
   "id": "29a646a3",
   "metadata": {
    "scrolled": true
   },
   "outputs": [
    {
     "data": {
      "image/png": "[encoded data removed]",
      "text/plain": [
       "<IPython.core.display.Image object>"
      ]
     },
     "execution_count": 35,
     "metadata": {},
     "output_type": "execute_result"
    }
   ],
   "source": [
    "smeagol.visualize.plot_pwm(pwms, 'encode_TARDBP_1', 5)"
   ]
  },
  {
   "cell_type": "code",
   "execution_count": 36,
   "id": "c87e0f72",
   "metadata": {},
   "outputs": [
    {
     "data": {
      "image/png": "[encoded data removed]",
      "text/plain": [
       "<IPython.core.display.Image object>"
      ]
     },
     "execution_count": 36,
     "metadata": {},
     "output_type": "execute_result"
    }
   ],
   "source": [
    "smeagol.visualize.plot_pwm(pwms, 'M013_0.6', 5)"
   ]
  },
  {
   "cell_type": "code",
   "execution_count": 37,
   "id": "d6ae9b6a",
   "metadata": {},
   "outputs": [
    {
     "data": {
      "image/png": "[encoded data removed]",
      "text/plain": [
       "<IPython.core.display.Image object>"
      ]
     },
     "execution_count": 37,
     "metadata": {},
     "output_type": "execute_result"
    }
   ],
   "source": [
    "smeagol.visualize.plot_pwm(pwms, '75', 5)"
   ]
  },
  {
   "cell_type": "markdown",
   "id": "80baad23",
   "metadata": {},
   "source": [
    "### Novel findings"
   ]
  },
  {
   "cell_type": "code",
   "execution_count": 52,
   "id": "55575c72",
   "metadata": {},
   "outputs": [],
   "source": [
    "enr['binder'] = enr.RBP.isin(all_validated)\n",
    "uenr['binder'] = uenr.RBP.isin(all_validated)\n",
    "enr['in_crispr'] = enr.RBP.isin(all_crispr)\n",
    "uenr['in_crispr'] = uenr.RBP.isin(all_crispr)\n",
    "enr['proviral'] = enr.RBP.isin(all_pv)\n",
    "enr['antiviral'] = enr.RBP.isin(all_av)\n",
    "uenr['proviral'] = uenr.RBP.isin(all_pv)\n",
    "uenr['antiviral'] = uenr.RBP.isin(all_av)"
   ]
  },
  {
   "cell_type": "code",
   "execution_count": 55,
   "id": "e19feb82",
   "metadata": {
    "scrolled": false
   },
   "outputs": [
    {
     "data": {
      "text/html": [
       "<div>\n",
       "<style scoped>\n",
       "    .dataframe tbody tr th:only-of-type {\n",
       "        vertical-align: middle;\n",
       "    }\n",
       "\n",
       "    .dataframe tbody tr th {\n",
       "        vertical-align: top;\n",
       "    }\n",
       "\n",
       "    .dataframe thead th {\n",
       "        text-align: right;\n",
       "    }\n",
       "</style>\n",
       "<table border=\"1\" class=\"dataframe\">\n",
       "  <thead>\n",
       "    <tr style=\"text-align: right;\">\n",
       "      <th></th>\n",
       "      <th>RBP</th>\n",
       "      <th>Matrix_id</th>\n",
       "      <th>num</th>\n",
       "      <th>avg</th>\n",
       "      <th>fc</th>\n",
       "      <th>binder</th>\n",
       "    </tr>\n",
       "  </thead>\n",
       "  <tbody>\n",
       "    <tr>\n",
       "      <th>340</th>\n",
       "      <td>SRSF2</td>\n",
       "      <td>s57</td>\n",
       "      <td>4.0</td>\n",
       "      <td>0.341</td>\n",
       "      <td>11.730205</td>\n",
       "      <td>False</td>\n",
       "    </tr>\n",
       "  </tbody>\n",
       "</table>\n",
       "</div>"
      ],
      "text/plain": [
       "       RBP Matrix_id  num    avg         fc  binder\n",
       "340  SRSF2       s57  4.0  0.341  11.730205   False"
      ]
     },
     "execution_count": 55,
     "metadata": {},
     "output_type": "execute_result"
    }
   ],
   "source": [
    "# RBPs which are clearly enriched, not found in screens\n",
    "enr_novel_hits = enr[(enr.sense=='+') & (enr.sig05) & (enr.dir=='up') & (enr.fc >= 2) & \\\n",
    "                    (~enr.in_crispr) & (~enr.RBP.isin(all_dn))]\n",
    "enr_novel_hits[['RBP', 'Matrix_id', 'num', 'avg', 'fc', 'binder']]"
   ]
  },
  {
   "cell_type": "code",
   "execution_count": 77,
   "id": "6d1a4d83",
   "metadata": {
    "scrolled": true
   },
   "outputs": [
    {
     "data": {
      "text/html": [
       "<div>\n",
       "<style scoped>\n",
       "    .dataframe tbody tr th:only-of-type {\n",
       "        vertical-align: middle;\n",
       "    }\n",
       "\n",
       "    .dataframe tbody tr th {\n",
       "        vertical-align: top;\n",
       "    }\n",
       "\n",
       "    .dataframe thead th {\n",
       "        text-align: right;\n",
       "    }\n",
       "</style>\n",
       "<table border=\"1\" class=\"dataframe\">\n",
       "  <thead>\n",
       "    <tr style=\"text-align: right;\">\n",
       "      <th></th>\n",
       "      <th>RBP</th>\n",
       "      <th>Matrix_id</th>\n",
       "      <th>region</th>\n",
       "      <th>num</th>\n",
       "      <th>avg</th>\n",
       "      <th>fc</th>\n",
       "      <th>binder</th>\n",
       "    </tr>\n",
       "  </thead>\n",
       "  <tbody>\n",
       "    <tr>\n",
       "      <th>25857</th>\n",
       "      <td>SART3</td>\n",
       "      <td>M062_0.6</td>\n",
       "      <td>three_prime_UTR</td>\n",
       "      <td>28.0</td>\n",
       "      <td>1.951</td>\n",
       "      <td>14.351615</td>\n",
       "      <td>False</td>\n",
       "    </tr>\n",
       "    <tr>\n",
       "      <th>25875</th>\n",
       "      <td>PABPC1</td>\n",
       "      <td>M146_0.6</td>\n",
       "      <td>three_prime_UTR</td>\n",
       "      <td>28.0</td>\n",
       "      <td>1.951</td>\n",
       "      <td>14.351615</td>\n",
       "      <td>True</td>\n",
       "    </tr>\n",
       "    <tr>\n",
       "      <th>25927</th>\n",
       "      <td>NUPL2</td>\n",
       "      <td>encode_NUPL2_1</td>\n",
       "      <td>three_prime_UTR</td>\n",
       "      <td>27.0</td>\n",
       "      <td>2.540</td>\n",
       "      <td>10.629921</td>\n",
       "      <td>False</td>\n",
       "    </tr>\n",
       "    <tr>\n",
       "      <th>26449</th>\n",
       "      <td>ZRANB2</td>\n",
       "      <td>s21</td>\n",
       "      <td>five_prime_UTR</td>\n",
       "      <td>4.0</td>\n",
       "      <td>0.248</td>\n",
       "      <td>16.129032</td>\n",
       "      <td>False</td>\n",
       "    </tr>\n",
       "  </tbody>\n",
       "</table>\n",
       "</div>"
      ],
      "text/plain": [
       "          RBP       Matrix_id           region   num    avg         fc  binder\n",
       "25857   SART3        M062_0.6  three_prime_UTR  28.0  1.951  14.351615   False\n",
       "25875  PABPC1        M146_0.6  three_prime_UTR  28.0  1.951  14.351615    True\n",
       "25927   NUPL2  encode_NUPL2_1  three_prime_UTR  27.0  2.540  10.629921   False\n",
       "26449  ZRANB2             s21   five_prime_UTR   4.0  0.248  16.129032   False"
      ]
     },
     "execution_count": 77,
     "metadata": {},
     "output_type": "execute_result"
    }
   ],
   "source": [
    "uenr_novel_hits = uenr[(uenr.sig05) & (uenr.dir=='up') & (uenr.fc >= 2) & \\\n",
    "                 (~uenr.in_crispr) & (~uenr.RBP.isin(all_dn1))]\n",
    "uenr_novel_hits[['RBP', 'Matrix_id', 'region', 'num', 'avg', 'fc', 'binder']]"
   ]
  },
  {
   "cell_type": "code",
   "execution_count": 78,
   "id": "0e85da05",
   "metadata": {
    "scrolled": true
   },
   "outputs": [
    {
     "data": {
      "text/html": [
       "<div>\n",
       "<style scoped>\n",
       "    .dataframe tbody tr th:only-of-type {\n",
       "        vertical-align: middle;\n",
       "    }\n",
       "\n",
       "    .dataframe tbody tr th {\n",
       "        vertical-align: top;\n",
       "    }\n",
       "\n",
       "    .dataframe thead th {\n",
       "        text-align: right;\n",
       "    }\n",
       "</style>\n",
       "<table border=\"1\" class=\"dataframe\">\n",
       "  <thead>\n",
       "    <tr style=\"text-align: right;\">\n",
       "      <th></th>\n",
       "      <th>RBP</th>\n",
       "      <th>Matrix_id</th>\n",
       "      <th>num</th>\n",
       "      <th>avg</th>\n",
       "      <th>fc</th>\n",
       "      <th>binder</th>\n",
       "    </tr>\n",
       "  </thead>\n",
       "  <tbody>\n",
       "    <tr>\n",
       "      <th>32</th>\n",
       "      <td>HNRNPK</td>\n",
       "      <td>encode_HNRNPK_1</td>\n",
       "      <td>3.0</td>\n",
       "      <td>11.533</td>\n",
       "      <td>0.260123</td>\n",
       "      <td>False</td>\n",
       "    </tr>\n",
       "    <tr>\n",
       "      <th>166</th>\n",
       "      <td>U2AF2</td>\n",
       "      <td>M077_0.6</td>\n",
       "      <td>14.0</td>\n",
       "      <td>30.452</td>\n",
       "      <td>0.459740</td>\n",
       "      <td>False</td>\n",
       "    </tr>\n",
       "    <tr>\n",
       "      <th>192</th>\n",
       "      <td>RBFOX2</td>\n",
       "      <td>encode_RBFOX2_1</td>\n",
       "      <td>15.0</td>\n",
       "      <td>31.152</td>\n",
       "      <td>0.481510</td>\n",
       "      <td>False</td>\n",
       "    </tr>\n",
       "    <tr>\n",
       "      <th>194</th>\n",
       "      <td>RBFOX3</td>\n",
       "      <td>encode_RBFOX3_1</td>\n",
       "      <td>15.0</td>\n",
       "      <td>31.152</td>\n",
       "      <td>0.481510</td>\n",
       "      <td>False</td>\n",
       "    </tr>\n",
       "    <tr>\n",
       "      <th>450</th>\n",
       "      <td>HNRNPC</td>\n",
       "      <td>M025_0.6</td>\n",
       "      <td>17.0</td>\n",
       "      <td>43.979</td>\n",
       "      <td>0.386548</td>\n",
       "      <td>True</td>\n",
       "    </tr>\n",
       "    <tr>\n",
       "      <th>500</th>\n",
       "      <td>CPEB4</td>\n",
       "      <td>M149_0.6</td>\n",
       "      <td>6.0</td>\n",
       "      <td>40.491</td>\n",
       "      <td>0.148181</td>\n",
       "      <td>True</td>\n",
       "    </tr>\n",
       "    <tr>\n",
       "      <th>506</th>\n",
       "      <td>HNRNPCL1</td>\n",
       "      <td>M158_0.6</td>\n",
       "      <td>17.0</td>\n",
       "      <td>43.979</td>\n",
       "      <td>0.386548</td>\n",
       "      <td>False</td>\n",
       "    </tr>\n",
       "    <tr>\n",
       "      <th>508</th>\n",
       "      <td>RBFOX1</td>\n",
       "      <td>M159_0.6</td>\n",
       "      <td>7.0</td>\n",
       "      <td>18.076</td>\n",
       "      <td>0.387254</td>\n",
       "      <td>False</td>\n",
       "    </tr>\n",
       "    <tr>\n",
       "      <th>574</th>\n",
       "      <td>RBM25</td>\n",
       "      <td>encode_RBM25_1</td>\n",
       "      <td>10.0</td>\n",
       "      <td>25.282</td>\n",
       "      <td>0.395538</td>\n",
       "      <td>False</td>\n",
       "    </tr>\n",
       "    <tr>\n",
       "      <th>618</th>\n",
       "      <td>HNRNPA1</td>\n",
       "      <td>s32</td>\n",
       "      <td>9.0</td>\n",
       "      <td>23.545</td>\n",
       "      <td>0.382247</td>\n",
       "      <td>True</td>\n",
       "    </tr>\n",
       "    <tr>\n",
       "      <th>648</th>\n",
       "      <td>RBFOX1</td>\n",
       "      <td>s92</td>\n",
       "      <td>10.0</td>\n",
       "      <td>23.020</td>\n",
       "      <td>0.434405</td>\n",
       "      <td>False</td>\n",
       "    </tr>\n",
       "  </tbody>\n",
       "</table>\n",
       "</div>"
      ],
      "text/plain": [
       "          RBP        Matrix_id   num     avg        fc  binder\n",
       "32     HNRNPK  encode_HNRNPK_1   3.0  11.533  0.260123   False\n",
       "166     U2AF2         M077_0.6  14.0  30.452  0.459740   False\n",
       "192    RBFOX2  encode_RBFOX2_1  15.0  31.152  0.481510   False\n",
       "194    RBFOX3  encode_RBFOX3_1  15.0  31.152  0.481510   False\n",
       "450    HNRNPC         M025_0.6  17.0  43.979  0.386548    True\n",
       "500     CPEB4         M149_0.6   6.0  40.491  0.148181    True\n",
       "506  HNRNPCL1         M158_0.6  17.0  43.979  0.386548   False\n",
       "508    RBFOX1         M159_0.6   7.0  18.076  0.387254   False\n",
       "574     RBM25   encode_RBM25_1  10.0  25.282  0.395538   False\n",
       "618   HNRNPA1              s32   9.0  23.545  0.382247    True\n",
       "648    RBFOX1              s92  10.0  23.020  0.434405   False"
      ]
     },
     "execution_count": 78,
     "metadata": {},
     "output_type": "execute_result"
    }
   ],
   "source": [
    "#Clearly Depleted, not found in screens\n",
    "dep_novel_hits = enr[(enr.sense=='+') & (enr.sig05) & (enr.dir=='dn') & (enr.fc <= 0.5) &\n",
    "               (~enr.in_crispr) & (~enr.RBP.isin(all_up1))]\n",
    "dep_novel_hits[['RBP', 'Matrix_id', 'num', 'avg', 'fc', 'binder']]"
   ]
  },
  {
   "cell_type": "code",
   "execution_count": 61,
   "id": "e70fc62c",
   "metadata": {
    "scrolled": true
   },
   "outputs": [
    {
     "data": {
      "text/plain": [
       "{'CPEB4',\n",
       " 'HNRNPA1',\n",
       " 'HNRNPC',\n",
       " 'HNRNPCL1',\n",
       " 'HNRNPK',\n",
       " 'MSI1',\n",
       " 'RBFOX1',\n",
       " 'RBFOX2',\n",
       " 'RBFOX3',\n",
       " 'RBM25',\n",
       " 'U2AF2'}"
      ]
     },
     "execution_count": 61,
     "metadata": {},
     "output_type": "execute_result"
    }
   ],
   "source": [
    "set(dep_novel_hits.RBP)"
   ]
  },
  {
   "cell_type": "markdown",
   "id": "218b7679",
   "metadata": {},
   "source": [
    "### Compare to other coronaviruses"
   ]
  },
  {
   "cell_type": "code",
   "execution_count": 62,
   "id": "b782ee14",
   "metadata": {},
   "outputs": [],
   "source": [
    "cov_pos_up = set(cov_enr.RBP[(cov_enr.sig05) & (cov_enr.sense=='+') & (cov_enr.dir=='up')])\n",
    "cov_pos_dn = set(cov_enr.RBP[(cov_enr.sig05) & (cov_enr.sense=='+') & (cov_enr.dir=='dn')])\n",
    "cov_neg_up = set(cov_enr.RBP[(cov_enr.sig05) & (cov_enr.sense=='-') & (cov_enr.dir=='up')])\n",
    "cov_neg_dn = set(cov_enr.RBP[(cov_enr.sig05) & (cov_enr.sense=='-') & (cov_enr.dir=='dn')])"
   ]
  },
  {
   "cell_type": "code",
   "execution_count": 63,
   "id": "29c63a40",
   "metadata": {},
   "outputs": [
    {
     "name": "stdout",
     "output_type": "stream",
     "text": [
      "{'YBX1'}\n",
      "set()\n",
      "{'SFPQ'}\n",
      "{'ZCRB1'}\n"
     ]
    }
   ],
   "source": [
    "print(pos_up.difference(cov_pos_up))\n",
    "print(pos_dn.difference(cov_pos_dn))\n",
    "print(neg_up.difference(cov_neg_up))\n",
    "print(neg_dn.difference(cov_neg_dn))"
   ]
  },
  {
   "cell_type": "code",
   "execution_count": 64,
   "id": "7fdd17c0",
   "metadata": {
    "scrolled": true
   },
   "outputs": [
    {
     "data": {
      "text/plain": [
       "{'YBX1'}"
      ]
     },
     "execution_count": 64,
     "metadata": {},
     "output_type": "execute_result"
    }
   ],
   "source": [
    "set(['YBX1', 'SFPQ', 'ZCRB1']).intersection(all_validated)"
   ]
  },
  {
   "cell_type": "code",
   "execution_count": 65,
   "id": "e31e9dcb",
   "metadata": {},
   "outputs": [
    {
     "data": {
      "text/html": [
       "<div>\n",
       "<style scoped>\n",
       "    .dataframe tbody tr th:only-of-type {\n",
       "        vertical-align: middle;\n",
       "    }\n",
       "\n",
       "    .dataframe tbody tr th {\n",
       "        vertical-align: top;\n",
       "    }\n",
       "\n",
       "    .dataframe thead th {\n",
       "        text-align: right;\n",
       "    }\n",
       "</style>\n",
       "<table border=\"1\" class=\"dataframe\">\n",
       "  <thead>\n",
       "    <tr style=\"text-align: right;\">\n",
       "      <th></th>\n",
       "      <th>RBP</th>\n",
       "      <th>Matrix_id</th>\n",
       "      <th>num</th>\n",
       "      <th>avg</th>\n",
       "      <th>fc</th>\n",
       "      <th>binder</th>\n",
       "    </tr>\n",
       "  </thead>\n",
       "  <tbody>\n",
       "    <tr>\n",
       "      <th>106</th>\n",
       "      <td>YBX1</td>\n",
       "      <td>s54</td>\n",
       "      <td>193.0</td>\n",
       "      <td>155.690</td>\n",
       "      <td>1.239643</td>\n",
       "      <td>True</td>\n",
       "    </tr>\n",
       "    <tr>\n",
       "      <th>107</th>\n",
       "      <td>YBX1</td>\n",
       "      <td>s54</td>\n",
       "      <td>327.0</td>\n",
       "      <td>212.420</td>\n",
       "      <td>1.539403</td>\n",
       "      <td>True</td>\n",
       "    </tr>\n",
       "    <tr>\n",
       "      <th>277</th>\n",
       "      <td>YBX1</td>\n",
       "      <td>M081_0.6</td>\n",
       "      <td>34.0</td>\n",
       "      <td>16.007</td>\n",
       "      <td>2.124071</td>\n",
       "      <td>True</td>\n",
       "    </tr>\n",
       "    <tr>\n",
       "      <th>489</th>\n",
       "      <td>YBX1</td>\n",
       "      <td>M111_0.6</td>\n",
       "      <td>51.0</td>\n",
       "      <td>18.646</td>\n",
       "      <td>2.735171</td>\n",
       "      <td>True</td>\n",
       "    </tr>\n",
       "  </tbody>\n",
       "</table>\n",
       "</div>"
      ],
      "text/plain": [
       "      RBP Matrix_id    num      avg        fc  binder\n",
       "106  YBX1       s54  193.0  155.690  1.239643    True\n",
       "107  YBX1       s54  327.0  212.420  1.539403    True\n",
       "277  YBX1  M081_0.6   34.0   16.007  2.124071    True\n",
       "489  YBX1  M111_0.6   51.0   18.646  2.735171    True"
      ]
     },
     "execution_count": 65,
     "metadata": {},
     "output_type": "execute_result"
    }
   ],
   "source": [
    "enr.loc[(enr.Gene_name=='YBX1') & (enr.sig05), \n",
    "        ['RBP', 'Matrix_id', 'num', 'avg', 'fc', 'binder']]"
   ]
  },
  {
   "cell_type": "code",
   "execution_count": 66,
   "id": "5205f038",
   "metadata": {
    "scrolled": true
   },
   "outputs": [
    {
     "data": {
      "image/png": "[encoded data removed]",
      "text/plain": [
       "<IPython.core.display.Image object>"
      ]
     },
     "execution_count": 66,
     "metadata": {},
     "output_type": "execute_result"
    }
   ],
   "source": [
    "smeagol.visualize.plot_pwm(pwms, 'M111_0.6', 6)"
   ]
  },
  {
   "cell_type": "markdown",
   "id": "d68c2523",
   "metadata": {},
   "source": [
    "## Analyze variant effects"
   ]
  },
  {
   "cell_type": "code",
   "execution_count": 79,
   "id": "f7fd97bd",
   "metadata": {},
   "outputs": [],
   "source": [
    "# Select PWMs based on the following criteria:\n",
    "## (Clearly, strongly depleted novel hits OR antiviral with predicted sites on the + genome)\n",
    "## AND fewer than 10 binding sites on the + sense genome\n",
    "\n",
    "strong_dep_mats = set(dep_novel_hits.Matrix_id[dep_novel_hits.fc <= .5])\n",
    "av_with_sites_mats = set(enr.Matrix_id[(enr.antiviral) & (enr.sense=='+') & (~enr.proviral)])\n",
    "few_sites_mats = set(enr.Matrix_id[(enr.sense=='+') & (enr.num<10) & (enr.num>0)])\n",
    "\n",
    "select_mats = (strong_dep_mats.union(av_with_sites_mats)).intersection(few_sites_mats)"
   ]
  },
  {
   "cell_type": "code",
   "execution_count": 80,
   "id": "527bc614",
   "metadata": {
    "scrolled": false
   },
   "outputs": [
    {
     "data": {
      "text/html": [
       "<div>\n",
       "<style scoped>\n",
       "    .dataframe tbody tr th:only-of-type {\n",
       "        vertical-align: middle;\n",
       "    }\n",
       "\n",
       "    .dataframe tbody tr th {\n",
       "        vertical-align: top;\n",
       "    }\n",
       "\n",
       "    .dataframe thead th {\n",
       "        text-align: right;\n",
       "    }\n",
       "</style>\n",
       "<table border=\"1\" class=\"dataframe\">\n",
       "  <thead>\n",
       "    <tr style=\"text-align: right;\">\n",
       "      <th></th>\n",
       "      <th>RBP</th>\n",
       "      <th>Matrix_id</th>\n",
       "      <th>num</th>\n",
       "      <th>avg</th>\n",
       "      <th>fc</th>\n",
       "      <th>binder</th>\n",
       "      <th>antiviral</th>\n",
       "      <th>in_crispr</th>\n",
       "    </tr>\n",
       "  </thead>\n",
       "  <tbody>\n",
       "    <tr>\n",
       "      <th>32</th>\n",
       "      <td>HNRNPK</td>\n",
       "      <td>encode_HNRNPK_1</td>\n",
       "      <td>3.0</td>\n",
       "      <td>11.533</td>\n",
       "      <td>0.260123</td>\n",
       "      <td>False</td>\n",
       "      <td>False</td>\n",
       "      <td>False</td>\n",
       "    </tr>\n",
       "    <tr>\n",
       "      <th>242</th>\n",
       "      <td>SRSF7</td>\n",
       "      <td>M071_0.6</td>\n",
       "      <td>2.0</td>\n",
       "      <td>0.789</td>\n",
       "      <td>2.534854</td>\n",
       "      <td>False</td>\n",
       "      <td>True</td>\n",
       "      <td>True</td>\n",
       "    </tr>\n",
       "    <tr>\n",
       "      <th>368</th>\n",
       "      <td>ELAVL1</td>\n",
       "      <td>M232_0.6</td>\n",
       "      <td>4.0</td>\n",
       "      <td>24.444</td>\n",
       "      <td>0.163639</td>\n",
       "      <td>True</td>\n",
       "      <td>True</td>\n",
       "      <td>True</td>\n",
       "    </tr>\n",
       "    <tr>\n",
       "      <th>402</th>\n",
       "      <td>PCBP2</td>\n",
       "      <td>M043_0.6</td>\n",
       "      <td>4.0</td>\n",
       "      <td>3.863</td>\n",
       "      <td>1.035465</td>\n",
       "      <td>True</td>\n",
       "      <td>True</td>\n",
       "      <td>True</td>\n",
       "    </tr>\n",
       "    <tr>\n",
       "      <th>442</th>\n",
       "      <td>DAZAP1</td>\n",
       "      <td>M013_0.6</td>\n",
       "      <td>3.0</td>\n",
       "      <td>10.388</td>\n",
       "      <td>0.288795</td>\n",
       "      <td>True</td>\n",
       "      <td>True</td>\n",
       "      <td>True</td>\n",
       "    </tr>\n",
       "    <tr>\n",
       "      <th>448</th>\n",
       "      <td>HNRNPA2B1</td>\n",
       "      <td>M024_0.6</td>\n",
       "      <td>3.0</td>\n",
       "      <td>9.866</td>\n",
       "      <td>0.304075</td>\n",
       "      <td>True</td>\n",
       "      <td>True</td>\n",
       "      <td>True</td>\n",
       "    </tr>\n",
       "    <tr>\n",
       "      <th>500</th>\n",
       "      <td>CPEB4</td>\n",
       "      <td>M149_0.6</td>\n",
       "      <td>6.0</td>\n",
       "      <td>40.491</td>\n",
       "      <td>0.148181</td>\n",
       "      <td>True</td>\n",
       "      <td>False</td>\n",
       "      <td>False</td>\n",
       "    </tr>\n",
       "    <tr>\n",
       "      <th>502</th>\n",
       "      <td>RALY</td>\n",
       "      <td>M150_0.6</td>\n",
       "      <td>5.0</td>\n",
       "      <td>30.350</td>\n",
       "      <td>0.164745</td>\n",
       "      <td>True</td>\n",
       "      <td>True</td>\n",
       "      <td>True</td>\n",
       "    </tr>\n",
       "    <tr>\n",
       "      <th>508</th>\n",
       "      <td>RBFOX1</td>\n",
       "      <td>M159_0.6</td>\n",
       "      <td>7.0</td>\n",
       "      <td>18.076</td>\n",
       "      <td>0.387254</td>\n",
       "      <td>False</td>\n",
       "      <td>False</td>\n",
       "      <td>False</td>\n",
       "    </tr>\n",
       "    <tr>\n",
       "      <th>548</th>\n",
       "      <td>HNRNPA2B1</td>\n",
       "      <td>encode_HNRNPA2B1_1</td>\n",
       "      <td>8.0</td>\n",
       "      <td>18.240</td>\n",
       "      <td>0.438596</td>\n",
       "      <td>True</td>\n",
       "      <td>True</td>\n",
       "      <td>True</td>\n",
       "    </tr>\n",
       "    <tr>\n",
       "      <th>618</th>\n",
       "      <td>HNRNPA1</td>\n",
       "      <td>s32</td>\n",
       "      <td>9.0</td>\n",
       "      <td>23.545</td>\n",
       "      <td>0.382247</td>\n",
       "      <td>True</td>\n",
       "      <td>False</td>\n",
       "      <td>False</td>\n",
       "    </tr>\n",
       "  </tbody>\n",
       "</table>\n",
       "</div>"
      ],
      "text/plain": [
       "           RBP           Matrix_id  num     avg        fc  binder  antiviral  \\\n",
       "32      HNRNPK     encode_HNRNPK_1  3.0  11.533  0.260123   False      False   \n",
       "242      SRSF7            M071_0.6  2.0   0.789  2.534854   False       True   \n",
       "368     ELAVL1            M232_0.6  4.0  24.444  0.163639    True       True   \n",
       "402      PCBP2            M043_0.6  4.0   3.863  1.035465    True       True   \n",
       "442     DAZAP1            M013_0.6  3.0  10.388  0.288795    True       True   \n",
       "448  HNRNPA2B1            M024_0.6  3.0   9.866  0.304075    True       True   \n",
       "500      CPEB4            M149_0.6  6.0  40.491  0.148181    True      False   \n",
       "502       RALY            M150_0.6  5.0  30.350  0.164745    True       True   \n",
       "508     RBFOX1            M159_0.6  7.0  18.076  0.387254   False      False   \n",
       "548  HNRNPA2B1  encode_HNRNPA2B1_1  8.0  18.240  0.438596    True       True   \n",
       "618    HNRNPA1                 s32  9.0  23.545  0.382247    True      False   \n",
       "\n",
       "     in_crispr  \n",
       "32       False  \n",
       "242       True  \n",
       "368       True  \n",
       "402       True  \n",
       "442       True  \n",
       "448       True  \n",
       "500      False  \n",
       "502       True  \n",
       "508      False  \n",
       "548       True  \n",
       "618      False  "
      ]
     },
     "execution_count": 80,
     "metadata": {},
     "output_type": "execute_result"
    }
   ],
   "source": [
    "enr.loc[(enr.Matrix_id.isin(select_mats)) & (enr.sense=='+'),\n",
    "   ['RBP', 'Matrix_id', 'num', 'avg', 'fc', 'binder', 'antiviral', 'in_crispr']]"
   ]
  },
  {
   "cell_type": "code",
   "execution_count": 81,
   "id": "bc7564a7",
   "metadata": {},
   "outputs": [],
   "source": [
    "select_mats.remove('M024_0.6')"
   ]
  },
  {
   "cell_type": "code",
   "execution_count": 82,
   "id": "b3ddbc81",
   "metadata": {
    "scrolled": true
   },
   "outputs": [
    {
     "data": {
      "text/plain": [
       "{'M013_0.6',\n",
       " 'M043_0.6',\n",
       " 'M071_0.6',\n",
       " 'M149_0.6',\n",
       " 'M150_0.6',\n",
       " 'M159_0.6',\n",
       " 'M232_0.6',\n",
       " 'encode_HNRNPA2B1_1',\n",
       " 'encode_HNRNPK_1',\n",
       " 's32'}"
      ]
     },
     "execution_count": 82,
     "metadata": {},
     "output_type": "execute_result"
    }
   ],
   "source": [
    "select_mats"
   ]
  },
  {
   "cell_type": "code",
   "execution_count": 83,
   "id": "c5ea3cb4",
   "metadata": {
    "scrolled": true
   },
   "outputs": [
    {
     "data": {
      "text/plain": [
       "10"
      ]
     },
     "execution_count": 83,
     "metadata": {},
     "output_type": "execute_result"
    }
   ],
   "source": [
    "len(select_mats)"
   ]
  },
  {
   "cell_type": "code",
   "execution_count": 84,
   "id": "c91f42b4",
   "metadata": {},
   "outputs": [
    {
     "data": {
      "text/plain": [
       "{'DAZAP1', 'ELAVL1', 'HNRNPA2B1', 'PCBP2', 'RALY', 'SRSF7'}"
      ]
     },
     "execution_count": 84,
     "metadata": {},
     "output_type": "execute_result"
    }
   ],
   "source": [
    "set(pwms.Gene_name[pwms.Matrix_id.isin(select_mats)]).intersection(all_av)"
   ]
  },
  {
   "cell_type": "code",
   "execution_count": 85,
   "id": "5417d059",
   "metadata": {},
   "outputs": [
    {
     "data": {
      "text/plain": [
       "51"
      ]
     },
     "execution_count": 85,
     "metadata": {},
     "output_type": "execute_result"
    }
   ],
   "source": [
    "select_sites = sites[(sites.Matrix_id.isin(select_mats)) & (sites.sense=='+')]\n",
    "select_sites.reset_index(drop=True, inplace=True)\n",
    "len(select_sites)"
   ]
  },
  {
   "cell_type": "code",
   "execution_count": 86,
   "id": "a2d68b2b",
   "metadata": {},
   "outputs": [],
   "source": [
    "select_pwms = pwms[pwms.Matrix_id.isin(select_mats)]\n",
    "select_pwms.reset_index(drop=True, inplace=True)"
   ]
  },
  {
   "cell_type": "code",
   "execution_count": 87,
   "id": "7cbb33cd",
   "metadata": {},
   "outputs": [],
   "source": [
    "# Load mutations from GESS\n",
    "all_var = pd.read_csv('../../sars-cov-2/SNV_till20210507_uniq.tsv', sep='\\t')"
   ]
  },
  {
   "cell_type": "code",
   "execution_count": 88,
   "id": "3c32101d",
   "metadata": {},
   "outputs": [],
   "source": [
    "all_var.rename(columns={'alteration': 'alt', 'position':'pos'}, inplace=True)\n",
    "all_var['name'] = 'NC_045512.2'"
   ]
  },
  {
   "cell_type": "code",
   "execution_count": 89,
   "id": "8bc264c6",
   "metadata": {},
   "outputs": [
    {
     "data": {
      "text/plain": [
       "36688"
      ]
     },
     "execution_count": 89,
     "metadata": {},
     "output_type": "execute_result"
    }
   ],
   "source": [
    "len(all_var)"
   ]
  },
  {
   "cell_type": "code",
   "execution_count": 80,
   "id": "94ef9a4c",
   "metadata": {},
   "outputs": [
    {
     "data": {
      "text/html": [
       "<div>\n",
       "<style scoped>\n",
       "    .dataframe tbody tr th:only-of-type {\n",
       "        vertical-align: middle;\n",
       "    }\n",
       "\n",
       "    .dataframe tbody tr th {\n",
       "        vertical-align: top;\n",
       "    }\n",
       "\n",
       "    .dataframe thead th {\n",
       "        text-align: right;\n",
       "    }\n",
       "</style>\n",
       "<table border=\"1\" class=\"dataframe\">\n",
       "  <thead>\n",
       "    <tr style=\"text-align: right;\">\n",
       "      <th></th>\n",
       "      <th>SNV</th>\n",
       "      <th>pos</th>\n",
       "      <th>reference</th>\n",
       "      <th>alt</th>\n",
       "      <th>annotations</th>\n",
       "      <th>location</th>\n",
       "      <th>associated gene</th>\n",
       "      <th>AA</th>\n",
       "      <th>number of samples carrying the SNV</th>\n",
       "      <th>name</th>\n",
       "    </tr>\n",
       "  </thead>\n",
       "  <tbody>\n",
       "    <tr>\n",
       "      <th>0</th>\n",
       "      <td>A23403G</td>\n",
       "      <td>23403</td>\n",
       "      <td>A</td>\n",
       "      <td>G</td>\n",
       "      <td>nonsynonymous_SNV</td>\n",
       "      <td>exonic</td>\n",
       "      <td>S</td>\n",
       "      <td>S:YP_009724390.1:exon1:c.A1841G:p.D614G</td>\n",
       "      <td>143449</td>\n",
       "      <td>NC_045512.2</td>\n",
       "    </tr>\n",
       "    <tr>\n",
       "      <th>1</th>\n",
       "      <td>C3037T</td>\n",
       "      <td>3037</td>\n",
       "      <td>C</td>\n",
       "      <td>T</td>\n",
       "      <td>synonymous_SNV</td>\n",
       "      <td>exonic</td>\n",
       "      <td>ORF1a ORF1ab nsp3</td>\n",
       "      <td>ORF1ab:YP_009724389.1:exon1:c.C2772T:p.F924F,O...</td>\n",
       "      <td>143410</td>\n",
       "      <td>NC_045512.2</td>\n",
       "    </tr>\n",
       "    <tr>\n",
       "      <th>2</th>\n",
       "      <td>C14408T</td>\n",
       "      <td>14408</td>\n",
       "      <td>C</td>\n",
       "      <td>T</td>\n",
       "      <td>nonsynonymous_SNV</td>\n",
       "      <td>exonic</td>\n",
       "      <td>ORF1ab nsp12</td>\n",
       "      <td>ORF1ab:YP_009724389.1:exon2:c.C14144T:p.P4715L...</td>\n",
       "      <td>143343</td>\n",
       "      <td>NC_045512.2</td>\n",
       "    </tr>\n",
       "  </tbody>\n",
       "</table>\n",
       "</div>"
      ],
      "text/plain": [
       "       SNV    pos reference alt        annotations location  \\\n",
       "0  A23403G  23403         A   G  nonsynonymous_SNV   exonic   \n",
       "1   C3037T   3037         C   T     synonymous_SNV   exonic   \n",
       "2  C14408T  14408         C   T  nonsynonymous_SNV   exonic   \n",
       "\n",
       "     associated gene                                                 AA  \\\n",
       "0                  S            S:YP_009724390.1:exon1:c.A1841G:p.D614G   \n",
       "1  ORF1a ORF1ab nsp3  ORF1ab:YP_009724389.1:exon1:c.C2772T:p.F924F,O...   \n",
       "2       ORF1ab nsp12  ORF1ab:YP_009724389.1:exon2:c.C14144T:p.P4715L...   \n",
       "\n",
       "   number of samples carrying the SNV         name  \n",
       "0                              143449  NC_045512.2  \n",
       "1                              143410  NC_045512.2  \n",
       "2                              143343  NC_045512.2  "
      ]
     },
     "execution_count": 80,
     "metadata": {},
     "output_type": "execute_result"
    }
   ],
   "source": [
    "all_var.head(3)"
   ]
  },
  {
   "cell_type": "code",
   "execution_count": 82,
   "id": "e50ad0fc",
   "metadata": {
    "scrolled": false
   },
   "outputs": [
    {
     "data": {
      "text/html": [
       "<div>\n",
       "<style scoped>\n",
       "    .dataframe tbody tr th:only-of-type {\n",
       "        vertical-align: middle;\n",
       "    }\n",
       "\n",
       "    .dataframe tbody tr th {\n",
       "        vertical-align: top;\n",
       "    }\n",
       "\n",
       "    .dataframe thead th {\n",
       "        text-align: right;\n",
       "    }\n",
       "</style>\n",
       "<table border=\"1\" class=\"dataframe\">\n",
       "  <thead>\n",
       "    <tr style=\"text-align: right;\">\n",
       "      <th></th>\n",
       "      <th>SNV</th>\n",
       "      <th>pos</th>\n",
       "      <th>reference</th>\n",
       "      <th>alt</th>\n",
       "      <th>annotations</th>\n",
       "      <th>location</th>\n",
       "      <th>associated gene</th>\n",
       "      <th>AA</th>\n",
       "      <th>number of samples carrying the SNV</th>\n",
       "      <th>name</th>\n",
       "      <th>...</th>\n",
       "      <th>start</th>\n",
       "      <th>Matrix_id</th>\n",
       "      <th>width</th>\n",
       "      <th>end</th>\n",
       "      <th>Gene_name</th>\n",
       "      <th>source</th>\n",
       "      <th>seq</th>\n",
       "      <th>max_score</th>\n",
       "      <th>score</th>\n",
       "      <th>variant_score</th>\n",
       "    </tr>\n",
       "  </thead>\n",
       "  <tbody>\n",
       "    <tr>\n",
       "      <th>0</th>\n",
       "      <td>C19T</td>\n",
       "      <td>19</td>\n",
       "      <td>C</td>\n",
       "      <td>T</td>\n",
       "      <td>.</td>\n",
       "      <td>upstream</td>\n",
       "      <td>ORF1a ORF1ab nsp1 nsp2</td>\n",
       "      <td>.</td>\n",
       "      <td>39</td>\n",
       "      <td>NC_045512.2</td>\n",
       "      <td>...</td>\n",
       "      <td>14</td>\n",
       "      <td>M043_0.6</td>\n",
       "      <td>7</td>\n",
       "      <td>21</td>\n",
       "      <td>PCBP2</td>\n",
       "      <td>Attract</td>\n",
       "      <td>CCTTCCC</td>\n",
       "      <td>10.539042</td>\n",
       "      <td>1.0</td>\n",
       "      <td>0.500554</td>\n",
       "    </tr>\n",
       "    <tr>\n",
       "      <th>1</th>\n",
       "      <td>C20A</td>\n",
       "      <td>20</td>\n",
       "      <td>C</td>\n",
       "      <td>A</td>\n",
       "      <td>.</td>\n",
       "      <td>upstream</td>\n",
       "      <td>ORF1a ORF1ab nsp1 nsp2</td>\n",
       "      <td>.</td>\n",
       "      <td>35</td>\n",
       "      <td>NC_045512.2</td>\n",
       "      <td>...</td>\n",
       "      <td>14</td>\n",
       "      <td>M043_0.6</td>\n",
       "      <td>7</td>\n",
       "      <td>21</td>\n",
       "      <td>PCBP2</td>\n",
       "      <td>Attract</td>\n",
       "      <td>CCTTCCC</td>\n",
       "      <td>10.539042</td>\n",
       "      <td>1.0</td>\n",
       "      <td>0.811619</td>\n",
       "    </tr>\n",
       "    <tr>\n",
       "      <th>2</th>\n",
       "      <td>T18G</td>\n",
       "      <td>18</td>\n",
       "      <td>T</td>\n",
       "      <td>G</td>\n",
       "      <td>.</td>\n",
       "      <td>upstream</td>\n",
       "      <td>ORF1a ORF1ab nsp1 nsp2</td>\n",
       "      <td>.</td>\n",
       "      <td>29</td>\n",
       "      <td>NC_045512.2</td>\n",
       "      <td>...</td>\n",
       "      <td>14</td>\n",
       "      <td>M043_0.6</td>\n",
       "      <td>7</td>\n",
       "      <td>21</td>\n",
       "      <td>PCBP2</td>\n",
       "      <td>Attract</td>\n",
       "      <td>CCTTCCC</td>\n",
       "      <td>10.539042</td>\n",
       "      <td>1.0</td>\n",
       "      <td>0.532421</td>\n",
       "    </tr>\n",
       "  </tbody>\n",
       "</table>\n",
       "<p>3 rows × 22 columns</p>\n",
       "</div>"
      ],
      "text/plain": [
       "    SNV  pos reference alt annotations  location         associated gene AA  \\\n",
       "0  C19T   19         C   T           .  upstream  ORF1a ORF1ab nsp1 nsp2  .   \n",
       "1  C20A   20         C   A           .  upstream  ORF1a ORF1ab nsp1 nsp2  .   \n",
       "2  T18G   18         T   G           .  upstream  ORF1a ORF1ab nsp1 nsp2  .   \n",
       "\n",
       "   number of samples carrying the SNV         name  ... start Matrix_id width  \\\n",
       "0                                  39  NC_045512.2  ...    14  M043_0.6     7   \n",
       "1                                  35  NC_045512.2  ...    14  M043_0.6     7   \n",
       "2                                  29  NC_045512.2  ...    14  M043_0.6     7   \n",
       "\n",
       "  end Gene_name   source      seq  max_score score variant_score  \n",
       "0  21     PCBP2  Attract  CCTTCCC  10.539042   1.0      0.500554  \n",
       "1  21     PCBP2  Attract  CCTTCCC  10.539042   1.0      0.811619  \n",
       "2  21     PCBP2  Attract  CCTTCCC  10.539042   1.0      0.532421  \n",
       "\n",
       "[3 rows x 22 columns]"
      ]
     },
     "execution_count": 82,
     "metadata": {},
     "output_type": "execute_result"
    }
   ],
   "source": [
    "effects = smeagol.variant.variant_effect_on_sites(select_sites, all_var, genome, select_pwms)\n",
    "effects.head(3)"
   ]
  },
  {
   "cell_type": "code",
   "execution_count": 87,
   "id": "039bc35f",
   "metadata": {
    "scrolled": true
   },
   "outputs": [
    {
     "name": "stdout",
     "output_type": "stream",
     "text": [
      "221\n"
     ]
    },
    {
     "data": {
      "text/html": [
       "<div>\n",
       "<style scoped>\n",
       "    .dataframe tbody tr th:only-of-type {\n",
       "        vertical-align: middle;\n",
       "    }\n",
       "\n",
       "    .dataframe tbody tr th {\n",
       "        vertical-align: top;\n",
       "    }\n",
       "\n",
       "    .dataframe thead th {\n",
       "        text-align: right;\n",
       "    }\n",
       "</style>\n",
       "<table border=\"1\" class=\"dataframe\">\n",
       "  <thead>\n",
       "    <tr style=\"text-align: right;\">\n",
       "      <th></th>\n",
       "      <th>SNV</th>\n",
       "      <th>pos</th>\n",
       "      <th>reference</th>\n",
       "      <th>alt</th>\n",
       "      <th>annotations</th>\n",
       "      <th>location</th>\n",
       "      <th>associated gene</th>\n",
       "      <th>AA</th>\n",
       "      <th>number of samples carrying the SNV</th>\n",
       "      <th>name</th>\n",
       "      <th>...</th>\n",
       "      <th>start</th>\n",
       "      <th>Matrix_id</th>\n",
       "      <th>width</th>\n",
       "      <th>end</th>\n",
       "      <th>Gene_name</th>\n",
       "      <th>source</th>\n",
       "      <th>seq</th>\n",
       "      <th>max_score</th>\n",
       "      <th>score</th>\n",
       "      <th>variant_score</th>\n",
       "    </tr>\n",
       "  </thead>\n",
       "  <tbody>\n",
       "    <tr>\n",
       "      <th>0</th>\n",
       "      <td>C12119T</td>\n",
       "      <td>12119</td>\n",
       "      <td>C</td>\n",
       "      <td>T</td>\n",
       "      <td>nonsynonymous_SNV</td>\n",
       "      <td>exonic</td>\n",
       "      <td>ORF1a ORF1ab nsp8</td>\n",
       "      <td>ORF1ab:YP_009724389.1:exon1:c.C11854T:p.P3952S...</td>\n",
       "      <td>1633</td>\n",
       "      <td>NC_045512.2</td>\n",
       "      <td>...</td>\n",
       "      <td>12114</td>\n",
       "      <td>M043_0.6</td>\n",
       "      <td>7</td>\n",
       "      <td>12121</td>\n",
       "      <td>PCBP2</td>\n",
       "      <td>Attract</td>\n",
       "      <td>CCTTCCA</td>\n",
       "      <td>10.539042</td>\n",
       "      <td>0.811619</td>\n",
       "      <td>0.312172</td>\n",
       "    </tr>\n",
       "    <tr>\n",
       "      <th>1</th>\n",
       "      <td>T12118G</td>\n",
       "      <td>12118</td>\n",
       "      <td>T</td>\n",
       "      <td>G</td>\n",
       "      <td>synonymous_SNV</td>\n",
       "      <td>exonic</td>\n",
       "      <td>ORF1a ORF1ab nsp8</td>\n",
       "      <td>ORF1ab:YP_009724389.1:exon1:c.T11853G:p.L3951L...</td>\n",
       "      <td>5</td>\n",
       "      <td>NC_045512.2</td>\n",
       "      <td>...</td>\n",
       "      <td>12114</td>\n",
       "      <td>M043_0.6</td>\n",
       "      <td>7</td>\n",
       "      <td>12121</td>\n",
       "      <td>PCBP2</td>\n",
       "      <td>Attract</td>\n",
       "      <td>CCTTCCA</td>\n",
       "      <td>10.539042</td>\n",
       "      <td>0.811619</td>\n",
       "      <td>0.34404</td>\n",
       "    </tr>\n",
       "    <tr>\n",
       "      <th>2</th>\n",
       "      <td>C12116A</td>\n",
       "      <td>12116</td>\n",
       "      <td>C</td>\n",
       "      <td>A</td>\n",
       "      <td>nonsynonymous_SNV</td>\n",
       "      <td>exonic</td>\n",
       "      <td>ORF1a ORF1ab nsp8</td>\n",
       "      <td>ORF1ab:YP_009724389.1:exon1:c.C11851A:p.L3951I...</td>\n",
       "      <td>3</td>\n",
       "      <td>NC_045512.2</td>\n",
       "      <td>...</td>\n",
       "      <td>12114</td>\n",
       "      <td>M043_0.6</td>\n",
       "      <td>7</td>\n",
       "      <td>12121</td>\n",
       "      <td>PCBP2</td>\n",
       "      <td>Attract</td>\n",
       "      <td>CCTTCCA</td>\n",
       "      <td>10.539042</td>\n",
       "      <td>0.811619</td>\n",
       "      <td>0.362891</td>\n",
       "    </tr>\n",
       "  </tbody>\n",
       "</table>\n",
       "<p>3 rows × 22 columns</p>\n",
       "</div>"
      ],
      "text/plain": [
       "       SNV    pos reference alt        annotations location  \\\n",
       "0  C12119T  12119         C   T  nonsynonymous_SNV   exonic   \n",
       "1  T12118G  12118         T   G     synonymous_SNV   exonic   \n",
       "2  C12116A  12116         C   A  nonsynonymous_SNV   exonic   \n",
       "\n",
       "     associated gene                                                 AA  \\\n",
       "0  ORF1a ORF1ab nsp8  ORF1ab:YP_009724389.1:exon1:c.C11854T:p.P3952S...   \n",
       "1  ORF1a ORF1ab nsp8  ORF1ab:YP_009724389.1:exon1:c.T11853G:p.L3951L...   \n",
       "2  ORF1a ORF1ab nsp8  ORF1ab:YP_009724389.1:exon1:c.C11851A:p.L3951I...   \n",
       "\n",
       "   number of samples carrying the SNV         name  ...  start Matrix_id  \\\n",
       "0                                1633  NC_045512.2  ...  12114  M043_0.6   \n",
       "1                                   5  NC_045512.2  ...  12114  M043_0.6   \n",
       "2                                   3  NC_045512.2  ...  12114  M043_0.6   \n",
       "\n",
       "  width    end Gene_name   source      seq  max_score     score variant_score  \n",
       "0     7  12121     PCBP2  Attract  CCTTCCA  10.539042  0.811619      0.312172  \n",
       "1     7  12121     PCBP2  Attract  CCTTCCA  10.539042  0.811619       0.34404  \n",
       "2     7  12121     PCBP2  Attract  CCTTCCA  10.539042  0.811619      0.362891  \n",
       "\n",
       "[3 rows x 22 columns]"
      ]
     },
     "execution_count": 87,
     "metadata": {},
     "output_type": "execute_result"
    }
   ],
   "source": [
    "escape = effects[effects.variant_score<.5].copy().reset_index(drop=True)\n",
    "print(len(escape))\n",
    "escape.head(3)"
   ]
  },
  {
   "cell_type": "code",
   "execution_count": 89,
   "id": "68256a15",
   "metadata": {
    "scrolled": true
   },
   "outputs": [],
   "source": [
    "escape.drop(columns=['max_score', 'number of samples carrying the SNV', 'AA', 'id', 'width'], \n",
    "            inplace=True)"
   ]
  },
  {
   "cell_type": "code",
   "execution_count": 91,
   "id": "8418e32d",
   "metadata": {},
   "outputs": [],
   "source": [
    "escape.rename(columns={'Gene_name': 'RBP'}, inplace=True)"
   ]
  },
  {
   "cell_type": "code",
   "execution_count": 92,
   "id": "f0f2174a",
   "metadata": {},
   "outputs": [
    {
     "data": {
      "text/html": [
       "<div>\n",
       "<style scoped>\n",
       "    .dataframe tbody tr th:only-of-type {\n",
       "        vertical-align: middle;\n",
       "    }\n",
       "\n",
       "    .dataframe tbody tr th {\n",
       "        vertical-align: top;\n",
       "    }\n",
       "\n",
       "    .dataframe thead th {\n",
       "        text-align: right;\n",
       "    }\n",
       "</style>\n",
       "<table border=\"1\" class=\"dataframe\">\n",
       "  <thead>\n",
       "    <tr style=\"text-align: right;\">\n",
       "      <th></th>\n",
       "      <th>SNV</th>\n",
       "      <th>pos</th>\n",
       "      <th>reference</th>\n",
       "      <th>alt</th>\n",
       "      <th>annotations</th>\n",
       "      <th>location</th>\n",
       "      <th>associated gene</th>\n",
       "      <th>name</th>\n",
       "      <th>sense</th>\n",
       "      <th>start</th>\n",
       "      <th>Matrix_id</th>\n",
       "      <th>end</th>\n",
       "      <th>RBP</th>\n",
       "      <th>source</th>\n",
       "      <th>seq</th>\n",
       "      <th>score</th>\n",
       "      <th>variant_score</th>\n",
       "    </tr>\n",
       "  </thead>\n",
       "  <tbody>\n",
       "    <tr>\n",
       "      <th>0</th>\n",
       "      <td>C12119T</td>\n",
       "      <td>12119</td>\n",
       "      <td>C</td>\n",
       "      <td>T</td>\n",
       "      <td>nonsynonymous_SNV</td>\n",
       "      <td>exonic</td>\n",
       "      <td>ORF1a ORF1ab nsp8</td>\n",
       "      <td>NC_045512.2</td>\n",
       "      <td>+</td>\n",
       "      <td>12114</td>\n",
       "      <td>M043_0.6</td>\n",
       "      <td>12121</td>\n",
       "      <td>PCBP2</td>\n",
       "      <td>Attract</td>\n",
       "      <td>CCTTCCA</td>\n",
       "      <td>0.811619</td>\n",
       "      <td>0.312172</td>\n",
       "    </tr>\n",
       "    <tr>\n",
       "      <th>1</th>\n",
       "      <td>T12118G</td>\n",
       "      <td>12118</td>\n",
       "      <td>T</td>\n",
       "      <td>G</td>\n",
       "      <td>synonymous_SNV</td>\n",
       "      <td>exonic</td>\n",
       "      <td>ORF1a ORF1ab nsp8</td>\n",
       "      <td>NC_045512.2</td>\n",
       "      <td>+</td>\n",
       "      <td>12114</td>\n",
       "      <td>M043_0.6</td>\n",
       "      <td>12121</td>\n",
       "      <td>PCBP2</td>\n",
       "      <td>Attract</td>\n",
       "      <td>CCTTCCA</td>\n",
       "      <td>0.811619</td>\n",
       "      <td>0.34404</td>\n",
       "    </tr>\n",
       "    <tr>\n",
       "      <th>2</th>\n",
       "      <td>C12116A</td>\n",
       "      <td>12116</td>\n",
       "      <td>C</td>\n",
       "      <td>A</td>\n",
       "      <td>nonsynonymous_SNV</td>\n",
       "      <td>exonic</td>\n",
       "      <td>ORF1a ORF1ab nsp8</td>\n",
       "      <td>NC_045512.2</td>\n",
       "      <td>+</td>\n",
       "      <td>12114</td>\n",
       "      <td>M043_0.6</td>\n",
       "      <td>12121</td>\n",
       "      <td>PCBP2</td>\n",
       "      <td>Attract</td>\n",
       "      <td>CCTTCCA</td>\n",
       "      <td>0.811619</td>\n",
       "      <td>0.362891</td>\n",
       "    </tr>\n",
       "    <tr>\n",
       "      <th>3</th>\n",
       "      <td>C15928T</td>\n",
       "      <td>15928</td>\n",
       "      <td>C</td>\n",
       "      <td>T</td>\n",
       "      <td>nonsynonymous_SNV</td>\n",
       "      <td>exonic</td>\n",
       "      <td>ORF1ab nsp12</td>\n",
       "      <td>NC_045512.2</td>\n",
       "      <td>+</td>\n",
       "      <td>15923</td>\n",
       "      <td>M043_0.6</td>\n",
       "      <td>15930</td>\n",
       "      <td>PCBP2</td>\n",
       "      <td>Attract</td>\n",
       "      <td>CCTTCCT</td>\n",
       "      <td>0.803144</td>\n",
       "      <td>0.303697</td>\n",
       "    </tr>\n",
       "    <tr>\n",
       "      <th>4</th>\n",
       "      <td>T15927G</td>\n",
       "      <td>15927</td>\n",
       "      <td>T</td>\n",
       "      <td>G</td>\n",
       "      <td>synonymous_SNV</td>\n",
       "      <td>exonic</td>\n",
       "      <td>ORF1ab</td>\n",
       "      <td>NC_045512.2</td>\n",
       "      <td>+</td>\n",
       "      <td>15923</td>\n",
       "      <td>M043_0.6</td>\n",
       "      <td>15930</td>\n",
       "      <td>PCBP2</td>\n",
       "      <td>Attract</td>\n",
       "      <td>CCTTCCT</td>\n",
       "      <td>0.803144</td>\n",
       "      <td>0.335565</td>\n",
       "    </tr>\n",
       "  </tbody>\n",
       "</table>\n",
       "</div>"
      ],
      "text/plain": [
       "       SNV    pos reference alt        annotations location  \\\n",
       "0  C12119T  12119         C   T  nonsynonymous_SNV   exonic   \n",
       "1  T12118G  12118         T   G     synonymous_SNV   exonic   \n",
       "2  C12116A  12116         C   A  nonsynonymous_SNV   exonic   \n",
       "3  C15928T  15928         C   T  nonsynonymous_SNV   exonic   \n",
       "4  T15927G  15927         T   G     synonymous_SNV   exonic   \n",
       "\n",
       "     associated gene         name sense  start Matrix_id    end    RBP  \\\n",
       "0  ORF1a ORF1ab nsp8  NC_045512.2     +  12114  M043_0.6  12121  PCBP2   \n",
       "1  ORF1a ORF1ab nsp8  NC_045512.2     +  12114  M043_0.6  12121  PCBP2   \n",
       "2  ORF1a ORF1ab nsp8  NC_045512.2     +  12114  M043_0.6  12121  PCBP2   \n",
       "3       ORF1ab nsp12  NC_045512.2     +  15923  M043_0.6  15930  PCBP2   \n",
       "4             ORF1ab  NC_045512.2     +  15923  M043_0.6  15930  PCBP2   \n",
       "\n",
       "    source      seq     score variant_score  \n",
       "0  Attract  CCTTCCA  0.811619      0.312172  \n",
       "1  Attract  CCTTCCA  0.811619       0.34404  \n",
       "2  Attract  CCTTCCA  0.811619      0.362891  \n",
       "3  Attract  CCTTCCT  0.803144      0.303697  \n",
       "4  Attract  CCTTCCT  0.803144      0.335565  "
      ]
     },
     "execution_count": 92,
     "metadata": {},
     "output_type": "execute_result"
    }
   ],
   "source": [
    "escape.head()"
   ]
  },
  {
   "cell_type": "code",
   "execution_count": 93,
   "id": "26135390",
   "metadata": {},
   "outputs": [],
   "source": [
    "escape.to_csv('../RESULTS/sarscov2_escape_variants.tsv', sep='\\t', index=False)"
   ]
  },
  {
   "cell_type": "code",
   "execution_count": 97,
   "id": "30be21d4",
   "metadata": {},
   "outputs": [
    {
     "data": {
      "text/plain": [
       "170"
      ]
     },
     "execution_count": 97,
     "metadata": {},
     "output_type": "execute_result"
    }
   ],
   "source": [
    "escape_snvs = escape[['SNV', 'location', 'annotations']].drop_duplicates()\n",
    "len(escape_snvs)"
   ]
  },
  {
   "cell_type": "code",
   "execution_count": 98,
   "id": "660c0e81",
   "metadata": {},
   "outputs": [
    {
     "data": {
      "text/plain": [
       "exonic        148\n",
       "downstream     14\n",
       "upstream        8\n",
       "Name: location, dtype: int64"
      ]
     },
     "execution_count": 98,
     "metadata": {},
     "output_type": "execute_result"
    }
   ],
   "source": [
    "escape_snvs.location.value_counts()"
   ]
  },
  {
   "cell_type": "code",
   "execution_count": 99,
   "id": "f3b8c0f8",
   "metadata": {},
   "outputs": [
    {
     "data": {
      "text/plain": [
       "nonsynonymous_SNV             78\n",
       "synonymous_SNV                60\n",
       ".                             22\n",
       "nonframeshift_substitution     6\n",
       "stopgain                       4\n",
       "Name: annotations, dtype: int64"
      ]
     },
     "execution_count": 99,
     "metadata": {},
     "output_type": "execute_result"
    }
   ],
   "source": [
    "escape_snvs.annotations.value_counts()"
   ]
  },
  {
   "cell_type": "code",
   "execution_count": 101,
   "id": "ed1d2431",
   "metadata": {
    "scrolled": false
   },
   "outputs": [
    {
     "data": {
      "text/plain": [
       "HNRNPA1      42\n",
       "HNRNPA2B1    40\n",
       "CPEB4        29\n",
       "RBFOX1       27\n",
       "RALY         24\n",
       "ELAVL1       18\n",
       "HNRNPK       16\n",
       "DAZAP1        9\n",
       "PCBP2         8\n",
       "SRSF7         8\n",
       "Name: RBP, dtype: int64"
      ]
     },
     "execution_count": 101,
     "metadata": {},
     "output_type": "execute_result"
    }
   ],
   "source": [
    "escape.RBP.value_counts()"
   ]
  },
  {
   "cell_type": "markdown",
   "id": "96568fc7",
   "metadata": {},
   "source": [
    "## Focus on position 11078"
   ]
  },
  {
   "cell_type": "code",
   "execution_count": 405,
   "id": "c67e4b7c",
   "metadata": {},
   "outputs": [],
   "source": [
    "select_sites = select_sites[(select_sites.start <= 11078) & (select_sites.end >= 11078)].reset_index(drop=True)"
   ]
  },
  {
   "cell_type": "code",
   "execution_count": 425,
   "id": "c5c13dcb",
   "metadata": {},
   "outputs": [],
   "source": [
    "select_var = all_var.loc[all_var.pos==11078, ['SNV', 'pos', 'reference', 'alt', 'name']]"
   ]
  },
  {
   "cell_type": "code",
   "execution_count": 427,
   "id": "c26f4259",
   "metadata": {},
   "outputs": [],
   "source": [
    "select_var = pd.concat([select_var, \n",
    "   pd.DataFrame.from_dict({'SNV':'T11078A','pos':11078,'reference':'T','alt':'A', 'name':'NC_045512.2'}, orient='index').T]).reset_index(drop=True)"
   ]
  },
  {
   "cell_type": "code",
   "execution_count": 428,
   "id": "937743eb",
   "metadata": {},
   "outputs": [],
   "source": [
    "e = smeagol.variant.variant_effect_on_sites(select_sites, select_var, genome, select_pwms)"
   ]
  },
  {
   "cell_type": "code",
   "execution_count": 429,
   "id": "8c68a303",
   "metadata": {},
   "outputs": [],
   "source": [
    "e['diff'] = e.variant_score - e.score"
   ]
  },
  {
   "cell_type": "code",
   "execution_count": 430,
   "id": "e4b25e7d",
   "metadata": {},
   "outputs": [],
   "source": [
    "e = e[e.Matrix_id.isin(reps)]"
   ]
  },
  {
   "cell_type": "code",
   "execution_count": 434,
   "id": "f021664b",
   "metadata": {},
   "outputs": [],
   "source": [
    "e = e[['SNV', 'alt', 'Matrix_id', 'Gene_name', 'score', 'diff']].drop_duplicates().sort_values('alt').reset_index(drop=True)"
   ]
  },
  {
   "cell_type": "code",
   "execution_count": 435,
   "id": "bdc4165e",
   "metadata": {},
   "outputs": [],
   "source": [
    "e = e.groupby(['SNV', 'alt', 'Gene_name']).max('diff').reset_index()"
   ]
  },
  {
   "cell_type": "code",
   "execution_count": 436,
   "id": "15c3623a",
   "metadata": {},
   "outputs": [
    {
     "data": {
      "text/html": [
       "<div>\n",
       "<style scoped>\n",
       "    .dataframe tbody tr th:only-of-type {\n",
       "        vertical-align: middle;\n",
       "    }\n",
       "\n",
       "    .dataframe tbody tr th {\n",
       "        vertical-align: top;\n",
       "    }\n",
       "\n",
       "    .dataframe thead th {\n",
       "        text-align: right;\n",
       "    }\n",
       "</style>\n",
       "<table border=\"1\" class=\"dataframe\">\n",
       "  <thead>\n",
       "    <tr style=\"text-align: right;\">\n",
       "      <th></th>\n",
       "      <th>SNV</th>\n",
       "      <th>alt</th>\n",
       "      <th>Gene_name</th>\n",
       "      <th>Matrix_id</th>\n",
       "      <th>score</th>\n",
       "      <th>diff</th>\n",
       "    </tr>\n",
       "  </thead>\n",
       "  <tbody>\n",
       "    <tr>\n",
       "      <th>0</th>\n",
       "      <td>T11078A</td>\n",
       "      <td>A</td>\n",
       "      <td>CPEB4</td>\n",
       "      <td>M149_0.6</td>\n",
       "      <td>1.0</td>\n",
       "      <td>-0.583037</td>\n",
       "    </tr>\n",
       "    <tr>\n",
       "      <th>1</th>\n",
       "      <td>T11078A</td>\n",
       "      <td>A</td>\n",
       "      <td>ELAVL1</td>\n",
       "      <td>M232_0.6</td>\n",
       "      <td>1.0</td>\n",
       "      <td>-0.251782</td>\n",
       "    </tr>\n",
       "    <tr>\n",
       "      <th>2</th>\n",
       "      <td>T11078A</td>\n",
       "      <td>A</td>\n",
       "      <td>RALY</td>\n",
       "      <td>M150_0.6</td>\n",
       "      <td>1.0</td>\n",
       "      <td>-0.590492</td>\n",
       "    </tr>\n",
       "    <tr>\n",
       "      <th>3</th>\n",
       "      <td>T11078C</td>\n",
       "      <td>C</td>\n",
       "      <td>CPEB4</td>\n",
       "      <td>M149_0.6</td>\n",
       "      <td>1.0</td>\n",
       "      <td>-0.583037</td>\n",
       "    </tr>\n",
       "    <tr>\n",
       "      <th>4</th>\n",
       "      <td>T11078C</td>\n",
       "      <td>C</td>\n",
       "      <td>ELAVL1</td>\n",
       "      <td>M232_0.6</td>\n",
       "      <td>1.0</td>\n",
       "      <td>-0.527136</td>\n",
       "    </tr>\n",
       "    <tr>\n",
       "      <th>5</th>\n",
       "      <td>T11078C</td>\n",
       "      <td>C</td>\n",
       "      <td>RALY</td>\n",
       "      <td>M150_0.6</td>\n",
       "      <td>1.0</td>\n",
       "      <td>-0.590492</td>\n",
       "    </tr>\n",
       "    <tr>\n",
       "      <th>6</th>\n",
       "      <td>T11078G</td>\n",
       "      <td>G</td>\n",
       "      <td>CPEB4</td>\n",
       "      <td>M149_0.6</td>\n",
       "      <td>1.0</td>\n",
       "      <td>-0.271968</td>\n",
       "    </tr>\n",
       "    <tr>\n",
       "      <th>7</th>\n",
       "      <td>T11078G</td>\n",
       "      <td>G</td>\n",
       "      <td>ELAVL1</td>\n",
       "      <td>M232_0.6</td>\n",
       "      <td>1.0</td>\n",
       "      <td>-0.253643</td>\n",
       "    </tr>\n",
       "    <tr>\n",
       "      <th>8</th>\n",
       "      <td>T11078G</td>\n",
       "      <td>G</td>\n",
       "      <td>RALY</td>\n",
       "      <td>M150_0.6</td>\n",
       "      <td>1.0</td>\n",
       "      <td>-0.590492</td>\n",
       "    </tr>\n",
       "  </tbody>\n",
       "</table>\n",
       "</div>"
      ],
      "text/plain": [
       "       SNV alt Gene_name Matrix_id  score      diff\n",
       "0  T11078A   A     CPEB4  M149_0.6    1.0 -0.583037\n",
       "1  T11078A   A    ELAVL1  M232_0.6    1.0 -0.251782\n",
       "2  T11078A   A      RALY  M150_0.6    1.0 -0.590492\n",
       "3  T11078C   C     CPEB4  M149_0.6    1.0 -0.583037\n",
       "4  T11078C   C    ELAVL1  M232_0.6    1.0 -0.527136\n",
       "5  T11078C   C      RALY  M150_0.6    1.0 -0.590492\n",
       "6  T11078G   G     CPEB4  M149_0.6    1.0 -0.271968\n",
       "7  T11078G   G    ELAVL1  M232_0.6    1.0 -0.253643\n",
       "8  T11078G   G      RALY  M150_0.6    1.0 -0.590492"
      ]
     },
     "execution_count": 436,
     "metadata": {},
     "output_type": "execute_result"
    }
   ],
   "source": [
    "e"
   ]
  },
  {
   "cell_type": "code",
   "execution_count": 437,
   "id": "73549a34",
   "metadata": {},
   "outputs": [],
   "source": [
    "colors = {'C': 'b', 'G': 'r', 'A':'y'}"
   ]
  },
  {
   "cell_type": "code",
   "execution_count": 449,
   "id": "238b6691",
   "metadata": {},
   "outputs": [
    {
     "data": {
      "image/png": "[encoded data removed]",
      "text/plain": [
       "<Figure size 432x288 with 1 Axes>"
      ]
     },
     "metadata": {},
     "output_type": "display_data"
    }
   ],
   "source": [
    "fig, ax = plt.subplots()\n",
    "width = 0.35\n",
    "x = np.arange(3) \n",
    "rects1 = ax.bar(x - width/2, e.loc[e.alt=='C', 'diff'], width, label='T11078C')\n",
    "rects2 = ax.bar(x + width/2, e.loc[e.alt=='G', 'diff'], width, label='T11078G')\n",
    "ax.set_xticks(x)\n",
    "ax.set_xticklabels(['CPEB4 M149_0.6', 'ELAVL1 M232.08', 'RALY M150_0.6'])\n",
    "plt.xticks(rotation = 90)\n",
    "ax.legend(loc=2)\n",
    "ax.set_ylabel('Change in PWM score')\n",
    "fig.tight_layout()\n",
    "plt.show()"
   ]
  },
  {
   "cell_type": "markdown",
   "id": "d341d917",
   "metadata": {},
   "source": [
    "## Visualize binding site distribution"
   ]
  },
  {
   "cell_type": "code",
   "execution_count": 178,
   "id": "545ec649",
   "metadata": {
    "scrolled": true
   },
   "outputs": [],
   "source": [
    "simple_pwms = pd.read_csv('../RESULTS/simple_pwms.tsv', sep='\\t')"
   ]
  },
  {
   "cell_type": "code",
   "execution_count": 125,
   "id": "62ea3bb5",
   "metadata": {
    "scrolled": false
   },
   "outputs": [
    {
     "data": {
      "text/html": [
       "<div>\n",
       "<style scoped>\n",
       "    .dataframe tbody tr th:only-of-type {\n",
       "        vertical-align: middle;\n",
       "    }\n",
       "\n",
       "    .dataframe tbody tr th {\n",
       "        vertical-align: top;\n",
       "    }\n",
       "\n",
       "    .dataframe thead th {\n",
       "        text-align: right;\n",
       "    }\n",
       "</style>\n",
       "<table border=\"1\" class=\"dataframe\">\n",
       "  <thead>\n",
       "    <tr style=\"text-align: right;\">\n",
       "      <th></th>\n",
       "      <th>Matrix_id</th>\n",
       "      <th>RBP</th>\n",
       "      <th>num</th>\n",
       "    </tr>\n",
       "  </thead>\n",
       "  <tbody>\n",
       "    <tr>\n",
       "      <th>54</th>\n",
       "      <td>M075_0.6</td>\n",
       "      <td>TIA1</td>\n",
       "      <td>19.0</td>\n",
       "    </tr>\n",
       "    <tr>\n",
       "      <th>154</th>\n",
       "      <td>encode_TIA1_1</td>\n",
       "      <td>TIA1</td>\n",
       "      <td>151.0</td>\n",
       "    </tr>\n",
       "    <tr>\n",
       "      <th>162</th>\n",
       "      <td>s35</td>\n",
       "      <td>HNRNPDL</td>\n",
       "      <td>153.0</td>\n",
       "    </tr>\n",
       "    <tr>\n",
       "      <th>178</th>\n",
       "      <td>M156_0.6</td>\n",
       "      <td>TIA1</td>\n",
       "      <td>14.0</td>\n",
       "    </tr>\n",
       "    <tr>\n",
       "      <th>190</th>\n",
       "      <td>encode_PUM1_1</td>\n",
       "      <td>PUM1</td>\n",
       "      <td>163.0</td>\n",
       "    </tr>\n",
       "    <tr>\n",
       "      <th>292</th>\n",
       "      <td>encode_FUBP3_2</td>\n",
       "      <td>FUBP3</td>\n",
       "      <td>136.0</td>\n",
       "    </tr>\n",
       "    <tr>\n",
       "      <th>324</th>\n",
       "      <td>s101</td>\n",
       "      <td>ELAVL1</td>\n",
       "      <td>28.0</td>\n",
       "    </tr>\n",
       "    <tr>\n",
       "      <th>368</th>\n",
       "      <td>M232_0.6</td>\n",
       "      <td>ELAVL1</td>\n",
       "      <td>4.0</td>\n",
       "    </tr>\n",
       "    <tr>\n",
       "      <th>372</th>\n",
       "      <td>encode_HNRNPC_1</td>\n",
       "      <td>HNRNPC</td>\n",
       "      <td>61.0</td>\n",
       "    </tr>\n",
       "    <tr>\n",
       "      <th>382</th>\n",
       "      <td>s13</td>\n",
       "      <td>HNRNPC</td>\n",
       "      <td>61.0</td>\n",
       "    </tr>\n",
       "    <tr>\n",
       "      <th>450</th>\n",
       "      <td>M025_0.6</td>\n",
       "      <td>HNRNPC</td>\n",
       "      <td>17.0</td>\n",
       "    </tr>\n",
       "    <tr>\n",
       "      <th>500</th>\n",
       "      <td>M149_0.6</td>\n",
       "      <td>CPEB4</td>\n",
       "      <td>6.0</td>\n",
       "    </tr>\n",
       "    <tr>\n",
       "      <th>502</th>\n",
       "      <td>M150_0.6</td>\n",
       "      <td>RALY</td>\n",
       "      <td>5.0</td>\n",
       "    </tr>\n",
       "    <tr>\n",
       "      <th>618</th>\n",
       "      <td>s32</td>\n",
       "      <td>HNRNPA1</td>\n",
       "      <td>9.0</td>\n",
       "    </tr>\n",
       "  </tbody>\n",
       "</table>\n",
       "</div>"
      ],
      "text/plain": [
       "           Matrix_id      RBP    num\n",
       "54          M075_0.6     TIA1   19.0\n",
       "154    encode_TIA1_1     TIA1  151.0\n",
       "162              s35  HNRNPDL  153.0\n",
       "178         M156_0.6     TIA1   14.0\n",
       "190    encode_PUM1_1     PUM1  163.0\n",
       "292   encode_FUBP3_2    FUBP3  136.0\n",
       "324             s101   ELAVL1   28.0\n",
       "368         M232_0.6   ELAVL1    4.0\n",
       "372  encode_HNRNPC_1   HNRNPC   61.0\n",
       "382              s13   HNRNPC   61.0\n",
       "450         M025_0.6   HNRNPC   17.0\n",
       "500         M149_0.6    CPEB4    6.0\n",
       "502         M150_0.6     RALY    5.0\n",
       "618              s32  HNRNPA1    9.0"
      ]
     },
     "execution_count": 125,
     "metadata": {},
     "output_type": "execute_result"
    }
   ],
   "source": [
    "enr.loc[(enr.sig05) & (enr.sense=='+') & (enr.dir=='dn') & (enr.RBP.isin(all_validated)), \n",
    "        ['Matrix_id', 'RBP', 'num']]"
   ]
  },
  {
   "cell_type": "code",
   "execution_count": 176,
   "id": "c927a9ad",
   "metadata": {
    "scrolled": true
   },
   "outputs": [
    {
     "data": {
      "text/html": [
       "<div>\n",
       "<style scoped>\n",
       "    .dataframe tbody tr th:only-of-type {\n",
       "        vertical-align: middle;\n",
       "    }\n",
       "\n",
       "    .dataframe tbody tr th {\n",
       "        vertical-align: top;\n",
       "    }\n",
       "\n",
       "    .dataframe thead th {\n",
       "        text-align: right;\n",
       "    }\n",
       "</style>\n",
       "<table border=\"1\" class=\"dataframe\">\n",
       "  <thead>\n",
       "    <tr style=\"text-align: right;\">\n",
       "      <th></th>\n",
       "      <th>Matrix_id</th>\n",
       "      <th>RBP</th>\n",
       "    </tr>\n",
       "  </thead>\n",
       "  <tbody>\n",
       "    <tr>\n",
       "      <th>54</th>\n",
       "      <td>M075_0.6</td>\n",
       "      <td>TIA1</td>\n",
       "    </tr>\n",
       "    <tr>\n",
       "      <th>154</th>\n",
       "      <td>encode_TIA1_1</td>\n",
       "      <td>TIA1</td>\n",
       "    </tr>\n",
       "    <tr>\n",
       "      <th>162</th>\n",
       "      <td>s35</td>\n",
       "      <td>HNRNPDL</td>\n",
       "    </tr>\n",
       "    <tr>\n",
       "      <th>178</th>\n",
       "      <td>M156_0.6</td>\n",
       "      <td>TIA1</td>\n",
       "    </tr>\n",
       "    <tr>\n",
       "      <th>190</th>\n",
       "      <td>encode_PUM1_1</td>\n",
       "      <td>PUM1</td>\n",
       "    </tr>\n",
       "    <tr>\n",
       "      <th>292</th>\n",
       "      <td>encode_FUBP3_2</td>\n",
       "      <td>FUBP3</td>\n",
       "    </tr>\n",
       "    <tr>\n",
       "      <th>324</th>\n",
       "      <td>s101</td>\n",
       "      <td>ELAVL1</td>\n",
       "    </tr>\n",
       "    <tr>\n",
       "      <th>368</th>\n",
       "      <td>M232_0.6</td>\n",
       "      <td>ELAVL1</td>\n",
       "    </tr>\n",
       "    <tr>\n",
       "      <th>372</th>\n",
       "      <td>encode_HNRNPC_1</td>\n",
       "      <td>HNRNPC</td>\n",
       "    </tr>\n",
       "    <tr>\n",
       "      <th>382</th>\n",
       "      <td>s13</td>\n",
       "      <td>HNRNPC</td>\n",
       "    </tr>\n",
       "    <tr>\n",
       "      <th>450</th>\n",
       "      <td>M025_0.6</td>\n",
       "      <td>HNRNPC</td>\n",
       "    </tr>\n",
       "    <tr>\n",
       "      <th>500</th>\n",
       "      <td>M149_0.6</td>\n",
       "      <td>CPEB4</td>\n",
       "    </tr>\n",
       "    <tr>\n",
       "      <th>502</th>\n",
       "      <td>M150_0.6</td>\n",
       "      <td>RALY</td>\n",
       "    </tr>\n",
       "    <tr>\n",
       "      <th>618</th>\n",
       "      <td>s32</td>\n",
       "      <td>HNRNPA1</td>\n",
       "    </tr>\n",
       "  </tbody>\n",
       "</table>\n",
       "</div>"
      ],
      "text/plain": [
       "           Matrix_id      RBP\n",
       "54          M075_0.6     TIA1\n",
       "154    encode_TIA1_1     TIA1\n",
       "162              s35  HNRNPDL\n",
       "178         M156_0.6     TIA1\n",
       "190    encode_PUM1_1     PUM1\n",
       "292   encode_FUBP3_2    FUBP3\n",
       "324             s101   ELAVL1\n",
       "368         M232_0.6   ELAVL1\n",
       "372  encode_HNRNPC_1   HNRNPC\n",
       "382              s13   HNRNPC\n",
       "450         M025_0.6   HNRNPC\n",
       "500         M149_0.6    CPEB4\n",
       "502         M150_0.6     RALY\n",
       "618              s32  HNRNPA1"
      ]
     },
     "execution_count": 176,
     "metadata": {},
     "output_type": "execute_result"
    }
   ],
   "source": [
    "enr.loc[(enr.sig05) & (enr.sense=='+') & (enr.dir=='dn') & (enr.RBP.isin(all_validated)), \n",
    "        ['Matrix_id', 'RBP']]"
   ]
  },
  {
   "cell_type": "code",
   "execution_count": 452,
   "id": "a83872c0",
   "metadata": {},
   "outputs": [
    {
     "data": {
      "text/html": [
       "<div>\n",
       "<style scoped>\n",
       "    .dataframe tbody tr th:only-of-type {\n",
       "        vertical-align: middle;\n",
       "    }\n",
       "\n",
       "    .dataframe tbody tr th {\n",
       "        vertical-align: top;\n",
       "    }\n",
       "\n",
       "    .dataframe thead th {\n",
       "        text-align: right;\n",
       "    }\n",
       "</style>\n",
       "<table border=\"1\" class=\"dataframe\">\n",
       "  <thead>\n",
       "    <tr style=\"text-align: right;\">\n",
       "      <th></th>\n",
       "      <th>Matrix_id</th>\n",
       "      <th>RBP</th>\n",
       "      <th>num</th>\n",
       "      <th>avg</th>\n",
       "      <th>log2fc</th>\n",
       "      <th>fdr</th>\n",
       "    </tr>\n",
       "  </thead>\n",
       "  <tbody>\n",
       "    <tr>\n",
       "      <th>54</th>\n",
       "      <td>M075_0.6</td>\n",
       "      <td>TIA1</td>\n",
       "      <td>19.0</td>\n",
       "      <td>39.727</td>\n",
       "      <td>-1.064120</td>\n",
       "      <td>4.838637e-03</td>\n",
       "    </tr>\n",
       "    <tr>\n",
       "      <th>154</th>\n",
       "      <td>encode_TIA1_1</td>\n",
       "      <td>TIA1</td>\n",
       "      <td>151.0</td>\n",
       "      <td>210.945</td>\n",
       "      <td>-0.482318</td>\n",
       "      <td>2.414811e-04</td>\n",
       "    </tr>\n",
       "    <tr>\n",
       "      <th>178</th>\n",
       "      <td>M156_0.6</td>\n",
       "      <td>TIA1</td>\n",
       "      <td>14.0</td>\n",
       "      <td>38.461</td>\n",
       "      <td>-1.457969</td>\n",
       "      <td>2.014964e-04</td>\n",
       "    </tr>\n",
       "    <tr>\n",
       "      <th>292</th>\n",
       "      <td>encode_FUBP3_2</td>\n",
       "      <td>FUBP3</td>\n",
       "      <td>136.0</td>\n",
       "      <td>189.379</td>\n",
       "      <td>-0.477670</td>\n",
       "      <td>6.844312e-04</td>\n",
       "    </tr>\n",
       "    <tr>\n",
       "      <th>324</th>\n",
       "      <td>s101</td>\n",
       "      <td>ELAVL1</td>\n",
       "      <td>28.0</td>\n",
       "      <td>51.108</td>\n",
       "      <td>-0.868122</td>\n",
       "      <td>5.822497e-03</td>\n",
       "    </tr>\n",
       "    <tr>\n",
       "      <th>368</th>\n",
       "      <td>M232_0.6</td>\n",
       "      <td>ELAVL1</td>\n",
       "      <td>4.0</td>\n",
       "      <td>24.444</td>\n",
       "      <td>-2.611408</td>\n",
       "      <td>3.224926e-05</td>\n",
       "    </tr>\n",
       "    <tr>\n",
       "      <th>372</th>\n",
       "      <td>encode_HNRNPC_1</td>\n",
       "      <td>HNRNPC</td>\n",
       "      <td>61.0</td>\n",
       "      <td>121.035</td>\n",
       "      <td>-0.988543</td>\n",
       "      <td>1.903129e-07</td>\n",
       "    </tr>\n",
       "    <tr>\n",
       "      <th>382</th>\n",
       "      <td>s13</td>\n",
       "      <td>HNRNPC</td>\n",
       "      <td>61.0</td>\n",
       "      <td>121.035</td>\n",
       "      <td>-0.988543</td>\n",
       "      <td>1.903129e-07</td>\n",
       "    </tr>\n",
       "    <tr>\n",
       "      <th>450</th>\n",
       "      <td>M025_0.6</td>\n",
       "      <td>HNRNPC</td>\n",
       "      <td>17.0</td>\n",
       "      <td>43.979</td>\n",
       "      <td>-1.371280</td>\n",
       "      <td>1.518037e-04</td>\n",
       "    </tr>\n",
       "    <tr>\n",
       "      <th>500</th>\n",
       "      <td>M149_0.6</td>\n",
       "      <td>CPEB4</td>\n",
       "      <td>6.0</td>\n",
       "      <td>40.491</td>\n",
       "      <td>-2.754567</td>\n",
       "      <td>5.799540e-09</td>\n",
       "    </tr>\n",
       "    <tr>\n",
       "      <th>502</th>\n",
       "      <td>M150_0.6</td>\n",
       "      <td>RALY</td>\n",
       "      <td>5.0</td>\n",
       "      <td>30.350</td>\n",
       "      <td>-2.601697</td>\n",
       "      <td>1.865037e-06</td>\n",
       "    </tr>\n",
       "  </tbody>\n",
       "</table>\n",
       "</div>"
      ],
      "text/plain": [
       "           Matrix_id     RBP    num      avg    log2fc           fdr\n",
       "54          M075_0.6    TIA1   19.0   39.727 -1.064120  4.838637e-03\n",
       "154    encode_TIA1_1    TIA1  151.0  210.945 -0.482318  2.414811e-04\n",
       "178         M156_0.6    TIA1   14.0   38.461 -1.457969  2.014964e-04\n",
       "292   encode_FUBP3_2   FUBP3  136.0  189.379 -0.477670  6.844312e-04\n",
       "324             s101  ELAVL1   28.0   51.108 -0.868122  5.822497e-03\n",
       "368         M232_0.6  ELAVL1    4.0   24.444 -2.611408  3.224926e-05\n",
       "372  encode_HNRNPC_1  HNRNPC   61.0  121.035 -0.988543  1.903129e-07\n",
       "382              s13  HNRNPC   61.0  121.035 -0.988543  1.903129e-07\n",
       "450         M025_0.6  HNRNPC   17.0   43.979 -1.371280  1.518037e-04\n",
       "500         M149_0.6   CPEB4    6.0   40.491 -2.754567  5.799540e-09\n",
       "502         M150_0.6    RALY    5.0   30.350 -2.601697  1.865037e-06"
      ]
     },
     "execution_count": 452,
     "metadata": {},
     "output_type": "execute_result"
    }
   ],
   "source": [
    "urich_dn = enr.loc[(enr.sig05) & (enr.sense=='+') & (enr.dir=='dn') & \\\n",
    "        (enr.RBP.isin(all_validated)) & \\\n",
    "        (enr.Matrix_id.isin(simple_pwms.Matrix_id[simple_pwms.nucleotide=='T'])), \n",
    "        ['Matrix_id', 'RBP', 'num', 'avg', 'log2fc', 'fdr']]\n",
    "urich_dn"
   ]
  },
  {
   "cell_type": "code",
   "execution_count": 485,
   "id": "d7765366",
   "metadata": {},
   "outputs": [
    {
     "data": {
      "text/html": [
       "<div>\n",
       "<style scoped>\n",
       "    .dataframe tbody tr th:only-of-type {\n",
       "        vertical-align: middle;\n",
       "    }\n",
       "\n",
       "    .dataframe tbody tr th {\n",
       "        vertical-align: top;\n",
       "    }\n",
       "\n",
       "    .dataframe thead th {\n",
       "        text-align: right;\n",
       "    }\n",
       "</style>\n",
       "<table border=\"1\" class=\"dataframe\">\n",
       "  <thead>\n",
       "    <tr style=\"text-align: right;\">\n",
       "      <th></th>\n",
       "      <th>Matrix_id</th>\n",
       "      <th>RBP</th>\n",
       "      <th>num</th>\n",
       "      <th>avg</th>\n",
       "      <th>log2fc</th>\n",
       "      <th>fdr</th>\n",
       "    </tr>\n",
       "  </thead>\n",
       "  <tbody>\n",
       "    <tr>\n",
       "      <th>368</th>\n",
       "      <td>M232_0.6</td>\n",
       "      <td>ELAVL1</td>\n",
       "      <td>4.0</td>\n",
       "      <td>24.444</td>\n",
       "      <td>-2.611408</td>\n",
       "      <td>3.224926e-05</td>\n",
       "    </tr>\n",
       "    <tr>\n",
       "      <th>500</th>\n",
       "      <td>M149_0.6</td>\n",
       "      <td>CPEB4</td>\n",
       "      <td>6.0</td>\n",
       "      <td>40.491</td>\n",
       "      <td>-2.754567</td>\n",
       "      <td>5.799540e-09</td>\n",
       "    </tr>\n",
       "    <tr>\n",
       "      <th>502</th>\n",
       "      <td>M150_0.6</td>\n",
       "      <td>RALY</td>\n",
       "      <td>5.0</td>\n",
       "      <td>30.350</td>\n",
       "      <td>-2.601697</td>\n",
       "      <td>1.865037e-06</td>\n",
       "    </tr>\n",
       "  </tbody>\n",
       "</table>\n",
       "</div>"
      ],
      "text/plain": [
       "    Matrix_id     RBP  num     avg    log2fc           fdr\n",
       "368  M232_0.6  ELAVL1  4.0  24.444 -2.611408  3.224926e-05\n",
       "500  M149_0.6   CPEB4  6.0  40.491 -2.754567  5.799540e-09\n",
       "502  M150_0.6    RALY  5.0  30.350 -2.601697  1.865037e-06"
      ]
     },
     "execution_count": 485,
     "metadata": {},
     "output_type": "execute_result"
    }
   ],
   "source": [
    "enr.loc[(enr.sense=='+') & (enr.log2fc<(-2)) & (enr.fdr<0.05),\n",
    "   ['Matrix_id', 'RBP', 'num', 'avg', 'log2fc', 'fdr']]"
   ]
  },
  {
   "cell_type": "code",
   "execution_count": 453,
   "id": "61095c55",
   "metadata": {},
   "outputs": [
    {
     "data": {
      "text/html": [
       "<div>\n",
       "<style scoped>\n",
       "    .dataframe tbody tr th:only-of-type {\n",
       "        vertical-align: middle;\n",
       "    }\n",
       "\n",
       "    .dataframe tbody tr th {\n",
       "        vertical-align: top;\n",
       "    }\n",
       "\n",
       "    .dataframe thead th {\n",
       "        text-align: right;\n",
       "    }\n",
       "</style>\n",
       "<table border=\"1\" class=\"dataframe\">\n",
       "  <thead>\n",
       "    <tr style=\"text-align: right;\">\n",
       "      <th></th>\n",
       "      <th>Matrix_id</th>\n",
       "      <th>RBP</th>\n",
       "      <th>num</th>\n",
       "      <th>avg</th>\n",
       "      <th>log2fc</th>\n",
       "      <th>fdr</th>\n",
       "    </tr>\n",
       "  </thead>\n",
       "  <tbody>\n",
       "    <tr>\n",
       "      <th>292</th>\n",
       "      <td>encode_FUBP3_2</td>\n",
       "      <td>FUBP3</td>\n",
       "      <td>136.0</td>\n",
       "      <td>189.379</td>\n",
       "      <td>-0.477670</td>\n",
       "      <td>6.844312e-04</td>\n",
       "    </tr>\n",
       "    <tr>\n",
       "      <th>368</th>\n",
       "      <td>M232_0.6</td>\n",
       "      <td>ELAVL1</td>\n",
       "      <td>4.0</td>\n",
       "      <td>24.444</td>\n",
       "      <td>-2.611408</td>\n",
       "      <td>3.224926e-05</td>\n",
       "    </tr>\n",
       "    <tr>\n",
       "      <th>382</th>\n",
       "      <td>s13</td>\n",
       "      <td>HNRNPC</td>\n",
       "      <td>61.0</td>\n",
       "      <td>121.035</td>\n",
       "      <td>-0.988543</td>\n",
       "      <td>1.903129e-07</td>\n",
       "    </tr>\n",
       "    <tr>\n",
       "      <th>500</th>\n",
       "      <td>M149_0.6</td>\n",
       "      <td>CPEB4</td>\n",
       "      <td>6.0</td>\n",
       "      <td>40.491</td>\n",
       "      <td>-2.754567</td>\n",
       "      <td>5.799540e-09</td>\n",
       "    </tr>\n",
       "    <tr>\n",
       "      <th>502</th>\n",
       "      <td>M150_0.6</td>\n",
       "      <td>RALY</td>\n",
       "      <td>5.0</td>\n",
       "      <td>30.350</td>\n",
       "      <td>-2.601697</td>\n",
       "      <td>1.865037e-06</td>\n",
       "    </tr>\n",
       "  </tbody>\n",
       "</table>\n",
       "</div>"
      ],
      "text/plain": [
       "          Matrix_id     RBP    num      avg    log2fc           fdr\n",
       "292  encode_FUBP3_2   FUBP3  136.0  189.379 -0.477670  6.844312e-04\n",
       "368        M232_0.6  ELAVL1    4.0   24.444 -2.611408  3.224926e-05\n",
       "382             s13  HNRNPC   61.0  121.035 -0.988543  1.903129e-07\n",
       "500        M149_0.6   CPEB4    6.0   40.491 -2.754567  5.799540e-09\n",
       "502        M150_0.6    RALY    5.0   30.350 -2.601697  1.865037e-06"
      ]
     },
     "execution_count": 453,
     "metadata": {},
     "output_type": "execute_result"
    }
   ],
   "source": [
    "urich_dn[urich_dn.Matrix_id.isin(reps)]"
   ]
  },
  {
   "cell_type": "code",
   "execution_count": 251,
   "id": "012abfc7",
   "metadata": {},
   "outputs": [
    {
     "data": {
      "image/png": "[encoded data removed]",
      "text/plain": [
       "<IPython.core.display.Image object>"
      ]
     },
     "execution_count": 251,
     "metadata": {},
     "output_type": "execute_result"
    }
   ],
   "source": [
    "smeagol.visualize.plot_pwm(pwms, 'M232_0.6')"
   ]
  },
  {
   "cell_type": "code",
   "execution_count": 247,
   "id": "5d299caa",
   "metadata": {},
   "outputs": [
    {
     "data": {
      "image/png": "[encoded data removed]",
      "text/plain": [
       "<IPython.core.display.Image object>"
      ]
     },
     "execution_count": 247,
     "metadata": {},
     "output_type": "execute_result"
    }
   ],
   "source": [
    "smeagol.visualize.plot_pwm(pwms, 'M149_0.6')"
   ]
  },
  {
   "cell_type": "code",
   "execution_count": 248,
   "id": "3a8f5f04",
   "metadata": {},
   "outputs": [
    {
     "data": {
      "image/png": "[encoded data removed]",
      "text/plain": [
       "<IPython.core.display.Image object>"
      ]
     },
     "execution_count": 248,
     "metadata": {},
     "output_type": "execute_result"
    }
   ],
   "source": [
    "smeagol.visualize.plot_pwm(pwms, 'M150_0.6')"
   ]
  },
  {
   "cell_type": "code",
   "execution_count": 249,
   "id": "30330b1d",
   "metadata": {},
   "outputs": [
    {
     "data": {
      "image/png": "[encoded data removed]",
      "text/plain": [
       "<IPython.core.display.Image object>"
      ]
     },
     "execution_count": 249,
     "metadata": {},
     "output_type": "execute_result"
    }
   ],
   "source": [
    "smeagol.visualize.plot_pwm(pwms, 'encode_TIA1_1')"
   ]
  },
  {
   "cell_type": "code",
   "execution_count": 252,
   "id": "c1bf21fe",
   "metadata": {
    "scrolled": true
   },
   "outputs": [
    {
     "data": {
      "image/png": "[encoded data removed]",
      "text/plain": [
       "<IPython.core.display.Image object>"
      ]
     },
     "execution_count": 252,
     "metadata": {},
     "output_type": "execute_result"
    }
   ],
   "source": [
    "smeagol.visualize.plot_pwm(pwms, 'encode_HNRNPC_1')"
   ]
  },
  {
   "cell_type": "code",
   "execution_count": 323,
   "id": "ebda33c8",
   "metadata": {},
   "outputs": [],
   "source": [
    "sns.set_theme()"
   ]
  },
  {
   "cell_type": "code",
   "execution_count": 465,
   "id": "7bf9fcaa",
   "metadata": {},
   "outputs": [
    {
     "data": {
      "image/png": "[encoded data removed]",
      "text/plain": [
       "<Figure size 576x432 with 1 Axes>"
      ]
     },
     "metadata": {},
     "output_type": "display_data"
    }
   ],
   "source": [
    "plt.figure(figsize=(8,6))\n",
    "plt.hist(enr_to_plot.log2fc, range=[-3, 4], bins=50, alpha = 0.5, \n",
    "         label='all')\n",
    "plt.hist(enr_to_plot.log2fc[enr_to_plot.sig05], range=[-3, 4], bins=50, \n",
    "         alpha = 1.0, label='significant')\n",
    "plt.xlabel(\"log2 foldchange\", size=14)\n",
    "plt.ylabel(\"Count\", size=14)\n",
    "plt.legend(loc='upper left')\n",
    "plt.savefig(\"../RESULTS/SARSCoV2_foldchanges_hist.pdf\")\n",
    "plt.show()"
   ]
  },
  {
   "cell_type": "code",
   "execution_count": 250,
   "id": "ca3aac16",
   "metadata": {},
   "outputs": [
    {
     "data": {
      "image/png": "[encoded data removed]",
      "text/plain": [
       "<Figure size 864x360 with 1 Axes>"
      ]
     },
     "metadata": {
      "needs_background": "light"
     },
     "output_type": "display_data"
    }
   ],
   "source": [
    "mat='encode_TIA1_1'\n",
    "r = smeagol.enrich.enrich_in_sliding_windows(sites[sites.sense==\"+\"], genome, mat, 250)\n",
    "\n",
    "r['window'] = r.index\n",
    "r['sig'] = r.padj<0.05\n",
    "r['window_name'] = r.apply(lambda row: row.id + ':' + str(row.start) + '-' + str(row.end), axis=1)\n",
    "smeagol.visualize.sliding_window_enrichment_plot(sliding_window_df=r, x_var='window', \n",
    "                        y_var='count', xticklabels='window_name', title=mat)"
   ]
  },
  {
   "cell_type": "code",
   "execution_count": 468,
   "id": "032242e9",
   "metadata": {},
   "outputs": [],
   "source": [
    "mat='M150_0.6'\n",
    "r = smeagol.enrich.enrich_in_sliding_windows(sites[sites.sense==\"+\"], genome, mat, 500)\n",
    "\n",
    "r['window'] = r.index\n",
    "r['sig'] = r.padj<0.05\n",
    "r['window_name'] = r.apply(lambda row: row.id + ':' + str(row.start) + '-' + str(row.end), axis=1)"
   ]
  },
  {
   "cell_type": "code",
   "execution_count": null,
   "id": "7e52684c",
   "metadata": {},
   "outputs": [],
   "source": [
    "smeagol.visualize.sliding_window_enrichment_plot(sliding_window_df=r, x_var='window', \n",
    "                        y_var='count', xticklabels='window_name', \n",
    "                        title=mat + ' (RALY) counts per genome window',\n",
    "                        file_path='../RESULTS/SARSCoV2_RALY_window_plot.pdf')"
   ]
  },
  {
   "cell_type": "code",
   "execution_count": 221,
   "id": "aefa2869",
   "metadata": {},
   "outputs": [
    {
     "data": {
      "image/png": "[encoded data removed]",
      "text/plain": [
       "<Figure size 864x360 with 1 Axes>"
      ]
     },
     "metadata": {
      "needs_background": "light"
     },
     "output_type": "display_data"
    }
   ],
   "source": [
    "mat='M149_0.6'\n",
    "r = smeagol.enrich.enrich_in_sliding_windows(sites[sites.sense==\"+\"], genome, mat, 250)\n",
    "\n",
    "r['window'] = r.index\n",
    "r['sig'] = r.padj<0.05\n",
    "r['window_name'] = r.apply(lambda row: row.id + ':' + str(row.start) + '-' + str(row.end), axis=1)\n",
    "smeagol.visualize.sliding_window_enrichment_plot(sliding_window_df=r, x_var='window', \n",
    "                        y_var='count', xticklabels='window_name', title=mat)"
   ]
  },
  {
   "cell_type": "code",
   "execution_count": 220,
   "id": "da17ab30",
   "metadata": {},
   "outputs": [
    {
     "data": {
      "image/png": "[encoded data removed]",
      "text/plain": [
       "<Figure size 864x360 with 1 Axes>"
      ]
     },
     "metadata": {
      "needs_background": "light"
     },
     "output_type": "display_data"
    }
   ],
   "source": [
    "mat='encode_HNRNPC_1'\n",
    "r = smeagol.enrich.enrich_in_sliding_windows(sites[sites.sense==\"+\"], genome, mat, 250)\n",
    "\n",
    "r['window'] = r.index\n",
    "r['sig'] = r.padj<0.05\n",
    "r['window_name'] = r.apply(lambda row: row.id + ':' + str(row.start) + '-' + str(row.end), axis=1)\n",
    "smeagol.visualize.sliding_window_enrichment_plot(sliding_window_df=r, x_var='window', \n",
    "                        y_var='count', xticklabels='window_name', title=mat)"
   ]
  },
  {
   "cell_type": "code",
   "execution_count": 219,
   "id": "58bea9bc",
   "metadata": {},
   "outputs": [
    {
     "data": {
      "image/png": "[encoded data removed]",
      "text/plain": [
       "<Figure size 864x360 with 1 Axes>"
      ]
     },
     "metadata": {
      "needs_background": "light"
     },
     "output_type": "display_data"
    }
   ],
   "source": [
    "mat='M232_0.6'\n",
    "r = smeagol.enrich.enrich_in_sliding_windows(sites[sites.sense==\"+\"], genome, mat, 250)\n",
    "\n",
    "r['window'] = r.index\n",
    "r['sig'] = r.padj<0.05\n",
    "r['window_name'] = r.apply(lambda row: row.id + ':' + str(row.start) + '-' + str(row.end), axis=1)\n",
    "smeagol.visualize.sliding_window_enrichment_plot(sliding_window_df=r, x_var='window', \n",
    "                        y_var='count', xticklabels='window_name', title=mat)"
   ]
  },
  {
   "cell_type": "code",
   "execution_count": 472,
   "id": "803fe59e",
   "metadata": {
    "scrolled": true
   },
   "outputs": [
    {
     "data": {
      "text/plain": [
       "'GUUCUUUUUUUUGUAU'"
      ]
     },
     "execution_count": 472,
     "metadata": {},
     "output_type": "execute_result"
    }
   ],
   "source": [
    "genome[0].seq[11070:11086].__str__().replace('T', 'U')"
   ]
  },
  {
   "cell_type": "code",
   "execution_count": 461,
   "id": "ba6d6712",
   "metadata": {},
   "outputs": [
    {
     "data": {
      "text/html": [
       "<div>\n",
       "<style scoped>\n",
       "    .dataframe tbody tr th:only-of-type {\n",
       "        vertical-align: middle;\n",
       "    }\n",
       "\n",
       "    .dataframe tbody tr th {\n",
       "        vertical-align: top;\n",
       "    }\n",
       "\n",
       "    .dataframe thead th {\n",
       "        text-align: right;\n",
       "    }\n",
       "</style>\n",
       "<table border=\"1\" class=\"dataframe\">\n",
       "  <thead>\n",
       "    <tr style=\"text-align: right;\">\n",
       "      <th></th>\n",
       "      <th>id</th>\n",
       "      <th>name</th>\n",
       "      <th>sense</th>\n",
       "      <th>start</th>\n",
       "      <th>Matrix_id</th>\n",
       "      <th>width</th>\n",
       "      <th>end</th>\n",
       "      <th>Gene_name</th>\n",
       "      <th>source</th>\n",
       "    </tr>\n",
       "  </thead>\n",
       "  <tbody>\n",
       "    <tr>\n",
       "      <th>45999</th>\n",
       "      <td>NC_045512.2</td>\n",
       "      <td>NC_045512.2</td>\n",
       "      <td>+</td>\n",
       "      <td>11074</td>\n",
       "      <td>M150_0.6</td>\n",
       "      <td>7</td>\n",
       "      <td>11081</td>\n",
       "      <td>RALY</td>\n",
       "      <td>Attract</td>\n",
       "    </tr>\n",
       "    <tr>\n",
       "      <th>46000</th>\n",
       "      <td>NC_045512.2</td>\n",
       "      <td>NC_045512.2</td>\n",
       "      <td>+</td>\n",
       "      <td>11075</td>\n",
       "      <td>M150_0.6</td>\n",
       "      <td>7</td>\n",
       "      <td>11082</td>\n",
       "      <td>RALY</td>\n",
       "      <td>Attract</td>\n",
       "    </tr>\n",
       "    <tr>\n",
       "      <th>46001</th>\n",
       "      <td>NC_045512.2</td>\n",
       "      <td>NC_045512.2</td>\n",
       "      <td>+</td>\n",
       "      <td>11076</td>\n",
       "      <td>M150_0.6</td>\n",
       "      <td>7</td>\n",
       "      <td>11083</td>\n",
       "      <td>RALY</td>\n",
       "      <td>Attract</td>\n",
       "    </tr>\n",
       "    <tr>\n",
       "      <th>46002</th>\n",
       "      <td>NC_045512.2</td>\n",
       "      <td>NC_045512.2</td>\n",
       "      <td>+</td>\n",
       "      <td>19983</td>\n",
       "      <td>M150_0.6</td>\n",
       "      <td>7</td>\n",
       "      <td>19990</td>\n",
       "      <td>RALY</td>\n",
       "      <td>Attract</td>\n",
       "    </tr>\n",
       "    <tr>\n",
       "      <th>46003</th>\n",
       "      <td>NC_045512.2</td>\n",
       "      <td>NC_045512.2</td>\n",
       "      <td>+</td>\n",
       "      <td>21101</td>\n",
       "      <td>M150_0.6</td>\n",
       "      <td>7</td>\n",
       "      <td>21108</td>\n",
       "      <td>RALY</td>\n",
       "      <td>Attract</td>\n",
       "    </tr>\n",
       "  </tbody>\n",
       "</table>\n",
       "</div>"
      ],
      "text/plain": [
       "                id         name sense  start Matrix_id  width    end  \\\n",
       "45999  NC_045512.2  NC_045512.2     +  11074  M150_0.6      7  11081   \n",
       "46000  NC_045512.2  NC_045512.2     +  11075  M150_0.6      7  11082   \n",
       "46001  NC_045512.2  NC_045512.2     +  11076  M150_0.6      7  11083   \n",
       "46002  NC_045512.2  NC_045512.2     +  19983  M150_0.6      7  19990   \n",
       "46003  NC_045512.2  NC_045512.2     +  21101  M150_0.6      7  21108   \n",
       "\n",
       "      Gene_name   source  \n",
       "45999      RALY  Attract  \n",
       "46000      RALY  Attract  \n",
       "46001      RALY  Attract  \n",
       "46002      RALY  Attract  \n",
       "46003      RALY  Attract  "
      ]
     },
     "execution_count": 461,
     "metadata": {},
     "output_type": "execute_result"
    }
   ],
   "source": [
    "sites[(sites.Gene_name=='RALY') & (sites.sense=='+')]"
   ]
  },
  {
   "cell_type": "code",
   "execution_count": 463,
   "id": "cedd29e5",
   "metadata": {},
   "outputs": [
    {
     "data": {
      "text/html": [
       "<div>\n",
       "<style scoped>\n",
       "    .dataframe tbody tr th:only-of-type {\n",
       "        vertical-align: middle;\n",
       "    }\n",
       "\n",
       "    .dataframe tbody tr th {\n",
       "        vertical-align: top;\n",
       "    }\n",
       "\n",
       "    .dataframe thead th {\n",
       "        text-align: right;\n",
       "    }\n",
       "</style>\n",
       "<table border=\"1\" class=\"dataframe\">\n",
       "  <thead>\n",
       "    <tr style=\"text-align: right;\">\n",
       "      <th></th>\n",
       "      <th>id</th>\n",
       "      <th>name</th>\n",
       "      <th>sense</th>\n",
       "      <th>start</th>\n",
       "      <th>Matrix_id</th>\n",
       "      <th>width</th>\n",
       "      <th>end</th>\n",
       "      <th>Gene_name</th>\n",
       "      <th>source</th>\n",
       "    </tr>\n",
       "  </thead>\n",
       "  <tbody>\n",
       "    <tr>\n",
       "      <th>45967</th>\n",
       "      <td>NC_045512.2</td>\n",
       "      <td>NC_045512.2</td>\n",
       "      <td>+</td>\n",
       "      <td>11074</td>\n",
       "      <td>M232_0.6</td>\n",
       "      <td>7</td>\n",
       "      <td>11081</td>\n",
       "      <td>ELAVL1</td>\n",
       "      <td>Attract</td>\n",
       "    </tr>\n",
       "    <tr>\n",
       "      <th>45968</th>\n",
       "      <td>NC_045512.2</td>\n",
       "      <td>NC_045512.2</td>\n",
       "      <td>+</td>\n",
       "      <td>11075</td>\n",
       "      <td>M232_0.6</td>\n",
       "      <td>7</td>\n",
       "      <td>11082</td>\n",
       "      <td>ELAVL1</td>\n",
       "      <td>Attract</td>\n",
       "    </tr>\n",
       "    <tr>\n",
       "      <th>45969</th>\n",
       "      <td>NC_045512.2</td>\n",
       "      <td>NC_045512.2</td>\n",
       "      <td>+</td>\n",
       "      <td>11076</td>\n",
       "      <td>M232_0.6</td>\n",
       "      <td>7</td>\n",
       "      <td>11083</td>\n",
       "      <td>ELAVL1</td>\n",
       "      <td>Attract</td>\n",
       "    </tr>\n",
       "    <tr>\n",
       "      <th>45970</th>\n",
       "      <td>NC_045512.2</td>\n",
       "      <td>NC_045512.2</td>\n",
       "      <td>+</td>\n",
       "      <td>19983</td>\n",
       "      <td>M232_0.6</td>\n",
       "      <td>7</td>\n",
       "      <td>19990</td>\n",
       "      <td>ELAVL1</td>\n",
       "      <td>Attract</td>\n",
       "    </tr>\n",
       "  </tbody>\n",
       "</table>\n",
       "</div>"
      ],
      "text/plain": [
       "                id         name sense  start Matrix_id  width    end  \\\n",
       "45967  NC_045512.2  NC_045512.2     +  11074  M232_0.6      7  11081   \n",
       "45968  NC_045512.2  NC_045512.2     +  11075  M232_0.6      7  11082   \n",
       "45969  NC_045512.2  NC_045512.2     +  11076  M232_0.6      7  11083   \n",
       "45970  NC_045512.2  NC_045512.2     +  19983  M232_0.6      7  19990   \n",
       "\n",
       "      Gene_name   source  \n",
       "45967    ELAVL1  Attract  \n",
       "45968    ELAVL1  Attract  \n",
       "45969    ELAVL1  Attract  \n",
       "45970    ELAVL1  Attract  "
      ]
     },
     "execution_count": 463,
     "metadata": {},
     "output_type": "execute_result"
    }
   ],
   "source": [
    "sites[(sites.Matrix_id=='M232_0.6') & (sites.sense=='+')]"
   ]
  },
  {
   "cell_type": "code",
   "execution_count": 464,
   "id": "f6e66758",
   "metadata": {},
   "outputs": [
    {
     "data": {
      "text/html": [
       "<div>\n",
       "<style scoped>\n",
       "    .dataframe tbody tr th:only-of-type {\n",
       "        vertical-align: middle;\n",
       "    }\n",
       "\n",
       "    .dataframe tbody tr th {\n",
       "        vertical-align: top;\n",
       "    }\n",
       "\n",
       "    .dataframe thead th {\n",
       "        text-align: right;\n",
       "    }\n",
       "</style>\n",
       "<table border=\"1\" class=\"dataframe\">\n",
       "  <thead>\n",
       "    <tr style=\"text-align: right;\">\n",
       "      <th></th>\n",
       "      <th>id</th>\n",
       "      <th>name</th>\n",
       "      <th>sense</th>\n",
       "      <th>start</th>\n",
       "      <th>Matrix_id</th>\n",
       "      <th>width</th>\n",
       "      <th>end</th>\n",
       "      <th>Gene_name</th>\n",
       "      <th>source</th>\n",
       "    </tr>\n",
       "  </thead>\n",
       "  <tbody>\n",
       "    <tr>\n",
       "      <th>45932</th>\n",
       "      <td>NC_045512.2</td>\n",
       "      <td>NC_045512.2</td>\n",
       "      <td>+</td>\n",
       "      <td>9626</td>\n",
       "      <td>M149_0.6</td>\n",
       "      <td>7</td>\n",
       "      <td>9633</td>\n",
       "      <td>CPEB4</td>\n",
       "      <td>Attract</td>\n",
       "    </tr>\n",
       "    <tr>\n",
       "      <th>45933</th>\n",
       "      <td>NC_045512.2</td>\n",
       "      <td>NC_045512.2</td>\n",
       "      <td>+</td>\n",
       "      <td>11073</td>\n",
       "      <td>M149_0.6</td>\n",
       "      <td>7</td>\n",
       "      <td>11080</td>\n",
       "      <td>CPEB4</td>\n",
       "      <td>Attract</td>\n",
       "    </tr>\n",
       "    <tr>\n",
       "      <th>45934</th>\n",
       "      <td>NC_045512.2</td>\n",
       "      <td>NC_045512.2</td>\n",
       "      <td>+</td>\n",
       "      <td>11074</td>\n",
       "      <td>M149_0.6</td>\n",
       "      <td>7</td>\n",
       "      <td>11081</td>\n",
       "      <td>CPEB4</td>\n",
       "      <td>Attract</td>\n",
       "    </tr>\n",
       "    <tr>\n",
       "      <th>45935</th>\n",
       "      <td>NC_045512.2</td>\n",
       "      <td>NC_045512.2</td>\n",
       "      <td>+</td>\n",
       "      <td>11075</td>\n",
       "      <td>M149_0.6</td>\n",
       "      <td>7</td>\n",
       "      <td>11082</td>\n",
       "      <td>CPEB4</td>\n",
       "      <td>Attract</td>\n",
       "    </tr>\n",
       "    <tr>\n",
       "      <th>45936</th>\n",
       "      <td>NC_045512.2</td>\n",
       "      <td>NC_045512.2</td>\n",
       "      <td>+</td>\n",
       "      <td>19982</td>\n",
       "      <td>M149_0.6</td>\n",
       "      <td>7</td>\n",
       "      <td>19989</td>\n",
       "      <td>CPEB4</td>\n",
       "      <td>Attract</td>\n",
       "    </tr>\n",
       "    <tr>\n",
       "      <th>45937</th>\n",
       "      <td>NC_045512.2</td>\n",
       "      <td>NC_045512.2</td>\n",
       "      <td>+</td>\n",
       "      <td>21100</td>\n",
       "      <td>M149_0.6</td>\n",
       "      <td>7</td>\n",
       "      <td>21107</td>\n",
       "      <td>CPEB4</td>\n",
       "      <td>Attract</td>\n",
       "    </tr>\n",
       "  </tbody>\n",
       "</table>\n",
       "</div>"
      ],
      "text/plain": [
       "                id         name sense  start Matrix_id  width    end  \\\n",
       "45932  NC_045512.2  NC_045512.2     +   9626  M149_0.6      7   9633   \n",
       "45933  NC_045512.2  NC_045512.2     +  11073  M149_0.6      7  11080   \n",
       "45934  NC_045512.2  NC_045512.2     +  11074  M149_0.6      7  11081   \n",
       "45935  NC_045512.2  NC_045512.2     +  11075  M149_0.6      7  11082   \n",
       "45936  NC_045512.2  NC_045512.2     +  19982  M149_0.6      7  19989   \n",
       "45937  NC_045512.2  NC_045512.2     +  21100  M149_0.6      7  21107   \n",
       "\n",
       "      Gene_name   source  \n",
       "45932     CPEB4  Attract  \n",
       "45933     CPEB4  Attract  \n",
       "45934     CPEB4  Attract  \n",
       "45935     CPEB4  Attract  \n",
       "45936     CPEB4  Attract  \n",
       "45937     CPEB4  Attract  "
      ]
     },
     "execution_count": 464,
     "metadata": {},
     "output_type": "execute_result"
    }
   ],
   "source": [
    "sites[(sites.Gene_name=='CPEB4') & (sites.sense=='+')]"
   ]
  },
  {
   "cell_type": "code",
   "execution_count": 172,
   "id": "3cb313ae",
   "metadata": {},
   "outputs": [],
   "source": [
    "gff = pd.read_csv('../DATA/Genomes/Genomes/IV/Monopartite/Coronaviridae/GCF_009858895.2/GCF_009858895.2_ASM985889v3_genomic.gff.gz',\n",
    "                 compression='gzip', sep='\\t', skiprows=7, header=None)"
   ]
  },
  {
   "cell_type": "code",
   "execution_count": 173,
   "id": "1504b244",
   "metadata": {
    "scrolled": false
   },
   "outputs": [
    {
     "data": {
      "text/html": [
       "<div>\n",
       "<style scoped>\n",
       "    .dataframe tbody tr th:only-of-type {\n",
       "        vertical-align: middle;\n",
       "    }\n",
       "\n",
       "    .dataframe tbody tr th {\n",
       "        vertical-align: top;\n",
       "    }\n",
       "\n",
       "    .dataframe thead th {\n",
       "        text-align: right;\n",
       "    }\n",
       "</style>\n",
       "<table border=\"1\" class=\"dataframe\">\n",
       "  <thead>\n",
       "    <tr style=\"text-align: right;\">\n",
       "      <th></th>\n",
       "      <th>0</th>\n",
       "      <th>1</th>\n",
       "      <th>2</th>\n",
       "      <th>3</th>\n",
       "      <th>4</th>\n",
       "      <th>5</th>\n",
       "      <th>6</th>\n",
       "      <th>7</th>\n",
       "      <th>8</th>\n",
       "    </tr>\n",
       "  </thead>\n",
       "  <tbody>\n",
       "    <tr>\n",
       "      <th>0</th>\n",
       "      <td>NC_045512.2</td>\n",
       "      <td>RefSeq</td>\n",
       "      <td>region</td>\n",
       "      <td>1.0</td>\n",
       "      <td>29903.0</td>\n",
       "      <td>.</td>\n",
       "      <td>+</td>\n",
       "      <td>.</td>\n",
       "      <td>ID=NC_045512.2:1..29903;Dbxref=taxon:2697049;c...</td>\n",
       "    </tr>\n",
       "    <tr>\n",
       "      <th>1</th>\n",
       "      <td>NC_045512.2</td>\n",
       "      <td>RefSeq</td>\n",
       "      <td>five_prime_UTR</td>\n",
       "      <td>1.0</td>\n",
       "      <td>265.0</td>\n",
       "      <td>.</td>\n",
       "      <td>+</td>\n",
       "      <td>.</td>\n",
       "      <td>ID=id-NC_045512.2:1..265;gbkey=5'UTR</td>\n",
       "    </tr>\n",
       "    <tr>\n",
       "      <th>2</th>\n",
       "      <td>NC_045512.2</td>\n",
       "      <td>RefSeq</td>\n",
       "      <td>gene</td>\n",
       "      <td>266.0</td>\n",
       "      <td>21555.0</td>\n",
       "      <td>.</td>\n",
       "      <td>+</td>\n",
       "      <td>.</td>\n",
       "      <td>ID=gene-GU280_gp01;Dbxref=GeneID:43740578;Name...</td>\n",
       "    </tr>\n",
       "    <tr>\n",
       "      <th>3</th>\n",
       "      <td>NC_045512.2</td>\n",
       "      <td>RefSeq</td>\n",
       "      <td>CDS</td>\n",
       "      <td>266.0</td>\n",
       "      <td>13468.0</td>\n",
       "      <td>.</td>\n",
       "      <td>+</td>\n",
       "      <td>0</td>\n",
       "      <td>ID=cds-YP_009724389.1;Parent=gene-GU280_gp01;D...</td>\n",
       "    </tr>\n",
       "    <tr>\n",
       "      <th>4</th>\n",
       "      <td>NC_045512.2</td>\n",
       "      <td>RefSeq</td>\n",
       "      <td>CDS</td>\n",
       "      <td>13468.0</td>\n",
       "      <td>21555.0</td>\n",
       "      <td>.</td>\n",
       "      <td>+</td>\n",
       "      <td>0</td>\n",
       "      <td>ID=cds-YP_009724389.1;Parent=gene-GU280_gp01;D...</td>\n",
       "    </tr>\n",
       "    <tr>\n",
       "      <th>5</th>\n",
       "      <td>NC_045512.2</td>\n",
       "      <td>RefSeq</td>\n",
       "      <td>mature_protein_region_of_CDS</td>\n",
       "      <td>266.0</td>\n",
       "      <td>805.0</td>\n",
       "      <td>.</td>\n",
       "      <td>+</td>\n",
       "      <td>.</td>\n",
       "      <td>ID=id-YP_009724389.1:1..180;Note=nsp1%3B produ...</td>\n",
       "    </tr>\n",
       "    <tr>\n",
       "      <th>6</th>\n",
       "      <td>NC_045512.2</td>\n",
       "      <td>RefSeq</td>\n",
       "      <td>mature_protein_region_of_CDS</td>\n",
       "      <td>806.0</td>\n",
       "      <td>2719.0</td>\n",
       "      <td>.</td>\n",
       "      <td>+</td>\n",
       "      <td>.</td>\n",
       "      <td>ID=id-YP_009724389.1:181..818;Note=produced by...</td>\n",
       "    </tr>\n",
       "    <tr>\n",
       "      <th>7</th>\n",
       "      <td>NC_045512.2</td>\n",
       "      <td>RefSeq</td>\n",
       "      <td>mature_protein_region_of_CDS</td>\n",
       "      <td>2720.0</td>\n",
       "      <td>8554.0</td>\n",
       "      <td>.</td>\n",
       "      <td>+</td>\n",
       "      <td>.</td>\n",
       "      <td>ID=id-YP_009724389.1:819..2763;Note=former nsp...</td>\n",
       "    </tr>\n",
       "    <tr>\n",
       "      <th>8</th>\n",
       "      <td>NC_045512.2</td>\n",
       "      <td>RefSeq</td>\n",
       "      <td>mature_protein_region_of_CDS</td>\n",
       "      <td>8555.0</td>\n",
       "      <td>10054.0</td>\n",
       "      <td>.</td>\n",
       "      <td>+</td>\n",
       "      <td>.</td>\n",
       "      <td>ID=id-YP_009724389.1:2764..3263;Note=nsp4B_TM%...</td>\n",
       "    </tr>\n",
       "    <tr>\n",
       "      <th>9</th>\n",
       "      <td>NC_045512.2</td>\n",
       "      <td>RefSeq</td>\n",
       "      <td>mature_protein_region_of_CDS</td>\n",
       "      <td>10055.0</td>\n",
       "      <td>10972.0</td>\n",
       "      <td>.</td>\n",
       "      <td>+</td>\n",
       "      <td>.</td>\n",
       "      <td>ID=id-YP_009724389.1:3264..3569;Note=nsp5A_3CL...</td>\n",
       "    </tr>\n",
       "    <tr>\n",
       "      <th>10</th>\n",
       "      <td>NC_045512.2</td>\n",
       "      <td>RefSeq</td>\n",
       "      <td>mature_protein_region_of_CDS</td>\n",
       "      <td>10973.0</td>\n",
       "      <td>11842.0</td>\n",
       "      <td>.</td>\n",
       "      <td>+</td>\n",
       "      <td>.</td>\n",
       "      <td>ID=id-YP_009724389.1:3570..3859;Note=nsp6_TM%3...</td>\n",
       "    </tr>\n",
       "    <tr>\n",
       "      <th>11</th>\n",
       "      <td>NC_045512.2</td>\n",
       "      <td>RefSeq</td>\n",
       "      <td>mature_protein_region_of_CDS</td>\n",
       "      <td>11843.0</td>\n",
       "      <td>12091.0</td>\n",
       "      <td>.</td>\n",
       "      <td>+</td>\n",
       "      <td>.</td>\n",
       "      <td>ID=id-YP_009724389.1:3860..3942;Note=produced ...</td>\n",
       "    </tr>\n",
       "    <tr>\n",
       "      <th>12</th>\n",
       "      <td>NC_045512.2</td>\n",
       "      <td>RefSeq</td>\n",
       "      <td>mature_protein_region_of_CDS</td>\n",
       "      <td>12092.0</td>\n",
       "      <td>12685.0</td>\n",
       "      <td>.</td>\n",
       "      <td>+</td>\n",
       "      <td>.</td>\n",
       "      <td>ID=id-YP_009724389.1:3943..4140;Note=produced ...</td>\n",
       "    </tr>\n",
       "    <tr>\n",
       "      <th>13</th>\n",
       "      <td>NC_045512.2</td>\n",
       "      <td>RefSeq</td>\n",
       "      <td>mature_protein_region_of_CDS</td>\n",
       "      <td>12686.0</td>\n",
       "      <td>13024.0</td>\n",
       "      <td>.</td>\n",
       "      <td>+</td>\n",
       "      <td>.</td>\n",
       "      <td>ID=id-YP_009724389.1:4141..4253;Note=ssRNA-bin...</td>\n",
       "    </tr>\n",
       "    <tr>\n",
       "      <th>14</th>\n",
       "      <td>NC_045512.2</td>\n",
       "      <td>RefSeq</td>\n",
       "      <td>mature_protein_region_of_CDS</td>\n",
       "      <td>13025.0</td>\n",
       "      <td>13441.0</td>\n",
       "      <td>.</td>\n",
       "      <td>+</td>\n",
       "      <td>.</td>\n",
       "      <td>ID=id-YP_009724389.1:4254..4392;Note=nsp10_Cys...</td>\n",
       "    </tr>\n",
       "    <tr>\n",
       "      <th>15</th>\n",
       "      <td>NC_045512.2</td>\n",
       "      <td>RefSeq</td>\n",
       "      <td>mature_protein_region_of_CDS</td>\n",
       "      <td>13442.0</td>\n",
       "      <td>13468.0</td>\n",
       "      <td>.</td>\n",
       "      <td>+</td>\n",
       "      <td>.</td>\n",
       "      <td>ID=id-YP_009724389.1:4393..5324;Note=nsp12%3B ...</td>\n",
       "    </tr>\n",
       "    <tr>\n",
       "      <th>16</th>\n",
       "      <td>NC_045512.2</td>\n",
       "      <td>RefSeq</td>\n",
       "      <td>mature_protein_region_of_CDS</td>\n",
       "      <td>13468.0</td>\n",
       "      <td>16236.0</td>\n",
       "      <td>.</td>\n",
       "      <td>+</td>\n",
       "      <td>.</td>\n",
       "      <td>ID=id-YP_009724389.1:4393..5324;Note=nsp12%3B ...</td>\n",
       "    </tr>\n",
       "    <tr>\n",
       "      <th>17</th>\n",
       "      <td>NC_045512.2</td>\n",
       "      <td>RefSeq</td>\n",
       "      <td>mature_protein_region_of_CDS</td>\n",
       "      <td>16237.0</td>\n",
       "      <td>18039.0</td>\n",
       "      <td>.</td>\n",
       "      <td>+</td>\n",
       "      <td>.</td>\n",
       "      <td>ID=id-YP_009724389.1:5325..5925;Note=nsp13_ZBD...</td>\n",
       "    </tr>\n",
       "    <tr>\n",
       "      <th>18</th>\n",
       "      <td>NC_045512.2</td>\n",
       "      <td>RefSeq</td>\n",
       "      <td>mature_protein_region_of_CDS</td>\n",
       "      <td>18040.0</td>\n",
       "      <td>19620.0</td>\n",
       "      <td>.</td>\n",
       "      <td>+</td>\n",
       "      <td>.</td>\n",
       "      <td>ID=id-YP_009724389.1:5926..6452;Note=nsp14A2_E...</td>\n",
       "    </tr>\n",
       "    <tr>\n",
       "      <th>19</th>\n",
       "      <td>NC_045512.2</td>\n",
       "      <td>RefSeq</td>\n",
       "      <td>mature_protein_region_of_CDS</td>\n",
       "      <td>19621.0</td>\n",
       "      <td>20658.0</td>\n",
       "      <td>.</td>\n",
       "      <td>+</td>\n",
       "      <td>.</td>\n",
       "      <td>ID=id-YP_009724389.1:6453..6798;Note=nsp15-A1 ...</td>\n",
       "    </tr>\n",
       "    <tr>\n",
       "      <th>20</th>\n",
       "      <td>NC_045512.2</td>\n",
       "      <td>RefSeq</td>\n",
       "      <td>mature_protein_region_of_CDS</td>\n",
       "      <td>20659.0</td>\n",
       "      <td>21552.0</td>\n",
       "      <td>.</td>\n",
       "      <td>+</td>\n",
       "      <td>.</td>\n",
       "      <td>ID=id-YP_009724389.1:6799..7096;Note=nsp16_OMT...</td>\n",
       "    </tr>\n",
       "    <tr>\n",
       "      <th>21</th>\n",
       "      <td>NC_045512.2</td>\n",
       "      <td>RefSeq</td>\n",
       "      <td>CDS</td>\n",
       "      <td>266.0</td>\n",
       "      <td>13483.0</td>\n",
       "      <td>.</td>\n",
       "      <td>+</td>\n",
       "      <td>0</td>\n",
       "      <td>ID=cds-YP_009725295.1;Parent=gene-GU280_gp01;D...</td>\n",
       "    </tr>\n",
       "    <tr>\n",
       "      <th>22</th>\n",
       "      <td>NC_045512.2</td>\n",
       "      <td>RefSeq</td>\n",
       "      <td>mature_protein_region_of_CDS</td>\n",
       "      <td>266.0</td>\n",
       "      <td>805.0</td>\n",
       "      <td>.</td>\n",
       "      <td>+</td>\n",
       "      <td>.</td>\n",
       "      <td>ID=id-YP_009725295.1:1..180;Note=nsp1%3B produ...</td>\n",
       "    </tr>\n",
       "    <tr>\n",
       "      <th>23</th>\n",
       "      <td>NC_045512.2</td>\n",
       "      <td>RefSeq</td>\n",
       "      <td>mature_protein_region_of_CDS</td>\n",
       "      <td>806.0</td>\n",
       "      <td>2719.0</td>\n",
       "      <td>.</td>\n",
       "      <td>+</td>\n",
       "      <td>.</td>\n",
       "      <td>ID=id-YP_009725295.1:181..818;Note=produced by...</td>\n",
       "    </tr>\n",
       "    <tr>\n",
       "      <th>24</th>\n",
       "      <td>NC_045512.2</td>\n",
       "      <td>RefSeq</td>\n",
       "      <td>mature_protein_region_of_CDS</td>\n",
       "      <td>2720.0</td>\n",
       "      <td>8554.0</td>\n",
       "      <td>.</td>\n",
       "      <td>+</td>\n",
       "      <td>.</td>\n",
       "      <td>ID=id-YP_009725295.1:819..2763;Note=former nsp...</td>\n",
       "    </tr>\n",
       "    <tr>\n",
       "      <th>25</th>\n",
       "      <td>NC_045512.2</td>\n",
       "      <td>RefSeq</td>\n",
       "      <td>mature_protein_region_of_CDS</td>\n",
       "      <td>8555.0</td>\n",
       "      <td>10054.0</td>\n",
       "      <td>.</td>\n",
       "      <td>+</td>\n",
       "      <td>.</td>\n",
       "      <td>ID=id-YP_009725295.1:2764..3263;Note=nsp4B_TM%...</td>\n",
       "    </tr>\n",
       "    <tr>\n",
       "      <th>26</th>\n",
       "      <td>NC_045512.2</td>\n",
       "      <td>RefSeq</td>\n",
       "      <td>mature_protein_region_of_CDS</td>\n",
       "      <td>10055.0</td>\n",
       "      <td>10972.0</td>\n",
       "      <td>.</td>\n",
       "      <td>+</td>\n",
       "      <td>.</td>\n",
       "      <td>ID=id-YP_009725295.1:3264..3569;Note=nsp5A_3CL...</td>\n",
       "    </tr>\n",
       "    <tr>\n",
       "      <th>27</th>\n",
       "      <td>NC_045512.2</td>\n",
       "      <td>RefSeq</td>\n",
       "      <td>mature_protein_region_of_CDS</td>\n",
       "      <td>10973.0</td>\n",
       "      <td>11842.0</td>\n",
       "      <td>.</td>\n",
       "      <td>+</td>\n",
       "      <td>.</td>\n",
       "      <td>ID=id-YP_009725295.1:3570..3859;Note=nsp6_TM%3...</td>\n",
       "    </tr>\n",
       "    <tr>\n",
       "      <th>28</th>\n",
       "      <td>NC_045512.2</td>\n",
       "      <td>RefSeq</td>\n",
       "      <td>mature_protein_region_of_CDS</td>\n",
       "      <td>11843.0</td>\n",
       "      <td>12091.0</td>\n",
       "      <td>.</td>\n",
       "      <td>+</td>\n",
       "      <td>.</td>\n",
       "      <td>ID=id-YP_009725295.1:3860..3942;Note=produced ...</td>\n",
       "    </tr>\n",
       "    <tr>\n",
       "      <th>29</th>\n",
       "      <td>NC_045512.2</td>\n",
       "      <td>RefSeq</td>\n",
       "      <td>mature_protein_region_of_CDS</td>\n",
       "      <td>12092.0</td>\n",
       "      <td>12685.0</td>\n",
       "      <td>.</td>\n",
       "      <td>+</td>\n",
       "      <td>.</td>\n",
       "      <td>ID=id-YP_009725295.1:3943..4140;Note=produced ...</td>\n",
       "    </tr>\n",
       "    <tr>\n",
       "      <th>30</th>\n",
       "      <td>NC_045512.2</td>\n",
       "      <td>RefSeq</td>\n",
       "      <td>mature_protein_region_of_CDS</td>\n",
       "      <td>12686.0</td>\n",
       "      <td>13024.0</td>\n",
       "      <td>.</td>\n",
       "      <td>+</td>\n",
       "      <td>.</td>\n",
       "      <td>ID=id-YP_009725295.1:4141..4253;Note=ssRNA-bin...</td>\n",
       "    </tr>\n",
       "    <tr>\n",
       "      <th>31</th>\n",
       "      <td>NC_045512.2</td>\n",
       "      <td>RefSeq</td>\n",
       "      <td>mature_protein_region_of_CDS</td>\n",
       "      <td>13025.0</td>\n",
       "      <td>13441.0</td>\n",
       "      <td>.</td>\n",
       "      <td>+</td>\n",
       "      <td>.</td>\n",
       "      <td>ID=id-YP_009725295.1:4254..4392;Note=nsp10_Cys...</td>\n",
       "    </tr>\n",
       "    <tr>\n",
       "      <th>32</th>\n",
       "      <td>NC_045512.2</td>\n",
       "      <td>RefSeq</td>\n",
       "      <td>mature_protein_region_of_CDS</td>\n",
       "      <td>13442.0</td>\n",
       "      <td>13480.0</td>\n",
       "      <td>.</td>\n",
       "      <td>+</td>\n",
       "      <td>.</td>\n",
       "      <td>ID=id-YP_009725295.1:4393..4405;Note=produced ...</td>\n",
       "    </tr>\n",
       "    <tr>\n",
       "      <th>33</th>\n",
       "      <td>NC_045512.2</td>\n",
       "      <td>RefSeq</td>\n",
       "      <td>stem_loop</td>\n",
       "      <td>13476.0</td>\n",
       "      <td>13503.0</td>\n",
       "      <td>.</td>\n",
       "      <td>+</td>\n",
       "      <td>.</td>\n",
       "      <td>ID=id-GU280_gp01;Dbxref=GeneID:43740578;functi...</td>\n",
       "    </tr>\n",
       "    <tr>\n",
       "      <th>34</th>\n",
       "      <td>NC_045512.2</td>\n",
       "      <td>RefSeq</td>\n",
       "      <td>stem_loop</td>\n",
       "      <td>13488.0</td>\n",
       "      <td>13542.0</td>\n",
       "      <td>.</td>\n",
       "      <td>+</td>\n",
       "      <td>.</td>\n",
       "      <td>ID=id-GU280_gp01-2;Dbxref=GeneID:43740578;func...</td>\n",
       "    </tr>\n",
       "    <tr>\n",
       "      <th>35</th>\n",
       "      <td>NC_045512.2</td>\n",
       "      <td>RefSeq</td>\n",
       "      <td>gene</td>\n",
       "      <td>21563.0</td>\n",
       "      <td>25384.0</td>\n",
       "      <td>.</td>\n",
       "      <td>+</td>\n",
       "      <td>.</td>\n",
       "      <td>ID=gene-GU280_gp02;Dbxref=GeneID:43740568;Name...</td>\n",
       "    </tr>\n",
       "    <tr>\n",
       "      <th>36</th>\n",
       "      <td>NC_045512.2</td>\n",
       "      <td>RefSeq</td>\n",
       "      <td>CDS</td>\n",
       "      <td>21563.0</td>\n",
       "      <td>25384.0</td>\n",
       "      <td>.</td>\n",
       "      <td>+</td>\n",
       "      <td>0</td>\n",
       "      <td>ID=cds-YP_009724390.1;Parent=gene-GU280_gp02;D...</td>\n",
       "    </tr>\n",
       "    <tr>\n",
       "      <th>37</th>\n",
       "      <td>NC_045512.2</td>\n",
       "      <td>RefSeq</td>\n",
       "      <td>gene</td>\n",
       "      <td>25393.0</td>\n",
       "      <td>26220.0</td>\n",
       "      <td>.</td>\n",
       "      <td>+</td>\n",
       "      <td>.</td>\n",
       "      <td>ID=gene-GU280_gp03;Dbxref=GeneID:43740569;Name...</td>\n",
       "    </tr>\n",
       "    <tr>\n",
       "      <th>38</th>\n",
       "      <td>NC_045512.2</td>\n",
       "      <td>RefSeq</td>\n",
       "      <td>CDS</td>\n",
       "      <td>25393.0</td>\n",
       "      <td>26220.0</td>\n",
       "      <td>.</td>\n",
       "      <td>+</td>\n",
       "      <td>0</td>\n",
       "      <td>ID=cds-YP_009724391.1;Parent=gene-GU280_gp03;D...</td>\n",
       "    </tr>\n",
       "    <tr>\n",
       "      <th>39</th>\n",
       "      <td>NC_045512.2</td>\n",
       "      <td>RefSeq</td>\n",
       "      <td>gene</td>\n",
       "      <td>26245.0</td>\n",
       "      <td>26472.0</td>\n",
       "      <td>.</td>\n",
       "      <td>+</td>\n",
       "      <td>.</td>\n",
       "      <td>ID=gene-GU280_gp04;Dbxref=GeneID:43740570;Name...</td>\n",
       "    </tr>\n",
       "    <tr>\n",
       "      <th>40</th>\n",
       "      <td>NC_045512.2</td>\n",
       "      <td>RefSeq</td>\n",
       "      <td>CDS</td>\n",
       "      <td>26245.0</td>\n",
       "      <td>26472.0</td>\n",
       "      <td>.</td>\n",
       "      <td>+</td>\n",
       "      <td>0</td>\n",
       "      <td>ID=cds-YP_009724392.1;Parent=gene-GU280_gp04;D...</td>\n",
       "    </tr>\n",
       "    <tr>\n",
       "      <th>41</th>\n",
       "      <td>NC_045512.2</td>\n",
       "      <td>RefSeq</td>\n",
       "      <td>gene</td>\n",
       "      <td>26523.0</td>\n",
       "      <td>27191.0</td>\n",
       "      <td>.</td>\n",
       "      <td>+</td>\n",
       "      <td>.</td>\n",
       "      <td>ID=gene-GU280_gp05;Dbxref=GeneID:43740571;Name...</td>\n",
       "    </tr>\n",
       "    <tr>\n",
       "      <th>42</th>\n",
       "      <td>NC_045512.2</td>\n",
       "      <td>RefSeq</td>\n",
       "      <td>CDS</td>\n",
       "      <td>26523.0</td>\n",
       "      <td>27191.0</td>\n",
       "      <td>.</td>\n",
       "      <td>+</td>\n",
       "      <td>0</td>\n",
       "      <td>ID=cds-YP_009724393.1;Parent=gene-GU280_gp05;D...</td>\n",
       "    </tr>\n",
       "    <tr>\n",
       "      <th>43</th>\n",
       "      <td>NC_045512.2</td>\n",
       "      <td>RefSeq</td>\n",
       "      <td>gene</td>\n",
       "      <td>27202.0</td>\n",
       "      <td>27387.0</td>\n",
       "      <td>.</td>\n",
       "      <td>+</td>\n",
       "      <td>.</td>\n",
       "      <td>ID=gene-GU280_gp06;Dbxref=GeneID:43740572;Name...</td>\n",
       "    </tr>\n",
       "    <tr>\n",
       "      <th>44</th>\n",
       "      <td>NC_045512.2</td>\n",
       "      <td>RefSeq</td>\n",
       "      <td>CDS</td>\n",
       "      <td>27202.0</td>\n",
       "      <td>27387.0</td>\n",
       "      <td>.</td>\n",
       "      <td>+</td>\n",
       "      <td>0</td>\n",
       "      <td>ID=cds-YP_009724394.1;Parent=gene-GU280_gp06;D...</td>\n",
       "    </tr>\n",
       "    <tr>\n",
       "      <th>45</th>\n",
       "      <td>NC_045512.2</td>\n",
       "      <td>RefSeq</td>\n",
       "      <td>gene</td>\n",
       "      <td>27394.0</td>\n",
       "      <td>27759.0</td>\n",
       "      <td>.</td>\n",
       "      <td>+</td>\n",
       "      <td>.</td>\n",
       "      <td>ID=gene-GU280_gp07;Dbxref=GeneID:43740573;Name...</td>\n",
       "    </tr>\n",
       "    <tr>\n",
       "      <th>46</th>\n",
       "      <td>NC_045512.2</td>\n",
       "      <td>RefSeq</td>\n",
       "      <td>CDS</td>\n",
       "      <td>27394.0</td>\n",
       "      <td>27759.0</td>\n",
       "      <td>.</td>\n",
       "      <td>+</td>\n",
       "      <td>0</td>\n",
       "      <td>ID=cds-YP_009724395.1;Parent=gene-GU280_gp07;D...</td>\n",
       "    </tr>\n",
       "    <tr>\n",
       "      <th>47</th>\n",
       "      <td>NC_045512.2</td>\n",
       "      <td>RefSeq</td>\n",
       "      <td>gene</td>\n",
       "      <td>27756.0</td>\n",
       "      <td>27887.0</td>\n",
       "      <td>.</td>\n",
       "      <td>+</td>\n",
       "      <td>.</td>\n",
       "      <td>ID=gene-GU280_gp08;Dbxref=GeneID:43740574;Name...</td>\n",
       "    </tr>\n",
       "    <tr>\n",
       "      <th>48</th>\n",
       "      <td>NC_045512.2</td>\n",
       "      <td>RefSeq</td>\n",
       "      <td>CDS</td>\n",
       "      <td>27756.0</td>\n",
       "      <td>27887.0</td>\n",
       "      <td>.</td>\n",
       "      <td>+</td>\n",
       "      <td>0</td>\n",
       "      <td>ID=cds-YP_009725318.1;Parent=gene-GU280_gp08;D...</td>\n",
       "    </tr>\n",
       "    <tr>\n",
       "      <th>49</th>\n",
       "      <td>NC_045512.2</td>\n",
       "      <td>RefSeq</td>\n",
       "      <td>gene</td>\n",
       "      <td>27894.0</td>\n",
       "      <td>28259.0</td>\n",
       "      <td>.</td>\n",
       "      <td>+</td>\n",
       "      <td>.</td>\n",
       "      <td>ID=gene-GU280_gp09;Dbxref=GeneID:43740577;Name...</td>\n",
       "    </tr>\n",
       "    <tr>\n",
       "      <th>50</th>\n",
       "      <td>NC_045512.2</td>\n",
       "      <td>RefSeq</td>\n",
       "      <td>CDS</td>\n",
       "      <td>27894.0</td>\n",
       "      <td>28259.0</td>\n",
       "      <td>.</td>\n",
       "      <td>+</td>\n",
       "      <td>0</td>\n",
       "      <td>ID=cds-YP_009724396.1;Parent=gene-GU280_gp09;D...</td>\n",
       "    </tr>\n",
       "    <tr>\n",
       "      <th>51</th>\n",
       "      <td>NC_045512.2</td>\n",
       "      <td>RefSeq</td>\n",
       "      <td>gene</td>\n",
       "      <td>28274.0</td>\n",
       "      <td>29533.0</td>\n",
       "      <td>.</td>\n",
       "      <td>+</td>\n",
       "      <td>.</td>\n",
       "      <td>ID=gene-GU280_gp10;Dbxref=GeneID:43740575;Name...</td>\n",
       "    </tr>\n",
       "    <tr>\n",
       "      <th>52</th>\n",
       "      <td>NC_045512.2</td>\n",
       "      <td>RefSeq</td>\n",
       "      <td>CDS</td>\n",
       "      <td>28274.0</td>\n",
       "      <td>29533.0</td>\n",
       "      <td>.</td>\n",
       "      <td>+</td>\n",
       "      <td>0</td>\n",
       "      <td>ID=cds-YP_009724397.2;Parent=gene-GU280_gp10;D...</td>\n",
       "    </tr>\n",
       "    <tr>\n",
       "      <th>53</th>\n",
       "      <td>NC_045512.2</td>\n",
       "      <td>RefSeq</td>\n",
       "      <td>gene</td>\n",
       "      <td>29558.0</td>\n",
       "      <td>29674.0</td>\n",
       "      <td>.</td>\n",
       "      <td>+</td>\n",
       "      <td>.</td>\n",
       "      <td>ID=gene-GU280_gp11;Dbxref=GeneID:43740576;Name...</td>\n",
       "    </tr>\n",
       "    <tr>\n",
       "      <th>54</th>\n",
       "      <td>NC_045512.2</td>\n",
       "      <td>RefSeq</td>\n",
       "      <td>CDS</td>\n",
       "      <td>29558.0</td>\n",
       "      <td>29674.0</td>\n",
       "      <td>.</td>\n",
       "      <td>+</td>\n",
       "      <td>0</td>\n",
       "      <td>ID=cds-YP_009725255.1;Parent=gene-GU280_gp11;D...</td>\n",
       "    </tr>\n",
       "    <tr>\n",
       "      <th>55</th>\n",
       "      <td>NC_045512.2</td>\n",
       "      <td>RefSeq</td>\n",
       "      <td>stem_loop</td>\n",
       "      <td>29609.0</td>\n",
       "      <td>29644.0</td>\n",
       "      <td>.</td>\n",
       "      <td>+</td>\n",
       "      <td>.</td>\n",
       "      <td>ID=id-GU280_gp11;Dbxref=GeneID:43740576;functi...</td>\n",
       "    </tr>\n",
       "    <tr>\n",
       "      <th>56</th>\n",
       "      <td>NC_045512.2</td>\n",
       "      <td>RefSeq</td>\n",
       "      <td>stem_loop</td>\n",
       "      <td>29629.0</td>\n",
       "      <td>29657.0</td>\n",
       "      <td>.</td>\n",
       "      <td>+</td>\n",
       "      <td>.</td>\n",
       "      <td>ID=id-GU280_gp11-2;Dbxref=GeneID:43740576;func...</td>\n",
       "    </tr>\n",
       "    <tr>\n",
       "      <th>57</th>\n",
       "      <td>NC_045512.2</td>\n",
       "      <td>RefSeq</td>\n",
       "      <td>three_prime_UTR</td>\n",
       "      <td>29675.0</td>\n",
       "      <td>29903.0</td>\n",
       "      <td>.</td>\n",
       "      <td>+</td>\n",
       "      <td>.</td>\n",
       "      <td>ID=id-NC_045512.2:29675..29903;gbkey=3'UTR</td>\n",
       "    </tr>\n",
       "    <tr>\n",
       "      <th>58</th>\n",
       "      <td>NC_045512.2</td>\n",
       "      <td>RefSeq</td>\n",
       "      <td>stem_loop</td>\n",
       "      <td>29728.0</td>\n",
       "      <td>29768.0</td>\n",
       "      <td>.</td>\n",
       "      <td>+</td>\n",
       "      <td>.</td>\n",
       "      <td>ID=id-NC_045512.2:29728..29768;Note=basepair e...</td>\n",
       "    </tr>\n",
       "    <tr>\n",
       "      <th>59</th>\n",
       "      <td>###</td>\n",
       "      <td>NaN</td>\n",
       "      <td>NaN</td>\n",
       "      <td>NaN</td>\n",
       "      <td>NaN</td>\n",
       "      <td>NaN</td>\n",
       "      <td>NaN</td>\n",
       "      <td>NaN</td>\n",
       "      <td>NaN</td>\n",
       "    </tr>\n",
       "  </tbody>\n",
       "</table>\n",
       "</div>"
      ],
      "text/plain": [
       "              0       1                             2        3        4    5  \\\n",
       "0   NC_045512.2  RefSeq                        region      1.0  29903.0    .   \n",
       "1   NC_045512.2  RefSeq                five_prime_UTR      1.0    265.0    .   \n",
       "2   NC_045512.2  RefSeq                          gene    266.0  21555.0    .   \n",
       "3   NC_045512.2  RefSeq                           CDS    266.0  13468.0    .   \n",
       "4   NC_045512.2  RefSeq                           CDS  13468.0  21555.0    .   \n",
       "5   NC_045512.2  RefSeq  mature_protein_region_of_CDS    266.0    805.0    .   \n",
       "6   NC_045512.2  RefSeq  mature_protein_region_of_CDS    806.0   2719.0    .   \n",
       "7   NC_045512.2  RefSeq  mature_protein_region_of_CDS   2720.0   8554.0    .   \n",
       "8   NC_045512.2  RefSeq  mature_protein_region_of_CDS   8555.0  10054.0    .   \n",
       "9   NC_045512.2  RefSeq  mature_protein_region_of_CDS  10055.0  10972.0    .   \n",
       "10  NC_045512.2  RefSeq  mature_protein_region_of_CDS  10973.0  11842.0    .   \n",
       "11  NC_045512.2  RefSeq  mature_protein_region_of_CDS  11843.0  12091.0    .   \n",
       "12  NC_045512.2  RefSeq  mature_protein_region_of_CDS  12092.0  12685.0    .   \n",
       "13  NC_045512.2  RefSeq  mature_protein_region_of_CDS  12686.0  13024.0    .   \n",
       "14  NC_045512.2  RefSeq  mature_protein_region_of_CDS  13025.0  13441.0    .   \n",
       "15  NC_045512.2  RefSeq  mature_protein_region_of_CDS  13442.0  13468.0    .   \n",
       "16  NC_045512.2  RefSeq  mature_protein_region_of_CDS  13468.0  16236.0    .   \n",
       "17  NC_045512.2  RefSeq  mature_protein_region_of_CDS  16237.0  18039.0    .   \n",
       "18  NC_045512.2  RefSeq  mature_protein_region_of_CDS  18040.0  19620.0    .   \n",
       "19  NC_045512.2  RefSeq  mature_protein_region_of_CDS  19621.0  20658.0    .   \n",
       "20  NC_045512.2  RefSeq  mature_protein_region_of_CDS  20659.0  21552.0    .   \n",
       "21  NC_045512.2  RefSeq                           CDS    266.0  13483.0    .   \n",
       "22  NC_045512.2  RefSeq  mature_protein_region_of_CDS    266.0    805.0    .   \n",
       "23  NC_045512.2  RefSeq  mature_protein_region_of_CDS    806.0   2719.0    .   \n",
       "24  NC_045512.2  RefSeq  mature_protein_region_of_CDS   2720.0   8554.0    .   \n",
       "25  NC_045512.2  RefSeq  mature_protein_region_of_CDS   8555.0  10054.0    .   \n",
       "26  NC_045512.2  RefSeq  mature_protein_region_of_CDS  10055.0  10972.0    .   \n",
       "27  NC_045512.2  RefSeq  mature_protein_region_of_CDS  10973.0  11842.0    .   \n",
       "28  NC_045512.2  RefSeq  mature_protein_region_of_CDS  11843.0  12091.0    .   \n",
       "29  NC_045512.2  RefSeq  mature_protein_region_of_CDS  12092.0  12685.0    .   \n",
       "30  NC_045512.2  RefSeq  mature_protein_region_of_CDS  12686.0  13024.0    .   \n",
       "31  NC_045512.2  RefSeq  mature_protein_region_of_CDS  13025.0  13441.0    .   \n",
       "32  NC_045512.2  RefSeq  mature_protein_region_of_CDS  13442.0  13480.0    .   \n",
       "33  NC_045512.2  RefSeq                     stem_loop  13476.0  13503.0    .   \n",
       "34  NC_045512.2  RefSeq                     stem_loop  13488.0  13542.0    .   \n",
       "35  NC_045512.2  RefSeq                          gene  21563.0  25384.0    .   \n",
       "36  NC_045512.2  RefSeq                           CDS  21563.0  25384.0    .   \n",
       "37  NC_045512.2  RefSeq                          gene  25393.0  26220.0    .   \n",
       "38  NC_045512.2  RefSeq                           CDS  25393.0  26220.0    .   \n",
       "39  NC_045512.2  RefSeq                          gene  26245.0  26472.0    .   \n",
       "40  NC_045512.2  RefSeq                           CDS  26245.0  26472.0    .   \n",
       "41  NC_045512.2  RefSeq                          gene  26523.0  27191.0    .   \n",
       "42  NC_045512.2  RefSeq                           CDS  26523.0  27191.0    .   \n",
       "43  NC_045512.2  RefSeq                          gene  27202.0  27387.0    .   \n",
       "44  NC_045512.2  RefSeq                           CDS  27202.0  27387.0    .   \n",
       "45  NC_045512.2  RefSeq                          gene  27394.0  27759.0    .   \n",
       "46  NC_045512.2  RefSeq                           CDS  27394.0  27759.0    .   \n",
       "47  NC_045512.2  RefSeq                          gene  27756.0  27887.0    .   \n",
       "48  NC_045512.2  RefSeq                           CDS  27756.0  27887.0    .   \n",
       "49  NC_045512.2  RefSeq                          gene  27894.0  28259.0    .   \n",
       "50  NC_045512.2  RefSeq                           CDS  27894.0  28259.0    .   \n",
       "51  NC_045512.2  RefSeq                          gene  28274.0  29533.0    .   \n",
       "52  NC_045512.2  RefSeq                           CDS  28274.0  29533.0    .   \n",
       "53  NC_045512.2  RefSeq                          gene  29558.0  29674.0    .   \n",
       "54  NC_045512.2  RefSeq                           CDS  29558.0  29674.0    .   \n",
       "55  NC_045512.2  RefSeq                     stem_loop  29609.0  29644.0    .   \n",
       "56  NC_045512.2  RefSeq                     stem_loop  29629.0  29657.0    .   \n",
       "57  NC_045512.2  RefSeq               three_prime_UTR  29675.0  29903.0    .   \n",
       "58  NC_045512.2  RefSeq                     stem_loop  29728.0  29768.0    .   \n",
       "59          ###     NaN                           NaN      NaN      NaN  NaN   \n",
       "\n",
       "      6    7                                                  8  \n",
       "0     +    .  ID=NC_045512.2:1..29903;Dbxref=taxon:2697049;c...  \n",
       "1     +    .               ID=id-NC_045512.2:1..265;gbkey=5'UTR  \n",
       "2     +    .  ID=gene-GU280_gp01;Dbxref=GeneID:43740578;Name...  \n",
       "3     +    0  ID=cds-YP_009724389.1;Parent=gene-GU280_gp01;D...  \n",
       "4     +    0  ID=cds-YP_009724389.1;Parent=gene-GU280_gp01;D...  \n",
       "5     +    .  ID=id-YP_009724389.1:1..180;Note=nsp1%3B produ...  \n",
       "6     +    .  ID=id-YP_009724389.1:181..818;Note=produced by...  \n",
       "7     +    .  ID=id-YP_009724389.1:819..2763;Note=former nsp...  \n",
       "8     +    .  ID=id-YP_009724389.1:2764..3263;Note=nsp4B_TM%...  \n",
       "9     +    .  ID=id-YP_009724389.1:3264..3569;Note=nsp5A_3CL...  \n",
       "10    +    .  ID=id-YP_009724389.1:3570..3859;Note=nsp6_TM%3...  \n",
       "11    +    .  ID=id-YP_009724389.1:3860..3942;Note=produced ...  \n",
       "12    +    .  ID=id-YP_009724389.1:3943..4140;Note=produced ...  \n",
       "13    +    .  ID=id-YP_009724389.1:4141..4253;Note=ssRNA-bin...  \n",
       "14    +    .  ID=id-YP_009724389.1:4254..4392;Note=nsp10_Cys...  \n",
       "15    +    .  ID=id-YP_009724389.1:4393..5324;Note=nsp12%3B ...  \n",
       "16    +    .  ID=id-YP_009724389.1:4393..5324;Note=nsp12%3B ...  \n",
       "17    +    .  ID=id-YP_009724389.1:5325..5925;Note=nsp13_ZBD...  \n",
       "18    +    .  ID=id-YP_009724389.1:5926..6452;Note=nsp14A2_E...  \n",
       "19    +    .  ID=id-YP_009724389.1:6453..6798;Note=nsp15-A1 ...  \n",
       "20    +    .  ID=id-YP_009724389.1:6799..7096;Note=nsp16_OMT...  \n",
       "21    +    0  ID=cds-YP_009725295.1;Parent=gene-GU280_gp01;D...  \n",
       "22    +    .  ID=id-YP_009725295.1:1..180;Note=nsp1%3B produ...  \n",
       "23    +    .  ID=id-YP_009725295.1:181..818;Note=produced by...  \n",
       "24    +    .  ID=id-YP_009725295.1:819..2763;Note=former nsp...  \n",
       "25    +    .  ID=id-YP_009725295.1:2764..3263;Note=nsp4B_TM%...  \n",
       "26    +    .  ID=id-YP_009725295.1:3264..3569;Note=nsp5A_3CL...  \n",
       "27    +    .  ID=id-YP_009725295.1:3570..3859;Note=nsp6_TM%3...  \n",
       "28    +    .  ID=id-YP_009725295.1:3860..3942;Note=produced ...  \n",
       "29    +    .  ID=id-YP_009725295.1:3943..4140;Note=produced ...  \n",
       "30    +    .  ID=id-YP_009725295.1:4141..4253;Note=ssRNA-bin...  \n",
       "31    +    .  ID=id-YP_009725295.1:4254..4392;Note=nsp10_Cys...  \n",
       "32    +    .  ID=id-YP_009725295.1:4393..4405;Note=produced ...  \n",
       "33    +    .  ID=id-GU280_gp01;Dbxref=GeneID:43740578;functi...  \n",
       "34    +    .  ID=id-GU280_gp01-2;Dbxref=GeneID:43740578;func...  \n",
       "35    +    .  ID=gene-GU280_gp02;Dbxref=GeneID:43740568;Name...  \n",
       "36    +    0  ID=cds-YP_009724390.1;Parent=gene-GU280_gp02;D...  \n",
       "37    +    .  ID=gene-GU280_gp03;Dbxref=GeneID:43740569;Name...  \n",
       "38    +    0  ID=cds-YP_009724391.1;Parent=gene-GU280_gp03;D...  \n",
       "39    +    .  ID=gene-GU280_gp04;Dbxref=GeneID:43740570;Name...  \n",
       "40    +    0  ID=cds-YP_009724392.1;Parent=gene-GU280_gp04;D...  \n",
       "41    +    .  ID=gene-GU280_gp05;Dbxref=GeneID:43740571;Name...  \n",
       "42    +    0  ID=cds-YP_009724393.1;Parent=gene-GU280_gp05;D...  \n",
       "43    +    .  ID=gene-GU280_gp06;Dbxref=GeneID:43740572;Name...  \n",
       "44    +    0  ID=cds-YP_009724394.1;Parent=gene-GU280_gp06;D...  \n",
       "45    +    .  ID=gene-GU280_gp07;Dbxref=GeneID:43740573;Name...  \n",
       "46    +    0  ID=cds-YP_009724395.1;Parent=gene-GU280_gp07;D...  \n",
       "47    +    .  ID=gene-GU280_gp08;Dbxref=GeneID:43740574;Name...  \n",
       "48    +    0  ID=cds-YP_009725318.1;Parent=gene-GU280_gp08;D...  \n",
       "49    +    .  ID=gene-GU280_gp09;Dbxref=GeneID:43740577;Name...  \n",
       "50    +    0  ID=cds-YP_009724396.1;Parent=gene-GU280_gp09;D...  \n",
       "51    +    .  ID=gene-GU280_gp10;Dbxref=GeneID:43740575;Name...  \n",
       "52    +    0  ID=cds-YP_009724397.2;Parent=gene-GU280_gp10;D...  \n",
       "53    +    .  ID=gene-GU280_gp11;Dbxref=GeneID:43740576;Name...  \n",
       "54    +    0  ID=cds-YP_009725255.1;Parent=gene-GU280_gp11;D...  \n",
       "55    +    .  ID=id-GU280_gp11;Dbxref=GeneID:43740576;functi...  \n",
       "56    +    .  ID=id-GU280_gp11-2;Dbxref=GeneID:43740576;func...  \n",
       "57    +    .         ID=id-NC_045512.2:29675..29903;gbkey=3'UTR  \n",
       "58    +    .  ID=id-NC_045512.2:29728..29768;Note=basepair e...  \n",
       "59  NaN  NaN                                                NaN  "
      ]
     },
     "execution_count": 173,
     "metadata": {},
     "output_type": "execute_result"
    }
   ],
   "source": [
    "gff"
   ]
  },
  {
   "cell_type": "code",
   "execution_count": null,
   "id": "9c24c32a",
   "metadata": {},
   "outputs": [],
   "source": []
  }
 ],
 "metadata": {
  "kernelspec": {
   "display_name": "Python (vir2)",
   "language": "python",
   "name": "myenv"
  },
  "language_info": {
   "codemirror_mode": {
    "name": "ipython",
    "version": 3
   },
   "file_extension": ".py",
   "mimetype": "text/x-python",
   "name": "python",
   "nbconvert_exporter": "python",
   "pygments_lexer": "ipython3",
   "version": "3.7.10"
  }
 },
 "nbformat": 4,
 "nbformat_minor": 5
}
