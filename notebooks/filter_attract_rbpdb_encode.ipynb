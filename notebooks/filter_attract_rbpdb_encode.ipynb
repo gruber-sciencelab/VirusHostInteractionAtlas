{
 "cells": [
  {
   "cell_type": "markdown",
   "metadata": {},
   "source": [
    "# Processing RBPs and PWMs from Attract, RBPDB and ENCODE databases"
   ]
  },
  {
   "cell_type": "markdown",
   "metadata": {},
   "source": [
    "### Import"
   ]
  },
  {
   "cell_type": "code",
   "execution_count": 1,
   "metadata": {},
   "outputs": [],
   "source": [
    "import numpy as np\n",
    "import pandas as pd\n",
    "import re\n",
    "import h5py\n",
    "import matplotlib.pyplot as plt\n",
    "import seqlogo\n",
    "\n",
    "# Suppress FutureWarnings\n",
    "import warnings\n",
    "warnings.simplefilter(action='ignore', category=FutureWarning)\n",
    "\n",
    "# Find SMEAGOL\n",
    "import sys\n",
    "sys.path.append('../../SMEAGOL')\n",
    "\n",
    "from smeagol.matrices import *\n",
    "from smeagol.visualize import *\n",
    "from smeagol.io import *"
   ]
  },
  {
   "cell_type": "markdown",
   "metadata": {},
   "source": [
    "### Read RBPs from Attract"
   ]
  },
  {
   "cell_type": "code",
   "execution_count": 2,
   "metadata": {},
   "outputs": [
    {
     "data": {
      "text/html": [
       "<div>\n",
       "<style scoped>\n",
       "    .dataframe tbody tr th:only-of-type {\n",
       "        vertical-align: middle;\n",
       "    }\n",
       "\n",
       "    .dataframe tbody tr th {\n",
       "        vertical-align: top;\n",
       "    }\n",
       "\n",
       "    .dataframe thead th {\n",
       "        text-align: right;\n",
       "    }\n",
       "</style>\n",
       "<table border=\"1\" class=\"dataframe\">\n",
       "  <thead>\n",
       "    <tr style=\"text-align: right;\">\n",
       "      <th></th>\n",
       "      <th>Gene_name</th>\n",
       "      <th>Gene_id</th>\n",
       "      <th>Mutated</th>\n",
       "      <th>Organism</th>\n",
       "      <th>Motif</th>\n",
       "      <th>Len</th>\n",
       "      <th>Experiment_description</th>\n",
       "      <th>Database</th>\n",
       "      <th>Pubmed</th>\n",
       "      <th>Experiment_description.1</th>\n",
       "      <th>Family</th>\n",
       "      <th>Matrix_id</th>\n",
       "      <th>Score</th>\n",
       "    </tr>\n",
       "  </thead>\n",
       "  <tbody>\n",
       "    <tr>\n",
       "      <th>0</th>\n",
       "      <td>3IVK</td>\n",
       "      <td>3IVK</td>\n",
       "      <td>no</td>\n",
       "      <td>Mus_musculus</td>\n",
       "      <td>GAAACA</td>\n",
       "      <td>6</td>\n",
       "      <td>X-RAY DIFFRACTION</td>\n",
       "      <td>PDB</td>\n",
       "      <td>19965478</td>\n",
       "      <td>X-RAY DIFFRACTION</td>\n",
       "      <td>NaN</td>\n",
       "      <td>519</td>\n",
       "      <td>1.000000**</td>\n",
       "    </tr>\n",
       "    <tr>\n",
       "      <th>1</th>\n",
       "      <td>3IVK</td>\n",
       "      <td>3IVK</td>\n",
       "      <td>no</td>\n",
       "      <td>Mus_musculus</td>\n",
       "      <td>UGGG</td>\n",
       "      <td>4</td>\n",
       "      <td>X-RAY DIFFRACTION</td>\n",
       "      <td>PDB</td>\n",
       "      <td>19965478</td>\n",
       "      <td>X-RAY DIFFRACTION</td>\n",
       "      <td>NaN</td>\n",
       "      <td>574</td>\n",
       "      <td>1.000000**</td>\n",
       "    </tr>\n",
       "    <tr>\n",
       "      <th>2</th>\n",
       "      <td>4KZD</td>\n",
       "      <td>4KZD</td>\n",
       "      <td>no</td>\n",
       "      <td>Mus_musculus</td>\n",
       "      <td>GAAAC</td>\n",
       "      <td>5</td>\n",
       "      <td>X-RAY DIFFRACTION</td>\n",
       "      <td>PDB</td>\n",
       "      <td>24952597</td>\n",
       "      <td>X-RAY DIFFRACTION</td>\n",
       "      <td>NaN</td>\n",
       "      <td>464</td>\n",
       "      <td>1.000000**</td>\n",
       "    </tr>\n",
       "    <tr>\n",
       "      <th>3</th>\n",
       "      <td>4KZE</td>\n",
       "      <td>4KZE</td>\n",
       "      <td>no</td>\n",
       "      <td>Mus_musculus</td>\n",
       "      <td>GAAAC</td>\n",
       "      <td>5</td>\n",
       "      <td>X-RAY DIFFRACTION</td>\n",
       "      <td>PDB</td>\n",
       "      <td>24952597</td>\n",
       "      <td>X-RAY DIFFRACTION</td>\n",
       "      <td>NaN</td>\n",
       "      <td>437</td>\n",
       "      <td>1.000000**</td>\n",
       "    </tr>\n",
       "    <tr>\n",
       "      <th>4</th>\n",
       "      <td>4Q9Q</td>\n",
       "      <td>4Q9Q</td>\n",
       "      <td>no</td>\n",
       "      <td>Mus_musculus</td>\n",
       "      <td>GAAAC</td>\n",
       "      <td>5</td>\n",
       "      <td>X-RAY DIFFRACTION</td>\n",
       "      <td>PDB</td>\n",
       "      <td>24952597</td>\n",
       "      <td>X-RAY DIFFRACTION</td>\n",
       "      <td>NaN</td>\n",
       "      <td>423</td>\n",
       "      <td>1.000000**</td>\n",
       "    </tr>\n",
       "  </tbody>\n",
       "</table>\n",
       "</div>"
      ],
      "text/plain": [
       "  Gene_name Gene_id Mutated      Organism   Motif  Len Experiment_description  \\\n",
       "0      3IVK    3IVK      no  Mus_musculus  GAAACA    6      X-RAY DIFFRACTION   \n",
       "1      3IVK    3IVK      no  Mus_musculus    UGGG    4      X-RAY DIFFRACTION   \n",
       "2      4KZD    4KZD      no  Mus_musculus   GAAAC    5      X-RAY DIFFRACTION   \n",
       "3      4KZE    4KZE      no  Mus_musculus   GAAAC    5      X-RAY DIFFRACTION   \n",
       "4      4Q9Q    4Q9Q      no  Mus_musculus   GAAAC    5      X-RAY DIFFRACTION   \n",
       "\n",
       "  Database    Pubmed Experiment_description.1 Family Matrix_id       Score  \n",
       "0      PDB  19965478        X-RAY DIFFRACTION    NaN       519  1.000000**  \n",
       "1      PDB  19965478        X-RAY DIFFRACTION    NaN       574  1.000000**  \n",
       "2      PDB  24952597        X-RAY DIFFRACTION    NaN       464  1.000000**  \n",
       "3      PDB  24952597        X-RAY DIFFRACTION    NaN       437  1.000000**  \n",
       "4      PDB  24952597        X-RAY DIFFRACTION    NaN       423  1.000000**  "
      ]
     },
     "execution_count": 2,
     "metadata": {},
     "output_type": "execute_result"
    }
   ],
   "source": [
    "rbps = pd.read_csv('../DATA/PWMS/ATtRACT/ATtRACT_db.txt', sep=\"\\t\")\n",
    "rbps.head()"
   ]
  },
  {
   "cell_type": "markdown",
   "metadata": {},
   "source": [
    "### Filter human RBPs only"
   ]
  },
  {
   "cell_type": "code",
   "execution_count": 3,
   "metadata": {},
   "outputs": [],
   "source": [
    "rbps = rbps[rbps.Organism==\"Homo_sapiens\"]"
   ]
  },
  {
   "cell_type": "markdown",
   "metadata": {},
   "source": [
    "### Filter multiple-sequence motifs"
   ]
  },
  {
   "cell_type": "code",
   "execution_count": 4,
   "metadata": {},
   "outputs": [],
   "source": [
    "rbps = rbps[rbps.Score!=\"1.000000**\"]"
   ]
  },
  {
   "cell_type": "markdown",
   "metadata": {},
   "source": [
    "### Filter non-mutated proteins"
   ]
  },
  {
   "cell_type": "code",
   "execution_count": 5,
   "metadata": {},
   "outputs": [],
   "source": [
    "rbps = rbps[rbps.Mutated == 'no']"
   ]
  },
  {
   "cell_type": "markdown",
   "metadata": {},
   "source": [
    "### Remove matrix that is listed for two proteins"
   ]
  },
  {
   "cell_type": "code",
   "execution_count": 6,
   "metadata": {},
   "outputs": [],
   "source": [
    "rbps = rbps[rbps.Matrix_id!='s99'].copy()"
   ]
  },
  {
   "cell_type": "markdown",
   "metadata": {},
   "source": [
    "### Count experiment types"
   ]
  },
  {
   "cell_type": "code",
   "execution_count": 7,
   "metadata": {
    "scrolled": true
   },
   "outputs": [
    {
     "data": {
      "text/plain": [
       "SELEX                                      1280\n",
       "RNAcompete                                  678\n",
       "RIP-chip                                     68\n",
       "single RNA affinity purification             64\n",
       "genome-wide in vivo immunoprecipitation      58\n",
       "NMR                                          54\n",
       "protein affinity purification                45\n",
       "RNAcompete using recombinant protein         25\n",
       "PAR-clip                                      4\n",
       "UV cross-linking                              2\n",
       "Name: Experiment_description, dtype: int64"
      ]
     },
     "execution_count": 7,
     "metadata": {},
     "output_type": "execute_result"
    }
   ],
   "source": [
    "is_selex = np.array([re.search('SELEX', x)!=None for x in rbps.Experiment_description])\n",
    "rbps.loc[is_selex, 'Experiment_description'] = 'SELEX'\n",
    "rbps.Experiment_description.value_counts()"
   ]
  },
  {
   "cell_type": "markdown",
   "metadata": {},
   "source": [
    "### Filter columns"
   ]
  },
  {
   "cell_type": "code",
   "execution_count": 8,
   "metadata": {
    "scrolled": false
   },
   "outputs": [
    {
     "name": "stdout",
     "output_type": "stream",
     "text": [
      "229\n"
     ]
    },
    {
     "data": {
      "text/html": [
       "<div>\n",
       "<style scoped>\n",
       "    .dataframe tbody tr th:only-of-type {\n",
       "        vertical-align: middle;\n",
       "    }\n",
       "\n",
       "    .dataframe tbody tr th {\n",
       "        vertical-align: top;\n",
       "    }\n",
       "\n",
       "    .dataframe thead th {\n",
       "        text-align: right;\n",
       "    }\n",
       "</style>\n",
       "<table border=\"1\" class=\"dataframe\">\n",
       "  <thead>\n",
       "    <tr style=\"text-align: right;\">\n",
       "      <th></th>\n",
       "      <th>Gene_name</th>\n",
       "      <th>Gene_id</th>\n",
       "      <th>Matrix_id</th>\n",
       "      <th>Experiment_description</th>\n",
       "    </tr>\n",
       "  </thead>\n",
       "  <tbody>\n",
       "    <tr>\n",
       "      <th>0</th>\n",
       "      <td>A1CF</td>\n",
       "      <td>ENSG00000148584</td>\n",
       "      <td>M001_0.6</td>\n",
       "      <td>RNAcompete</td>\n",
       "    </tr>\n",
       "    <tr>\n",
       "      <th>1</th>\n",
       "      <td>ACO1</td>\n",
       "      <td>ENSG00000122729</td>\n",
       "      <td>M256_0.6</td>\n",
       "      <td>SELEX</td>\n",
       "    </tr>\n",
       "    <tr>\n",
       "      <th>2</th>\n",
       "      <td>ANKHD1</td>\n",
       "      <td>ENSG00000131503</td>\n",
       "      <td>M002_0.6</td>\n",
       "      <td>RNAcompete</td>\n",
       "    </tr>\n",
       "    <tr>\n",
       "      <th>3</th>\n",
       "      <td>CELF1</td>\n",
       "      <td>ENSG00000149187</td>\n",
       "      <td>s86</td>\n",
       "      <td>SELEX</td>\n",
       "    </tr>\n",
       "    <tr>\n",
       "      <th>4</th>\n",
       "      <td>CELF2</td>\n",
       "      <td>ENSG00000048740</td>\n",
       "      <td>s4</td>\n",
       "      <td>SELEX</td>\n",
       "    </tr>\n",
       "  </tbody>\n",
       "</table>\n",
       "</div>"
      ],
      "text/plain": [
       "  Gene_name          Gene_id Matrix_id Experiment_description\n",
       "0      A1CF  ENSG00000148584  M001_0.6             RNAcompete\n",
       "1      ACO1  ENSG00000122729  M256_0.6                  SELEX\n",
       "2    ANKHD1  ENSG00000131503  M002_0.6             RNAcompete\n",
       "3     CELF1  ENSG00000149187       s86                  SELEX\n",
       "4     CELF2  ENSG00000048740        s4                  SELEX"
      ]
     },
     "execution_count": 8,
     "metadata": {},
     "output_type": "execute_result"
    }
   ],
   "source": [
    "rbps = rbps.loc[:,['Gene_name', 'Gene_id', 'Matrix_id', 'Experiment_description']].drop_duplicates().reset_index(drop=True)\n",
    "print(len(rbps))\n",
    "rbps.head()"
   ]
  },
  {
   "cell_type": "code",
   "execution_count": 9,
   "metadata": {},
   "outputs": [],
   "source": [
    "rbps['source'] = 'Attract'"
   ]
  },
  {
   "cell_type": "markdown",
   "metadata": {},
   "source": [
    "### Read Attract PPMs"
   ]
  },
  {
   "cell_type": "code",
   "execution_count": 10,
   "metadata": {
    "scrolled": false
   },
   "outputs": [
    {
     "name": "stderr",
     "output_type": "stream",
     "text": [
      "/Users/avantika/Desktop/viruslandscape/vir2/lib/python3.7/site-packages/smeagol/matrices.py:29: UserWarning: Rows do not all sum to 1. Check the values.\n",
      "  warnings.warn('Rows do not all sum to 1. Check the values.')\n"
     ]
    },
    {
     "data": {
      "text/html": [
       "<div>\n",
       "<style scoped>\n",
       "    .dataframe tbody tr th:only-of-type {\n",
       "        vertical-align: middle;\n",
       "    }\n",
       "\n",
       "    .dataframe tbody tr th {\n",
       "        vertical-align: top;\n",
       "    }\n",
       "\n",
       "    .dataframe thead th {\n",
       "        text-align: right;\n",
       "    }\n",
       "</style>\n",
       "<table border=\"1\" class=\"dataframe\">\n",
       "  <thead>\n",
       "    <tr style=\"text-align: right;\">\n",
       "      <th></th>\n",
       "      <th>Matrix_id</th>\n",
       "      <th>probs</th>\n",
       "    </tr>\n",
       "  </thead>\n",
       "  <tbody>\n",
       "    <tr>\n",
       "      <th>0</th>\n",
       "      <td>904</td>\n",
       "      <td>[[0.009615385, 0.009615385, 0.009615385, 0.971...</td>\n",
       "    </tr>\n",
       "    <tr>\n",
       "      <th>1</th>\n",
       "      <td>s36</td>\n",
       "      <td>[[0.8443251, 0.00076687115, 0.1541411, 0.00076...</td>\n",
       "    </tr>\n",
       "    <tr>\n",
       "      <th>2</th>\n",
       "      <td>M269_0.6</td>\n",
       "      <td>[[0.97, 0.01, 0.01, 0.01], [0.97, 0.01, 0.01, ...</td>\n",
       "    </tr>\n",
       "    <tr>\n",
       "      <th>3</th>\n",
       "      <td>M120_0.6</td>\n",
       "      <td>[[0.055227987, 0.055227987, 0.44783142, 0.4417...</td>\n",
       "    </tr>\n",
       "    <tr>\n",
       "      <th>4</th>\n",
       "      <td>705</td>\n",
       "      <td>[[0.009615385, 0.009615385, 0.97115386, 0.0096...</td>\n",
       "    </tr>\n",
       "  </tbody>\n",
       "</table>\n",
       "</div>"
      ],
      "text/plain": [
       "  Matrix_id                                              probs\n",
       "0       904  [[0.009615385, 0.009615385, 0.009615385, 0.971...\n",
       "1       s36  [[0.8443251, 0.00076687115, 0.1541411, 0.00076...\n",
       "2  M269_0.6  [[0.97, 0.01, 0.01, 0.01], [0.97, 0.01, 0.01, ...\n",
       "3  M120_0.6  [[0.055227987, 0.055227987, 0.44783142, 0.4417...\n",
       "4       705  [[0.009615385, 0.009615385, 0.97115386, 0.0096..."
      ]
     },
     "execution_count": 10,
     "metadata": {},
     "output_type": "execute_result"
    }
   ],
   "source": [
    "ppms = read_pms_from_file('../DATA/PWMS/ATtRACT/pwm.txt', check_lens=True)\n",
    "ppms.head()"
   ]
  },
  {
   "cell_type": "code",
   "execution_count": 11,
   "metadata": {
    "scrolled": true
   },
   "outputs": [
    {
     "data": {
      "text/plain": [
       "[array([1.        , 1.        , 1.        , 1.        , 0.99999994],\n",
       "       dtype=float32),\n",
       " array([1., 1., 1., 1., 1., 1., 1.], dtype=float32),\n",
       " array([1.        , 1.        , 0.98999995, 1.        , 1.        ,\n",
       "        1.        , 0.99      , 1.        , 1.        , 1.        ,\n",
       "        1.        ], dtype=float32),\n",
       " array([1., 1., 1., 1., 1., 1., 1.], dtype=float32),\n",
       " array([1.        , 0.99999994, 0.99999994, 0.99999994, 0.99999994,\n",
       "        1.        , 1.        , 0.99999994, 1.        , 0.99999994,\n",
       "        0.99999994], dtype=float32)]"
      ]
     },
     "execution_count": 11,
     "metadata": {},
     "output_type": "execute_result"
    }
   ],
   "source": [
    "[x.sum(axis=1) for x in ppms.probs][:5]"
   ]
  },
  {
   "cell_type": "markdown",
   "metadata": {},
   "source": [
    "### re-normalize PPMs"
   ]
  },
  {
   "cell_type": "code",
   "execution_count": 16,
   "metadata": {},
   "outputs": [],
   "source": [
    "ppms.probs = [normalize_pm(x) for x in ppms.probs]"
   ]
  },
  {
   "cell_type": "code",
   "execution_count": 17,
   "metadata": {},
   "outputs": [
    {
     "data": {
      "text/plain": [
       "[array([1., 1., 1., 1., 1.], dtype=float32),\n",
       " array([1., 1., 1., 1., 1., 1., 1.], dtype=float32),\n",
       " array([1., 1., 1., 1., 1., 1., 1., 1., 1., 1., 1.], dtype=float32),\n",
       " array([1., 1., 1., 1., 1., 1., 1.], dtype=float32),\n",
       " array([1., 1., 1., 1., 1., 1., 1., 1., 1., 1., 1.], dtype=float32)]"
      ]
     },
     "execution_count": 17,
     "metadata": {},
     "output_type": "execute_result"
    }
   ],
   "source": [
    "[x.sum(axis=1) for x in ppms.probs][:5]"
   ]
  },
  {
   "cell_type": "markdown",
   "metadata": {},
   "source": [
    "### Filter PPMs to selected RBPs"
   ]
  },
  {
   "cell_type": "code",
   "execution_count": 18,
   "metadata": {
    "scrolled": true
   },
   "outputs": [
    {
     "name": "stdout",
     "output_type": "stream",
     "text": [
      "229\n"
     ]
    }
   ],
   "source": [
    "ppms = ppms.merge(rbps, on='Matrix_id').reset_index(drop=True)\n",
    "print(len(ppms))"
   ]
  },
  {
   "cell_type": "markdown",
   "metadata": {},
   "source": [
    "### Read RBPDB"
   ]
  },
  {
   "cell_type": "code",
   "execution_count": 19,
   "metadata": {
    "scrolled": false
   },
   "outputs": [],
   "source": [
    "prot=pd.read_csv(\"../DATA/PWMs/RBPDB/RBPDB_v1.3.1_human_2012-11-21_TDT/RBPDB_v1.3.1_proteins_human_2012-11-21.tdt\", \n",
    "            header=None,  sep=\"\\t\", usecols=(0,1,4), names=(\"Prot_id\", \"Gene_id\", \"Gene_name\"))\n",
    "exp=pd.read_csv(\"../DATA/PWMs/RBPDB/RBPDB_v1.3.1_human_2012-11-21_TDT/RBPDB_v1.3.1_experiments_human_2012-11-21.tdt\", \n",
    "            header=None,  sep=\"\\t\", usecols=(0,2), names=(\"Matrix_id\", 'Experiment_description'))\n",
    "prot_exp = pd.read_csv(\"../DATA/PWMs/RBPDB/RBPDB_v1.3.1_human_2012-11-21_TDT/RBPDB_v1.3.1_protExp_human_2012-11-21.tdt\", \n",
    "            header=None,  sep=\"\\t\", usecols=(0,1), names=('Prot_id', 'Matrix_id'))"
   ]
  },
  {
   "cell_type": "code",
   "execution_count": 20,
   "metadata": {
    "scrolled": false
   },
   "outputs": [],
   "source": [
    "rbps2 = prot.merge(prot_exp, on='Prot_id').merge(exp, on='Matrix_id').reset_index(drop=True)"
   ]
  },
  {
   "cell_type": "code",
   "execution_count": 21,
   "metadata": {
    "scrolled": false
   },
   "outputs": [
    {
     "data": {
      "text/plain": [
       "protein affinity purification              413\n",
       "EMSA                                       410\n",
       "UV cross-linking                           262\n",
       "SELEX                                       83\n",
       "genome-wide in vivo immunoprecipitation     59\n",
       "NMR                                         57\n",
       "homopolymer binding assay                   47\n",
       "filter binding assay                        27\n",
       "fluorescence methods                        24\n",
       "single RNA affinity purification            11\n",
       "biosensor analysis                          10\n",
       "RNAcompete                                   8\n",
       "yeast three-hybrid screen                    7\n",
       "RNA footprinting                             4\n",
       "yeast three-hybrid assay                     3\n",
       "ELISA with biotinylated RNA                  1\n",
       "in vitro RNA pulldown                        1\n",
       "Name: Experiment_description, dtype: int64"
      ]
     },
     "execution_count": 21,
     "metadata": {},
     "output_type": "execute_result"
    }
   ],
   "source": [
    "rbps2.Experiment_description.value_counts()"
   ]
  },
  {
   "cell_type": "code",
   "execution_count": 22,
   "metadata": {},
   "outputs": [
    {
     "data": {
      "text/html": [
       "<div>\n",
       "<style scoped>\n",
       "    .dataframe tbody tr th:only-of-type {\n",
       "        vertical-align: middle;\n",
       "    }\n",
       "\n",
       "    .dataframe tbody tr th {\n",
       "        vertical-align: top;\n",
       "    }\n",
       "\n",
       "    .dataframe thead th {\n",
       "        text-align: right;\n",
       "    }\n",
       "</style>\n",
       "<table border=\"1\" class=\"dataframe\">\n",
       "  <thead>\n",
       "    <tr style=\"text-align: right;\">\n",
       "      <th></th>\n",
       "      <th>Prot_id</th>\n",
       "      <th>Gene_id</th>\n",
       "      <th>Gene_name</th>\n",
       "      <th>Matrix_id</th>\n",
       "      <th>Experiment_description</th>\n",
       "    </tr>\n",
       "  </thead>\n",
       "  <tbody>\n",
       "    <tr>\n",
       "      <th>0</th>\n",
       "      <td>1226</td>\n",
       "      <td>ENSG00000003756</td>\n",
       "      <td>RBM5</td>\n",
       "      <td>108</td>\n",
       "      <td>EMSA</td>\n",
       "    </tr>\n",
       "    <tr>\n",
       "      <th>1</th>\n",
       "      <td>1226</td>\n",
       "      <td>ENSG00000003756</td>\n",
       "      <td>RBM5</td>\n",
       "      <td>110</td>\n",
       "      <td>homopolymer binding assay</td>\n",
       "    </tr>\n",
       "    <tr>\n",
       "      <th>2</th>\n",
       "      <td>1231</td>\n",
       "      <td>ENSG00000009307</td>\n",
       "      <td>CSDE1</td>\n",
       "      <td>257</td>\n",
       "      <td>EMSA</td>\n",
       "    </tr>\n",
       "    <tr>\n",
       "      <th>3</th>\n",
       "      <td>1231</td>\n",
       "      <td>ENSG00000009307</td>\n",
       "      <td>CSDE1</td>\n",
       "      <td>258</td>\n",
       "      <td>EMSA</td>\n",
       "    </tr>\n",
       "    <tr>\n",
       "      <th>4</th>\n",
       "      <td>1231</td>\n",
       "      <td>ENSG00000009307</td>\n",
       "      <td>CSDE1</td>\n",
       "      <td>260</td>\n",
       "      <td>SELEX</td>\n",
       "    </tr>\n",
       "  </tbody>\n",
       "</table>\n",
       "</div>"
      ],
      "text/plain": [
       "   Prot_id          Gene_id Gene_name  Matrix_id     Experiment_description\n",
       "0     1226  ENSG00000003756      RBM5        108                       EMSA\n",
       "1     1226  ENSG00000003756      RBM5        110  homopolymer binding assay\n",
       "2     1231  ENSG00000009307     CSDE1        257                       EMSA\n",
       "3     1231  ENSG00000009307     CSDE1        258                       EMSA\n",
       "4     1231  ENSG00000009307     CSDE1        260                      SELEX"
      ]
     },
     "execution_count": 22,
     "metadata": {},
     "output_type": "execute_result"
    }
   ],
   "source": [
    "rbps2.head()"
   ]
  },
  {
   "cell_type": "code",
   "execution_count": 23,
   "metadata": {
    "scrolled": false
   },
   "outputs": [
    {
     "data": {
      "text/html": [
       "<div>\n",
       "<style scoped>\n",
       "    .dataframe tbody tr th:only-of-type {\n",
       "        vertical-align: middle;\n",
       "    }\n",
       "\n",
       "    .dataframe tbody tr th {\n",
       "        vertical-align: top;\n",
       "    }\n",
       "\n",
       "    .dataframe thead th {\n",
       "        text-align: right;\n",
       "    }\n",
       "</style>\n",
       "<table border=\"1\" class=\"dataframe\">\n",
       "  <thead>\n",
       "    <tr style=\"text-align: right;\">\n",
       "      <th></th>\n",
       "      <th>Matrix_id</th>\n",
       "      <th>Gene_id</th>\n",
       "      <th>Gene_name</th>\n",
       "      <th>Experiment_description</th>\n",
       "      <th>source</th>\n",
       "    </tr>\n",
       "  </thead>\n",
       "  <tbody>\n",
       "    <tr>\n",
       "      <th>0</th>\n",
       "      <td>108</td>\n",
       "      <td>ENSG00000003756</td>\n",
       "      <td>RBM5</td>\n",
       "      <td>EMSA</td>\n",
       "      <td>RBPDB</td>\n",
       "    </tr>\n",
       "    <tr>\n",
       "      <th>1</th>\n",
       "      <td>110</td>\n",
       "      <td>ENSG00000003756</td>\n",
       "      <td>RBM5</td>\n",
       "      <td>homopolymer binding assay</td>\n",
       "      <td>RBPDB</td>\n",
       "    </tr>\n",
       "    <tr>\n",
       "      <th>2</th>\n",
       "      <td>257</td>\n",
       "      <td>ENSG00000009307</td>\n",
       "      <td>CSDE1</td>\n",
       "      <td>EMSA</td>\n",
       "      <td>RBPDB</td>\n",
       "    </tr>\n",
       "    <tr>\n",
       "      <th>3</th>\n",
       "      <td>258</td>\n",
       "      <td>ENSG00000009307</td>\n",
       "      <td>CSDE1</td>\n",
       "      <td>EMSA</td>\n",
       "      <td>RBPDB</td>\n",
       "    </tr>\n",
       "    <tr>\n",
       "      <th>4</th>\n",
       "      <td>260</td>\n",
       "      <td>ENSG00000009307</td>\n",
       "      <td>CSDE1</td>\n",
       "      <td>SELEX</td>\n",
       "      <td>RBPDB</td>\n",
       "    </tr>\n",
       "  </tbody>\n",
       "</table>\n",
       "</div>"
      ],
      "text/plain": [
       "  Matrix_id          Gene_id Gene_name     Experiment_description source\n",
       "0       108  ENSG00000003756      RBM5                       EMSA  RBPDB\n",
       "1       110  ENSG00000003756      RBM5  homopolymer binding assay  RBPDB\n",
       "2       257  ENSG00000009307     CSDE1                       EMSA  RBPDB\n",
       "3       258  ENSG00000009307     CSDE1                       EMSA  RBPDB\n",
       "4       260  ENSG00000009307     CSDE1                      SELEX  RBPDB"
      ]
     },
     "execution_count": 23,
     "metadata": {},
     "output_type": "execute_result"
    }
   ],
   "source": [
    "rbps2 = rbps2.loc[:, ['Matrix_id', 'Gene_id', 'Gene_name', 'Experiment_description']].drop_duplicates().reset_index(drop=True)\n",
    "rbps2.Matrix_id = rbps2.Matrix_id.astype(str)\n",
    "rbps2['source'] = 'RBPDB'\n",
    "rbps2.head()"
   ]
  },
  {
   "cell_type": "markdown",
   "metadata": {},
   "source": [
    "### Read RBPDB PFMs and convert to PPMs"
   ]
  },
  {
   "cell_type": "code",
   "execution_count": 24,
   "metadata": {},
   "outputs": [
    {
     "name": "stdout",
     "output_type": "stream",
     "text": [
      "53\n"
     ]
    },
    {
     "name": "stderr",
     "output_type": "stream",
     "text": [
      "/Users/avantika/Desktop/viruslandscape/vir2/lib/python3.7/site-packages/smeagol/matrices.py:51: UserWarning: Input array contains fractional values.\n",
      "  warnings.warn('Input array contains fractional values.')\n"
     ]
    }
   ],
   "source": [
    "ppms2 = read_pms_from_dir('../DATA/PWMs/RBPDB/PFMDir', matrix_type='PFM', transpose=True)\n",
    "ppms2['probs'] = [pfm_to_ppm(x, pseudocount = .01) for x in ppms2.freqs]\n",
    "print(len(ppms2))"
   ]
  },
  {
   "cell_type": "code",
   "execution_count": 25,
   "metadata": {
    "scrolled": false
   },
   "outputs": [
    {
     "name": "stdout",
     "output_type": "stream",
     "text": [
      "53\n"
     ]
    }
   ],
   "source": [
    "ppms2 = ppms2.merge(rbps2, on='Matrix_id')\n",
    "print(len(ppms2))"
   ]
  },
  {
   "cell_type": "code",
   "execution_count": 26,
   "metadata": {
    "scrolled": true
   },
   "outputs": [
    {
     "data": {
      "text/plain": [
       "SELEX         45\n",
       "RNAcompete     8\n",
       "Name: Experiment_description, dtype: int64"
      ]
     },
     "execution_count": 26,
     "metadata": {},
     "output_type": "execute_result"
    }
   ],
   "source": [
    "ppms2.Experiment_description.value_counts()"
   ]
  },
  {
   "cell_type": "markdown",
   "metadata": {},
   "source": [
    "### Load ENCODE PMs"
   ]
  },
  {
   "cell_type": "code",
   "execution_count": 27,
   "metadata": {},
   "outputs": [],
   "source": [
    "ppms3 = pd.read_hdf('../DATA/PWMs/encode_pwms.h5', key='data')\n",
    "ppms3.rename(columns = {'RBP': 'Gene_name'}, inplace=True)\n",
    "ppms3.drop(columns='logo', inplace=True)\n",
    "ppms3['source'] = 'ENCODE'\n",
    "ppms3['Experiment_description'] = 'RBNS'"
   ]
  },
  {
   "cell_type": "code",
   "execution_count": 28,
   "metadata": {},
   "outputs": [
    {
     "data": {
      "text/html": [
       "<div>\n",
       "<style scoped>\n",
       "    .dataframe tbody tr th:only-of-type {\n",
       "        vertical-align: middle;\n",
       "    }\n",
       "\n",
       "    .dataframe tbody tr th {\n",
       "        vertical-align: top;\n",
       "    }\n",
       "\n",
       "    .dataframe thead th {\n",
       "        text-align: right;\n",
       "    }\n",
       "</style>\n",
       "<table border=\"1\" class=\"dataframe\">\n",
       "  <thead>\n",
       "    <tr style=\"text-align: right;\">\n",
       "      <th></th>\n",
       "      <th>Gene_name</th>\n",
       "      <th>Matrix_id</th>\n",
       "      <th>probs</th>\n",
       "      <th>source</th>\n",
       "      <th>Experiment_description</th>\n",
       "    </tr>\n",
       "  </thead>\n",
       "  <tbody>\n",
       "    <tr>\n",
       "      <th>0</th>\n",
       "      <td>A1CF</td>\n",
       "      <td>encode_A1CF_1</td>\n",
       "      <td>[[0.19215530903328054, 0.1370839936608558, 0.1...</td>\n",
       "      <td>ENCODE</td>\n",
       "      <td>RBNS</td>\n",
       "    </tr>\n",
       "    <tr>\n",
       "      <th>1</th>\n",
       "      <td>BOLL</td>\n",
       "      <td>encode_BOLL_1</td>\n",
       "      <td>[[0.176716799091941, 0.176716799091941, 0.1767...</td>\n",
       "      <td>ENCODE</td>\n",
       "      <td>RBNS</td>\n",
       "    </tr>\n",
       "    <tr>\n",
       "      <th>2</th>\n",
       "      <td>CELF1</td>\n",
       "      <td>encode_CELF1_1</td>\n",
       "      <td>[[0.20051143200962698, 0.12048736462093865, 0....</td>\n",
       "      <td>ENCODE</td>\n",
       "      <td>RBNS</td>\n",
       "    </tr>\n",
       "  </tbody>\n",
       "</table>\n",
       "</div>"
      ],
      "text/plain": [
       "  Gene_name       Matrix_id  \\\n",
       "0      A1CF   encode_A1CF_1   \n",
       "1      BOLL   encode_BOLL_1   \n",
       "2     CELF1  encode_CELF1_1   \n",
       "\n",
       "                                               probs  source  \\\n",
       "0  [[0.19215530903328054, 0.1370839936608558, 0.1...  ENCODE   \n",
       "1  [[0.176716799091941, 0.176716799091941, 0.1767...  ENCODE   \n",
       "2  [[0.20051143200962698, 0.12048736462093865, 0....  ENCODE   \n",
       "\n",
       "  Experiment_description  \n",
       "0                   RBNS  \n",
       "1                   RBNS  \n",
       "2                   RBNS  "
      ]
     },
     "execution_count": 28,
     "metadata": {},
     "output_type": "execute_result"
    }
   ],
   "source": [
    "ppms3.head(3)"
   ]
  },
  {
   "cell_type": "markdown",
   "metadata": {},
   "source": [
    "### Concatenate all PMs"
   ]
  },
  {
   "cell_type": "code",
   "execution_count": 29,
   "metadata": {},
   "outputs": [],
   "source": [
    "ppms = pd.concat([ppms, ppms2, ppms3]).reset_index(drop=True)"
   ]
  },
  {
   "cell_type": "code",
   "execution_count": 30,
   "metadata": {},
   "outputs": [
    {
     "data": {
      "text/html": [
       "<div>\n",
       "<style scoped>\n",
       "    .dataframe tbody tr th:only-of-type {\n",
       "        vertical-align: middle;\n",
       "    }\n",
       "\n",
       "    .dataframe tbody tr th {\n",
       "        vertical-align: top;\n",
       "    }\n",
       "\n",
       "    .dataframe thead th {\n",
       "        text-align: right;\n",
       "    }\n",
       "</style>\n",
       "<table border=\"1\" class=\"dataframe\">\n",
       "  <thead>\n",
       "    <tr style=\"text-align: right;\">\n",
       "      <th></th>\n",
       "      <th>Matrix_id</th>\n",
       "      <th>probs</th>\n",
       "      <th>Gene_name</th>\n",
       "      <th>Gene_id</th>\n",
       "      <th>Experiment_description</th>\n",
       "      <th>source</th>\n",
       "      <th>freqs</th>\n",
       "    </tr>\n",
       "  </thead>\n",
       "  <tbody>\n",
       "    <tr>\n",
       "      <th>0</th>\n",
       "      <td>s36</td>\n",
       "      <td>[[0.8443251, 0.00076687115, 0.1541411, 0.00076...</td>\n",
       "      <td>HNRNPDL</td>\n",
       "      <td>ENSG00000152795</td>\n",
       "      <td>SELEX</td>\n",
       "      <td>Attract</td>\n",
       "      <td>NaN</td>\n",
       "    </tr>\n",
       "    <tr>\n",
       "      <th>1</th>\n",
       "      <td>M269_0.6</td>\n",
       "      <td>[[0.97, 0.01, 0.01, 0.01], [0.97, 0.01, 0.01, ...</td>\n",
       "      <td>ZFP36</td>\n",
       "      <td>ENSG00000128016</td>\n",
       "      <td>SELEX</td>\n",
       "      <td>Attract</td>\n",
       "      <td>NaN</td>\n",
       "    </tr>\n",
       "    <tr>\n",
       "      <th>2</th>\n",
       "      <td>M157_0.6</td>\n",
       "      <td>[[0.08396381, 0.08396381, 0.08396381, 0.748108...</td>\n",
       "      <td>CELF5</td>\n",
       "      <td>ENSG00000161082</td>\n",
       "      <td>RNAcompete</td>\n",
       "      <td>Attract</td>\n",
       "      <td>NaN</td>\n",
       "    </tr>\n",
       "  </tbody>\n",
       "</table>\n",
       "</div>"
      ],
      "text/plain": [
       "  Matrix_id                                              probs Gene_name  \\\n",
       "0       s36  [[0.8443251, 0.00076687115, 0.1541411, 0.00076...   HNRNPDL   \n",
       "1  M269_0.6  [[0.97, 0.01, 0.01, 0.01], [0.97, 0.01, 0.01, ...     ZFP36   \n",
       "2  M157_0.6  [[0.08396381, 0.08396381, 0.08396381, 0.748108...     CELF5   \n",
       "\n",
       "           Gene_id Experiment_description   source freqs  \n",
       "0  ENSG00000152795                  SELEX  Attract   NaN  \n",
       "1  ENSG00000128016                  SELEX  Attract   NaN  \n",
       "2  ENSG00000161082             RNAcompete  Attract   NaN  "
      ]
     },
     "execution_count": 30,
     "metadata": {},
     "output_type": "execute_result"
    }
   ],
   "source": [
    "ppms.head(3)"
   ]
  },
  {
   "cell_type": "code",
   "execution_count": 31,
   "metadata": {},
   "outputs": [
    {
     "data": {
      "text/plain": [
       "411"
      ]
     },
     "execution_count": 31,
     "metadata": {},
     "output_type": "execute_result"
    }
   ],
   "source": [
    "len(ppms)"
   ]
  },
  {
   "cell_type": "markdown",
   "metadata": {},
   "source": [
    "### Check for different protein names"
   ]
  },
  {
   "cell_type": "code",
   "execution_count": 32,
   "metadata": {},
   "outputs": [
    {
     "name": "stdout",
     "output_type": "stream",
     "text": [
      "106 29 78\n"
     ]
    }
   ],
   "source": [
    "attract_proteins = pd.unique(ppms.Gene_name[ppms.source==\"Attract\"])\n",
    "rbpdb_proteins = pd.unique(ppms.Gene_name[ppms.source==\"RBPDB\"])\n",
    "encode_proteins = pd.unique(ppms.Gene_name[ppms.source==\"ENCODE\"])\n",
    "print(len(attract_proteins), len(rbpdb_proteins), len(encode_proteins))"
   ]
  },
  {
   "cell_type": "code",
   "execution_count": 33,
   "metadata": {
    "scrolled": true
   },
   "outputs": [
    {
     "data": {
      "text/plain": [
       "{'A2BP1', 'NCL', 'RBMX', 'SFRS1', 'SFRS13A', 'SFRS2', 'SFRS7', 'SFRS9'}"
      ]
     },
     "execution_count": 33,
     "metadata": {},
     "output_type": "execute_result"
    }
   ],
   "source": [
    "set(rbpdb_proteins).difference(set(attract_proteins))"
   ]
  },
  {
   "cell_type": "code",
   "execution_count": 34,
   "metadata": {
    "scrolled": true
   },
   "outputs": [
    {
     "data": {
      "text/plain": [
       "{'BOLL',\n",
       " 'CPEB1',\n",
       " 'DAZ3',\n",
       " 'EIF4G2',\n",
       " 'ELAVL4',\n",
       " 'ESRP1',\n",
       " 'EWSR1',\n",
       " 'FUBP1',\n",
       " 'FUBP3',\n",
       " 'HNRNPA0',\n",
       " 'HNRNPD',\n",
       " 'ILF2',\n",
       " 'NUPL2',\n",
       " 'PABPN1L',\n",
       " 'PCBP4',\n",
       " 'PRR3',\n",
       " 'PTBP3',\n",
       " 'PUF60',\n",
       " 'RALYL',\n",
       " 'RBFOX2',\n",
       " 'RBFOX3',\n",
       " 'RBM15B',\n",
       " 'RBM22',\n",
       " 'RBM23',\n",
       " 'RBM25',\n",
       " 'RBM45',\n",
       " 'RBM47',\n",
       " 'RBM4B',\n",
       " 'RBMS2',\n",
       " 'RC3H1',\n",
       " 'SF1',\n",
       " 'SRSF11',\n",
       " 'SRSF4',\n",
       " 'SRSF8',\n",
       " 'TAF15',\n",
       " 'TRA2A',\n",
       " 'TRNAU1AP',\n",
       " 'UNK',\n",
       " 'ZNF326'}"
      ]
     },
     "execution_count": 34,
     "metadata": {},
     "output_type": "execute_result"
    }
   ],
   "source": [
    "set(encode_proteins).difference(set(attract_proteins))"
   ]
  },
  {
   "cell_type": "markdown",
   "metadata": {},
   "source": [
    "### Harmonize protein names"
   ]
  },
  {
   "cell_type": "code",
   "execution_count": 35,
   "metadata": {},
   "outputs": [],
   "source": [
    "ppms.loc[ppms.Gene_name=='A2BP1', 'Gene_name'] = 'RBFOX1'\n",
    "ppms.loc[ppms.Gene_name=='SFRS1', 'Gene_name'] = 'SRSF1'\n",
    "ppms.loc[ppms.Gene_name=='SFRS13A', 'Gene_name'] = 'SRSF10'\n",
    "ppms.loc[ppms.Gene_name=='SFRS2', 'Gene_name'] = 'SRSF2'\n",
    "ppms.loc[ppms.Gene_name=='SFRS7', 'Gene_name'] = 'SRSF7'\n",
    "ppms.loc[ppms.Gene_name=='SFRS9', 'Gene_name'] = 'SRSF9'"
   ]
  },
  {
   "cell_type": "markdown",
   "metadata": {},
   "source": [
    "### Drop duplicate motifs"
   ]
  },
  {
   "cell_type": "code",
   "execution_count": 36,
   "metadata": {
    "scrolled": true
   },
   "outputs": [],
   "source": [
    "duplicate_motifs_rbpdb = ['1213', '350', '782', '783', '784', '637', '23', '359', '669', '488', '680', '682',\n",
    "                          '24', '950', '1171', '37', '1172', '1052', '661', '663', '946', '1173', '242', '952',\n",
    "                         '1169', '244', '791', '790', '954', '797', '1177', '969', '951']"
   ]
  },
  {
   "cell_type": "code",
   "execution_count": 37,
   "metadata": {},
   "outputs": [],
   "source": [
    "ppms = ppms[~ppms.Matrix_id.isin(duplicate_motifs_rbpdb)]"
   ]
  },
  {
   "cell_type": "code",
   "execution_count": 38,
   "metadata": {},
   "outputs": [
    {
     "data": {
      "text/plain": [
       "Attract    229\n",
       "ENCODE     129\n",
       "RBPDB       20\n",
       "Name: source, dtype: int64"
      ]
     },
     "execution_count": 38,
     "metadata": {},
     "output_type": "execute_result"
    }
   ],
   "source": [
    "ppms.source.value_counts()"
   ]
  },
  {
   "cell_type": "markdown",
   "metadata": {},
   "source": [
    "### Trim PPMs by position-wise IC"
   ]
  },
  {
   "cell_type": "code",
   "execution_count": 39,
   "metadata": {},
   "outputs": [],
   "source": [
    "ppms['orig_len'] = [p.shape[0] for p in ppms.probs]"
   ]
  },
  {
   "cell_type": "code",
   "execution_count": 40,
   "metadata": {},
   "outputs": [],
   "source": [
    "ppms['trimmed_probs'] = ppms.probs.apply(trim_ppm, args=(0.1,))"
   ]
  },
  {
   "cell_type": "code",
   "execution_count": 41,
   "metadata": {},
   "outputs": [],
   "source": [
    "ppms['trimmed_len'] = [p.shape[0] for p in ppms.trimmed_probs]"
   ]
  },
  {
   "cell_type": "code",
   "execution_count": 42,
   "metadata": {
    "scrolled": true
   },
   "outputs": [
    {
     "name": "stdout",
     "output_type": "stream",
     "text": [
      "44 PPMs were trimmed!\n"
     ]
    }
   ],
   "source": [
    "print(str(len(ppms[ppms.orig_len!=ppms.trimmed_len])) + \" PPMs were trimmed!\")\n",
    "#ppms[ppms.orig_len!=ppms.trimmed_len]"
   ]
  },
  {
   "cell_type": "code",
   "execution_count": 43,
   "metadata": {},
   "outputs": [],
   "source": [
    "ppms.drop(columns=['probs', 'orig_len'], inplace=True)\n",
    "ppms.rename(columns={'trimmed_probs':'probs', 'trimmed_len':'len'}, inplace=True)"
   ]
  },
  {
   "cell_type": "markdown",
   "metadata": {},
   "source": [
    "### Filter by length"
   ]
  },
  {
   "cell_type": "code",
   "execution_count": 44,
   "metadata": {
    "scrolled": true
   },
   "outputs": [
    {
     "name": "stdout",
     "output_type": "stream",
     "text": [
      "376\n"
     ]
    }
   ],
   "source": [
    "ppms = ppms[ppms.len >= 4].copy()\n",
    "print(len(ppms))"
   ]
  },
  {
   "cell_type": "code",
   "execution_count": 45,
   "metadata": {},
   "outputs": [
    {
     "name": "stdout",
     "output_type": "stream",
     "text": [
      "373\n"
     ]
    }
   ],
   "source": [
    "ppms = ppms[ppms.len <= 12].copy()\n",
    "print(len(ppms))"
   ]
  },
  {
   "cell_type": "markdown",
   "metadata": {},
   "source": [
    "### Calculate entropy"
   ]
  },
  {
   "cell_type": "code",
   "execution_count": 46,
   "metadata": {
    "scrolled": false
   },
   "outputs": [
    {
     "data": {
      "text/html": [
       "<div>\n",
       "<style scoped>\n",
       "    .dataframe tbody tr th:only-of-type {\n",
       "        vertical-align: middle;\n",
       "    }\n",
       "\n",
       "    .dataframe tbody tr th {\n",
       "        vertical-align: top;\n",
       "    }\n",
       "\n",
       "    .dataframe thead th {\n",
       "        text-align: right;\n",
       "    }\n",
       "</style>\n",
       "<table border=\"1\" class=\"dataframe\">\n",
       "  <thead>\n",
       "    <tr style=\"text-align: right;\">\n",
       "      <th></th>\n",
       "      <th>Matrix_id</th>\n",
       "      <th>Gene_name</th>\n",
       "      <th>Gene_id</th>\n",
       "      <th>Experiment_description</th>\n",
       "      <th>source</th>\n",
       "      <th>freqs</th>\n",
       "      <th>probs</th>\n",
       "      <th>len</th>\n",
       "      <th>entropy</th>\n",
       "    </tr>\n",
       "  </thead>\n",
       "  <tbody>\n",
       "    <tr>\n",
       "      <th>0</th>\n",
       "      <td>s36</td>\n",
       "      <td>HNRNPDL</td>\n",
       "      <td>ENSG00000152795</td>\n",
       "      <td>SELEX</td>\n",
       "      <td>Attract</td>\n",
       "      <td>NaN</td>\n",
       "      <td>[[0.8443251, 0.00076687115, 0.1541411, 0.00076...</td>\n",
       "      <td>7</td>\n",
       "      <td>8.475865</td>\n",
       "    </tr>\n",
       "    <tr>\n",
       "      <th>1</th>\n",
       "      <td>M269_0.6</td>\n",
       "      <td>ZFP36</td>\n",
       "      <td>ENSG00000128016</td>\n",
       "      <td>SELEX</td>\n",
       "      <td>Attract</td>\n",
       "      <td>NaN</td>\n",
       "      <td>[[0.97, 0.01, 0.01, 0.01], [0.97, 0.01, 0.01, ...</td>\n",
       "      <td>11</td>\n",
       "      <td>6.236948</td>\n",
       "    </tr>\n",
       "    <tr>\n",
       "      <th>2</th>\n",
       "      <td>M157_0.6</td>\n",
       "      <td>CELF5</td>\n",
       "      <td>ENSG00000161082</td>\n",
       "      <td>RNAcompete</td>\n",
       "      <td>Attract</td>\n",
       "      <td>NaN</td>\n",
       "      <td>[[0.08396381, 0.08396381, 0.08396381, 0.748108...</td>\n",
       "      <td>7</td>\n",
       "      <td>5.910135</td>\n",
       "    </tr>\n",
       "    <tr>\n",
       "      <th>3</th>\n",
       "      <td>M042_0.6</td>\n",
       "      <td>PABPC4</td>\n",
       "      <td>ENSG00000090621</td>\n",
       "      <td>RNAcompete</td>\n",
       "      <td>Attract</td>\n",
       "      <td>NaN</td>\n",
       "      <td>[[0.77843714, 0.10307988, 0.11052549, 0.007957...</td>\n",
       "      <td>7</td>\n",
       "      <td>5.255954</td>\n",
       "    </tr>\n",
       "    <tr>\n",
       "      <th>4</th>\n",
       "      <td>M062_0.6</td>\n",
       "      <td>SART3</td>\n",
       "      <td>ENSG00000075856</td>\n",
       "      <td>RNAcompete</td>\n",
       "      <td>Attract</td>\n",
       "      <td>NaN</td>\n",
       "      <td>[[0.7570201, 0.080993265, 0.080993265, 0.08099...</td>\n",
       "      <td>7</td>\n",
       "      <td>5.665008</td>\n",
       "    </tr>\n",
       "  </tbody>\n",
       "</table>\n",
       "</div>"
      ],
      "text/plain": [
       "  Matrix_id Gene_name          Gene_id Experiment_description   source freqs  \\\n",
       "0       s36   HNRNPDL  ENSG00000152795                  SELEX  Attract   NaN   \n",
       "1  M269_0.6     ZFP36  ENSG00000128016                  SELEX  Attract   NaN   \n",
       "2  M157_0.6     CELF5  ENSG00000161082             RNAcompete  Attract   NaN   \n",
       "3  M042_0.6    PABPC4  ENSG00000090621             RNAcompete  Attract   NaN   \n",
       "4  M062_0.6     SART3  ENSG00000075856             RNAcompete  Attract   NaN   \n",
       "\n",
       "                                               probs  len   entropy  \n",
       "0  [[0.8443251, 0.00076687115, 0.1541411, 0.00076...    7  8.475865  \n",
       "1  [[0.97, 0.01, 0.01, 0.01], [0.97, 0.01, 0.01, ...   11  6.236948  \n",
       "2  [[0.08396381, 0.08396381, 0.08396381, 0.748108...    7  5.910135  \n",
       "3  [[0.77843714, 0.10307988, 0.11052549, 0.007957...    7  5.255954  \n",
       "4  [[0.7570201, 0.080993265, 0.080993265, 0.08099...    7  5.665008  "
      ]
     },
     "execution_count": 46,
     "metadata": {},
     "output_type": "execute_result"
    }
   ],
   "source": [
    "ppms['entropy'] = ppms.probs.apply(entropy)\n",
    "ppms.head()"
   ]
  },
  {
   "cell_type": "code",
   "execution_count": 47,
   "metadata": {},
   "outputs": [
    {
     "data": {
      "image/png": "[encoded data removed]",
      "text/plain": [
       "<Figure size 1080x288 with 1 Axes>"
      ]
     },
     "metadata": {
      "needs_background": "light"
     },
     "output_type": "display_data"
    }
   ],
   "source": [
    "fig, ax = plt.subplots(figsize=(15,4))\n",
    "plt.hist(ppms.entropy, 80)\n",
    "ax.grid()\n",
    "\n",
    "plt.xticks(np.arange(0, np.ceil(max(ppms.entropy)), 0.5))\n",
    "ax.minorticks_on()\n",
    "\n",
    "ax.grid(which='major', linestyle='-', linewidth='0.5', color='red')\n",
    "ax.grid(which='minor', linestyle=':', linewidth='0.5', color='black')"
   ]
  },
  {
   "cell_type": "code",
   "execution_count": 48,
   "metadata": {
    "scrolled": true
   },
   "outputs": [
    {
     "data": {
      "text/html": [
       "<div>\n",
       "<style scoped>\n",
       "    .dataframe tbody tr th:only-of-type {\n",
       "        vertical-align: middle;\n",
       "    }\n",
       "\n",
       "    .dataframe tbody tr th {\n",
       "        vertical-align: top;\n",
       "    }\n",
       "\n",
       "    .dataframe thead th {\n",
       "        text-align: right;\n",
       "    }\n",
       "</style>\n",
       "<table border=\"1\" class=\"dataframe\">\n",
       "  <thead>\n",
       "    <tr style=\"text-align: right;\">\n",
       "      <th></th>\n",
       "      <th>Matrix_id</th>\n",
       "      <th>Gene_name</th>\n",
       "      <th>Gene_id</th>\n",
       "      <th>Experiment_description</th>\n",
       "      <th>source</th>\n",
       "      <th>freqs</th>\n",
       "      <th>probs</th>\n",
       "      <th>len</th>\n",
       "      <th>entropy</th>\n",
       "    </tr>\n",
       "  </thead>\n",
       "  <tbody>\n",
       "    <tr>\n",
       "      <th>10</th>\n",
       "      <td>s49</td>\n",
       "      <td>SRSF1</td>\n",
       "      <td>ENSG00000136450</td>\n",
       "      <td>SELEX</td>\n",
       "      <td>Attract</td>\n",
       "      <td>NaN</td>\n",
       "      <td>[[0.00034435265, 0.998967, 0.00034435265, 0.00...</td>\n",
       "      <td>7</td>\n",
       "      <td>10.017073</td>\n",
       "    </tr>\n",
       "    <tr>\n",
       "      <th>107</th>\n",
       "      <td>s18</td>\n",
       "      <td>FMR1</td>\n",
       "      <td>ENSG00000102081</td>\n",
       "      <td>SELEX</td>\n",
       "      <td>Attract</td>\n",
       "      <td>NaN</td>\n",
       "      <td>[[0.0007122507, 0.0007122507, 0.99786323, 0.00...</td>\n",
       "      <td>12</td>\n",
       "      <td>10.107212</td>\n",
       "    </tr>\n",
       "    <tr>\n",
       "      <th>292</th>\n",
       "      <td>encode_EWSR1_1</td>\n",
       "      <td>EWSR1</td>\n",
       "      <td>NaN</td>\n",
       "      <td>RBNS</td>\n",
       "      <td>ENCODE</td>\n",
       "      <td>NaN</td>\n",
       "      <td>[[0.07345360824742267, 0.07345360824742267, 0....</td>\n",
       "      <td>8</td>\n",
       "      <td>10.476617</td>\n",
       "    </tr>\n",
       "    <tr>\n",
       "      <th>141</th>\n",
       "      <td>s25</td>\n",
       "      <td>SFPQ</td>\n",
       "      <td>ENSG00000116560</td>\n",
       "      <td>SELEX</td>\n",
       "      <td>Attract</td>\n",
       "      <td>NaN</td>\n",
       "      <td>[[0.0012437811, 0.0012437811, 0.37437811, 0.62...</td>\n",
       "      <td>9</td>\n",
       "      <td>10.897651</td>\n",
       "    </tr>\n",
       "    <tr>\n",
       "      <th>63</th>\n",
       "      <td>s59</td>\n",
       "      <td>SRSF2</td>\n",
       "      <td>ENSG00000161547</td>\n",
       "      <td>SELEX</td>\n",
       "      <td>Attract</td>\n",
       "      <td>NaN</td>\n",
       "      <td>[[0.08351831, 0.055771366, 0.8326859, 0.028024...</td>\n",
       "      <td>8</td>\n",
       "      <td>10.916107</td>\n",
       "    </tr>\n",
       "  </tbody>\n",
       "</table>\n",
       "</div>"
      ],
      "text/plain": [
       "          Matrix_id Gene_name          Gene_id Experiment_description  \\\n",
       "10              s49     SRSF1  ENSG00000136450                  SELEX   \n",
       "107             s18      FMR1  ENSG00000102081                  SELEX   \n",
       "292  encode_EWSR1_1     EWSR1              NaN                   RBNS   \n",
       "141             s25      SFPQ  ENSG00000116560                  SELEX   \n",
       "63              s59     SRSF2  ENSG00000161547                  SELEX   \n",
       "\n",
       "      source freqs                                              probs  len  \\\n",
       "10   Attract   NaN  [[0.00034435265, 0.998967, 0.00034435265, 0.00...    7   \n",
       "107  Attract   NaN  [[0.0007122507, 0.0007122507, 0.99786323, 0.00...   12   \n",
       "292   ENCODE   NaN  [[0.07345360824742267, 0.07345360824742267, 0....    8   \n",
       "141  Attract   NaN  [[0.0012437811, 0.0012437811, 0.37437811, 0.62...    9   \n",
       "63   Attract   NaN  [[0.08351831, 0.055771366, 0.8326859, 0.028024...    8   \n",
       "\n",
       "       entropy  \n",
       "10   10.017073  \n",
       "107  10.107212  \n",
       "292  10.476617  \n",
       "141  10.897651  \n",
       "63   10.916107  "
      ]
     },
     "execution_count": 48,
     "metadata": {},
     "output_type": "execute_result"
    }
   ],
   "source": [
    "try_max_entropy = 10\n",
    "ppms[ppms.entropy > try_max_entropy].sort_values('entropy').head(5)"
   ]
  },
  {
   "cell_type": "code",
   "execution_count": 49,
   "metadata": {
    "scrolled": false
   },
   "outputs": [
    {
     "data": {
      "image/png": "[encoded data removed]",
      "text/plain": [
       "<IPython.core.display.Image object>"
      ]
     },
     "execution_count": 49,
     "metadata": {},
     "output_type": "execute_result"
    }
   ],
   "source": [
    "plot_ppm(ppms, 's49', 5)"
   ]
  },
  {
   "cell_type": "markdown",
   "metadata": {},
   "source": [
    "### Filter by entropy"
   ]
  },
  {
   "cell_type": "code",
   "execution_count": 50,
   "metadata": {},
   "outputs": [
    {
     "data": {
      "text/plain": [
       "362"
      ]
     },
     "execution_count": 50,
     "metadata": {},
     "output_type": "execute_result"
    }
   ],
   "source": [
    "min_entropy = 0\n",
    "max_entropy = 10\n",
    "ppms = ppms[(ppms.entropy > min_entropy) & (ppms.entropy < max_entropy)]\n",
    "len(ppms)"
   ]
  },
  {
   "cell_type": "markdown",
   "metadata": {},
   "source": [
    "## Convert PPM to PWM"
   ]
  },
  {
   "cell_type": "code",
   "execution_count": 51,
   "metadata": {
    "scrolled": false
   },
   "outputs": [
    {
     "data": {
      "text/html": [
       "<div>\n",
       "<style scoped>\n",
       "    .dataframe tbody tr th:only-of-type {\n",
       "        vertical-align: middle;\n",
       "    }\n",
       "\n",
       "    .dataframe tbody tr th {\n",
       "        vertical-align: top;\n",
       "    }\n",
       "\n",
       "    .dataframe thead th {\n",
       "        text-align: right;\n",
       "    }\n",
       "</style>\n",
       "<table border=\"1\" class=\"dataframe\">\n",
       "  <thead>\n",
       "    <tr style=\"text-align: right;\">\n",
       "      <th></th>\n",
       "      <th>Matrix_id</th>\n",
       "      <th>Gene_name</th>\n",
       "      <th>Gene_id</th>\n",
       "      <th>Experiment_description</th>\n",
       "      <th>source</th>\n",
       "      <th>freqs</th>\n",
       "      <th>probs</th>\n",
       "      <th>len</th>\n",
       "      <th>entropy</th>\n",
       "      <th>weights</th>\n",
       "    </tr>\n",
       "  </thead>\n",
       "  <tbody>\n",
       "    <tr>\n",
       "      <th>0</th>\n",
       "      <td>s36</td>\n",
       "      <td>HNRNPDL</td>\n",
       "      <td>ENSG00000152795</td>\n",
       "      <td>SELEX</td>\n",
       "      <td>Attract</td>\n",
       "      <td>NaN</td>\n",
       "      <td>[[0.8443251, 0.00076687115, 0.1541411, 0.00076...</td>\n",
       "      <td>7</td>\n",
       "      <td>8.475865</td>\n",
       "      <td>[[1.7558706, -8.348728, -0.69767654, -8.348728...</td>\n",
       "    </tr>\n",
       "    <tr>\n",
       "      <th>1</th>\n",
       "      <td>M269_0.6</td>\n",
       "      <td>ZFP36</td>\n",
       "      <td>ENSG00000128016</td>\n",
       "      <td>SELEX</td>\n",
       "      <td>Attract</td>\n",
       "      <td>NaN</td>\n",
       "      <td>[[0.97, 0.01, 0.01, 0.01], [0.97, 0.01, 0.01, ...</td>\n",
       "      <td>11</td>\n",
       "      <td>6.236948</td>\n",
       "      <td>[[1.9560567, -4.643856, -4.643856, -4.643856],...</td>\n",
       "    </tr>\n",
       "    <tr>\n",
       "      <th>2</th>\n",
       "      <td>M157_0.6</td>\n",
       "      <td>CELF5</td>\n",
       "      <td>ENSG00000161082</td>\n",
       "      <td>RNAcompete</td>\n",
       "      <td>Attract</td>\n",
       "      <td>NaN</td>\n",
       "      <td>[[0.08396381, 0.08396381, 0.08396381, 0.748108...</td>\n",
       "      <td>7</td>\n",
       "      <td>5.910135</td>\n",
       "      <td>[[-1.5740886, -1.5740886, -1.5740886, 1.581319...</td>\n",
       "    </tr>\n",
       "    <tr>\n",
       "      <th>3</th>\n",
       "      <td>M042_0.6</td>\n",
       "      <td>PABPC4</td>\n",
       "      <td>ENSG00000090621</td>\n",
       "      <td>RNAcompete</td>\n",
       "      <td>Attract</td>\n",
       "      <td>NaN</td>\n",
       "      <td>[[0.77843714, 0.10307988, 0.11052549, 0.007957...</td>\n",
       "      <td>7</td>\n",
       "      <td>5.255954</td>\n",
       "      <td>[[1.6386524, -1.2781653, -1.177549, -4.9734616...</td>\n",
       "    </tr>\n",
       "    <tr>\n",
       "      <th>4</th>\n",
       "      <td>M062_0.6</td>\n",
       "      <td>SART3</td>\n",
       "      <td>ENSG00000075856</td>\n",
       "      <td>RNAcompete</td>\n",
       "      <td>Attract</td>\n",
       "      <td>NaN</td>\n",
       "      <td>[[0.7570201, 0.080993265, 0.080993265, 0.08099...</td>\n",
       "      <td>7</td>\n",
       "      <td>5.665008</td>\n",
       "      <td>[[1.5984036, -1.6260543, -1.6260543, -1.626054...</td>\n",
       "    </tr>\n",
       "  </tbody>\n",
       "</table>\n",
       "</div>"
      ],
      "text/plain": [
       "  Matrix_id Gene_name          Gene_id Experiment_description   source freqs  \\\n",
       "0       s36   HNRNPDL  ENSG00000152795                  SELEX  Attract   NaN   \n",
       "1  M269_0.6     ZFP36  ENSG00000128016                  SELEX  Attract   NaN   \n",
       "2  M157_0.6     CELF5  ENSG00000161082             RNAcompete  Attract   NaN   \n",
       "3  M042_0.6    PABPC4  ENSG00000090621             RNAcompete  Attract   NaN   \n",
       "4  M062_0.6     SART3  ENSG00000075856             RNAcompete  Attract   NaN   \n",
       "\n",
       "                                               probs  len   entropy  \\\n",
       "0  [[0.8443251, 0.00076687115, 0.1541411, 0.00076...    7  8.475865   \n",
       "1  [[0.97, 0.01, 0.01, 0.01], [0.97, 0.01, 0.01, ...   11  6.236948   \n",
       "2  [[0.08396381, 0.08396381, 0.08396381, 0.748108...    7  5.910135   \n",
       "3  [[0.77843714, 0.10307988, 0.11052549, 0.007957...    7  5.255954   \n",
       "4  [[0.7570201, 0.080993265, 0.080993265, 0.08099...    7  5.665008   \n",
       "\n",
       "                                             weights  \n",
       "0  [[1.7558706, -8.348728, -0.69767654, -8.348728...  \n",
       "1  [[1.9560567, -4.643856, -4.643856, -4.643856],...  \n",
       "2  [[-1.5740886, -1.5740886, -1.5740886, 1.581319...  \n",
       "3  [[1.6386524, -1.2781653, -1.177549, -4.9734616...  \n",
       "4  [[1.5984036, -1.6260543, -1.6260543, -1.626054...  "
      ]
     },
     "execution_count": 51,
     "metadata": {},
     "output_type": "execute_result"
    }
   ],
   "source": [
    "pwms = ppms.reset_index(drop=True)\n",
    "pwms['weights'] = [ppm_to_pwm(p) for p in pwms.probs]\n",
    "pwms.head()"
   ]
  },
  {
   "cell_type": "markdown",
   "metadata": {},
   "source": [
    "## Save"
   ]
  },
  {
   "cell_type": "code",
   "execution_count": 52,
   "metadata": {
    "scrolled": false
   },
   "outputs": [
    {
     "name": "stderr",
     "output_type": "stream",
     "text": [
      "/Users/avantika/Desktop/viruslandscape/vir2/lib/python3.7/site-packages/pandas/core/generic.py:2621: PerformanceWarning: \n",
      "your performance may suffer as PyTables will pickle object types that it cannot\n",
      "map directly to c-types [inferred_type->mixed,key->block2_values] [items->Index(['Matrix_id', 'Gene_name', 'Gene_id', 'Experiment_description', 'source',\n",
      "       'freqs', 'probs', 'weights'],\n",
      "      dtype='object')]\n",
      "\n",
      "  encoding=encoding,\n"
     ]
    }
   ],
   "source": [
    "pwms.to_hdf('../DATA/PWMs/attract_rbpdb_encode_filtered_human_pwms.h5', key='data')"
   ]
  },
  {
   "cell_type": "code",
   "execution_count": 54,
   "metadata": {},
   "outputs": [],
   "source": [
    "pwms.loc[:,['Matrix_id','Gene_name','Gene_id','Experiment_description','source', 'len']].to_csv('../DATA/PWMs/attract_rbpdb_encode_filtered_human_pwms.csv')"
   ]
  },
  {
   "cell_type": "code",
   "execution_count": null,
   "metadata": {},
   "outputs": [],
   "source": []
  }
 ],
 "metadata": {
  "kernelspec": {
   "display_name": "Python (vir2)",
   "language": "python",
   "name": "myenv"
  },
  "language_info": {
   "codemirror_mode": {
    "name": "ipython",
    "version": 3
   },
   "file_extension": ".py",
   "mimetype": "text/x-python",
   "name": "python",
   "nbconvert_exporter": "python",
   "pygments_lexer": "ipython3",
   "version": "3.7.10"
  }
 },
 "nbformat": 4,
 "nbformat_minor": 4
}
