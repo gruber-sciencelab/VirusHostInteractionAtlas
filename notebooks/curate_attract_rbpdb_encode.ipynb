{
 "cells": [
  {
   "cell_type": "code",
   "execution_count": 1,
   "metadata": {},
   "outputs": [],
   "source": [
    "import numpy as np\n",
    "import pandas as pd\n",
    "import h5py\n",
    "\n",
    "# Suppress FutureWarnings\n",
    "import warnings\n",
    "warnings.simplefilter(action='ignore', category=FutureWarning)\n",
    "\n",
    "# Find SMEAGOL\n",
    "import sys\n",
    "sys.path.append('../../SMEAGOL')\n",
    "\n",
    "from smeagol.matrices import *\n",
    "from smeagol.visualize import *\n",
    "\n",
    "np.random.seed(0)"
   ]
  },
  {
   "cell_type": "code",
   "execution_count": 2,
   "metadata": {},
   "outputs": [],
   "source": [
    "def get_rep_mats(sel_pwms, max_clusters=5, threshold=.2):\n",
    "    n_clusters = 1\n",
    "    min_ncorr = np.min(pairwise_ncorrs(list(sel_pwms.weights)))\n",
    "    if min_ncorr > threshold:\n",
    "        choice = {'reps': choose_representative_pm(sel_pwms),\n",
    "                  'min_ncorr': min_ncorr}\n",
    "    else:\n",
    "        while ((n_clusters < max_clusters) & (min_ncorr <= threshold)):\n",
    "            n_clusters += 1\n",
    "            choice = cluster_pms(sel_pwms, n_clusters=n_clusters)\n",
    "            min_ncorr = np.min(choice['min_ncorr'])\n",
    "        #for i in range(n_clusters):\n",
    "            #print(sel_pwms.Matrix_id[choice['clusters']==i].values)\n",
    "    return choice"
   ]
  },
  {
   "cell_type": "markdown",
   "metadata": {},
   "source": [
    "## Load PWMs"
   ]
  },
  {
   "cell_type": "code",
   "execution_count": 3,
   "metadata": {},
   "outputs": [
    {
     "data": {
      "text/plain": [
       "362"
      ]
     },
     "execution_count": 3,
     "metadata": {},
     "output_type": "execute_result"
    }
   ],
   "source": [
    "pwms = pd.read_hdf('../DATA/PWMS/attract_rbpdb_encode_filtered_human_pwms.h5', key='data')\n",
    "len(pwms)"
   ]
  },
  {
   "cell_type": "code",
   "execution_count": 4,
   "metadata": {},
   "outputs": [
    {
     "data": {
      "text/plain": [
       "146"
      ]
     },
     "execution_count": 4,
     "metadata": {},
     "output_type": "execute_result"
    }
   ],
   "source": [
    "len(np.unique(pwms.Gene_name))"
   ]
  },
  {
   "cell_type": "markdown",
   "metadata": {},
   "source": [
    "## Select RBPs with multiple PWMs"
   ]
  },
  {
   "cell_type": "code",
   "execution_count": 5,
   "metadata": {
    "scrolled": false
   },
   "outputs": [
    {
     "name": "stdout",
     "output_type": "stream",
     "text": [
      "['SRSF1' 'SRSF2' 'SNRPA' 'ZFP36' 'HNRNPDL' 'ELAVL1' 'MBNL1' 'TIA1'\n",
      " 'HNRNPK' 'KHSRP' 'SRSF9' 'SRSF10' 'TIAL1' 'SFPQ' 'ELAVL2' 'NOVA1' 'SRSF7'\n",
      " 'MSI1' 'FMR1' 'HNRNPA1' 'PUM1' 'RBM45' 'SRSF5' 'HNRNPL' 'KHDRBS3' 'PUM2'\n",
      " 'RBMS3' 'RBM6' 'YBX1' 'HNRNPH2' 'FUBP3' 'HNRNPC' 'DAZ3' 'RBFOX1' 'ZRANB2'\n",
      " 'TARDBP' 'PTBP1' 'PRR3' 'EIF4G2' 'RBM24' 'PCBP2' 'QKI' 'SRSF3' 'EIF4B'\n",
      " 'HNRNPA2B1' 'KHDRBS1' 'RBM5' 'DAZAP1' 'PCBP4' 'SF1' 'PABPC1' 'RBM4B'\n",
      " 'NUPL2' 'UNK' 'TAF15' 'BOLL' 'HNRNPCL1' 'ELAVL4' 'TRNAU1AP' 'FUBP1'\n",
      " 'CELF1' 'SRSF6' 'A1CF' 'IGF2BP1' 'LIN28A' 'HNRNPF' 'ZCRB1' 'IGF2BP2'\n",
      " 'CELF2' 'RBM4' 'NOVA2' 'PCBP1' 'PUF60' 'HNRNPLL' 'HNRNPA0' 'RBM47'\n",
      " 'RC3H1' 'RBMY1A1' 'FUS' 'ZNF326' 'RBM41' 'KHDRBS2' 'RBM14' 'CNOT4']\n",
      "84\n"
     ]
    }
   ],
   "source": [
    "rbp_counts = pwms.Gene_name.value_counts()\n",
    "multi_rbps = np.array(rbp_counts[rbp_counts > 1].index)\n",
    "print(multi_rbps)\n",
    "print(len(multi_rbps))"
   ]
  },
  {
   "cell_type": "code",
   "execution_count": 11,
   "metadata": {},
   "outputs": [],
   "source": [
    "# Similarity metric: normalized correlation\n",
    "# Clustering method: Hierarchical (agglomerative) clustering\n",
    "# Threshold for clustering: minimum pairwise similarity < 0.2"
   ]
  },
  {
   "cell_type": "code",
   "execution_count": 6,
   "metadata": {},
   "outputs": [],
   "source": [
    "rep_Matrix_ids = []\n",
    "for rbp in multi_rbps:\n",
    "    sel_pwms = pwms[pwms.Gene_name==rbp].reset_index(drop=True)\n",
    "    np.array(sel_pwms.Matrix_id)\n",
    "    choice = get_rep_mats(sel_pwms)\n",
    "    rep_Matrix_ids.append(choice['reps'])"
   ]
  },
  {
   "cell_type": "code",
   "execution_count": 7,
   "metadata": {},
   "outputs": [
    {
     "data": {
      "text/plain": [
       "84"
      ]
     },
     "execution_count": 7,
     "metadata": {},
     "output_type": "execute_result"
    }
   ],
   "source": [
    "len(rep_Matrix_ids)"
   ]
  },
  {
   "cell_type": "code",
   "execution_count": 16,
   "metadata": {},
   "outputs": [
    {
     "data": {
      "text/plain": [
       "18"
      ]
     },
     "execution_count": 16,
     "metadata": {},
     "output_type": "execute_result"
    }
   ],
   "source": [
    "sum([type(x)==list for x in rep_Matrix_ids])"
   ]
  },
  {
   "cell_type": "markdown",
   "metadata": {},
   "source": [
    "## ELAVL1"
   ]
  },
  {
   "cell_type": "code",
   "execution_count": 17,
   "metadata": {
    "scrolled": true
   },
   "outputs": [
    {
     "data": {
      "text/plain": [
       "array(['M108_0.6', 'M112_0.6', 'M232_0.6', 's101', 'M031_0.6', 'M127_0.6',\n",
       "       '1170'], dtype=object)"
      ]
     },
     "execution_count": 17,
     "metadata": {},
     "output_type": "execute_result"
    }
   ],
   "source": [
    "sel_pwms = pwms[pwms.Gene_name=='ELAVL1'].reset_index(drop=True)\n",
    "np.array(sel_pwms.Matrix_id)"
   ]
  },
  {
   "cell_type": "code",
   "execution_count": 39,
   "metadata": {},
   "outputs": [
    {
     "data": {
      "image/png": "[encoded data removed]",
      "text/plain": [
       "<IPython.core.display.Image object>"
      ]
     },
     "execution_count": 39,
     "metadata": {},
     "output_type": "execute_result"
    }
   ],
   "source": [
    "plot_ppm(sel_pwms, 'M108_0.6', 5)"
   ]
  },
  {
   "cell_type": "code",
   "execution_count": 40,
   "metadata": {},
   "outputs": [
    {
     "data": {
      "image/png": "[encoded data removed]",
      "text/plain": [
       "<IPython.core.display.Image object>"
      ]
     },
     "execution_count": 40,
     "metadata": {},
     "output_type": "execute_result"
    }
   ],
   "source": [
    "plot_ppm(sel_pwms, 'M112_0.6', 5)"
   ]
  },
  {
   "cell_type": "code",
   "execution_count": 41,
   "metadata": {},
   "outputs": [
    {
     "data": {
      "image/png": "[encoded data removed]",
      "text/plain": [
       "<IPython.core.display.Image object>"
      ]
     },
     "execution_count": 41,
     "metadata": {},
     "output_type": "execute_result"
    }
   ],
   "source": [
    "plot_ppm(sel_pwms, 'M232_0.6', 5)"
   ]
  },
  {
   "cell_type": "code",
   "execution_count": 42,
   "metadata": {},
   "outputs": [
    {
     "data": {
      "image/png": "[encoded data removed]",
      "text/plain": [
       "<IPython.core.display.Image object>"
      ]
     },
     "execution_count": 42,
     "metadata": {},
     "output_type": "execute_result"
    }
   ],
   "source": [
    "plot_ppm(sel_pwms, 's101', 5)"
   ]
  },
  {
   "cell_type": "code",
   "execution_count": 43,
   "metadata": {},
   "outputs": [
    {
     "data": {
      "image/png": "[encoded data removed]",
      "text/plain": [
       "<IPython.core.display.Image object>"
      ]
     },
     "execution_count": 43,
     "metadata": {},
     "output_type": "execute_result"
    }
   ],
   "source": [
    "plot_ppm(sel_pwms, 'M031_0.6', 5)"
   ]
  },
  {
   "cell_type": "code",
   "execution_count": 44,
   "metadata": {},
   "outputs": [
    {
     "data": {
      "image/png": "[encoded data removed]",
      "text/plain": [
       "<IPython.core.display.Image object>"
      ]
     },
     "execution_count": 44,
     "metadata": {},
     "output_type": "execute_result"
    }
   ],
   "source": [
    "plot_ppm(sel_pwms, 'M127_0.6', 5)"
   ]
  },
  {
   "cell_type": "code",
   "execution_count": 45,
   "metadata": {
    "scrolled": false
   },
   "outputs": [
    {
     "data": {
      "image/png": "[encoded data removed]",
      "text/plain": [
       "<IPython.core.display.Image object>"
      ]
     },
     "execution_count": 45,
     "metadata": {},
     "output_type": "execute_result"
    }
   ],
   "source": [
    "plot_pwm(sel_pwms, '1170', 5)"
   ]
  },
  {
   "cell_type": "code",
   "execution_count": 18,
   "metadata": {
    "scrolled": true
   },
   "outputs": [
    {
     "name": "stdout",
     "output_type": "stream",
     "text": [
      "{'reps': 'M127_0.6', 'min_ncorr': 0.3500929521465199}\n"
     ]
    }
   ],
   "source": [
    "choice = get_rep_mats(sel_pwms)\n",
    "print(choice)"
   ]
  },
  {
   "cell_type": "code",
   "execution_count": 62,
   "metadata": {
    "scrolled": true
   },
   "outputs": [
    {
     "data": {
      "image/png": "[encoded data removed]",
      "text/plain": [
       "<IPython.core.display.Image object>"
      ]
     },
     "execution_count": 62,
     "metadata": {},
     "output_type": "execute_result"
    }
   ],
   "source": [
    "plot_ppm(sel_pwms, choice, 5)"
   ]
  },
  {
   "cell_type": "code",
   "execution_count": 19,
   "metadata": {},
   "outputs": [],
   "source": [
    "rep_Matrix_ids.append('M232_0.6')"
   ]
  },
  {
   "cell_type": "markdown",
   "metadata": {},
   "source": [
    "## EIF4B"
   ]
  },
  {
   "cell_type": "code",
   "execution_count": 20,
   "metadata": {
    "scrolled": true
   },
   "outputs": [
    {
     "data": {
      "text/plain": [
       "array(['M290_0.6', '351', '352'], dtype=object)"
      ]
     },
     "execution_count": 20,
     "metadata": {},
     "output_type": "execute_result"
    }
   ],
   "source": [
    "sel_pwms = pwms[pwms.Gene_name=='EIF4B'].reset_index(drop=True)\n",
    "np.array(sel_pwms.Matrix_id)"
   ]
  },
  {
   "cell_type": "code",
   "execution_count": 22,
   "metadata": {
    "scrolled": true
   },
   "outputs": [
    {
     "name": "stdout",
     "output_type": "stream",
     "text": [
      "0.41198813809787366\n"
     ]
    }
   ],
   "source": [
    "print(np.min(pairwise_ncorrs(list(sel_pwms.weights))))"
   ]
  },
  {
   "cell_type": "code",
   "execution_count": 264,
   "metadata": {},
   "outputs": [
    {
     "data": {
      "image/png": "[encoded data removed]",
      "text/plain": [
       "<IPython.core.display.Image object>"
      ]
     },
     "execution_count": 264,
     "metadata": {},
     "output_type": "execute_result"
    }
   ],
   "source": [
    "plot_ppm(sel_pwms, 'M290_0.6', 4)"
   ]
  },
  {
   "cell_type": "code",
   "execution_count": 265,
   "metadata": {},
   "outputs": [
    {
     "data": {
      "image/png": "[encoded data removed]",
      "text/plain": [
       "<IPython.core.display.Image object>"
      ]
     },
     "execution_count": 265,
     "metadata": {},
     "output_type": "execute_result"
    }
   ],
   "source": [
    "plot_ppm(sel_pwms, '351', 4)"
   ]
  },
  {
   "cell_type": "code",
   "execution_count": 266,
   "metadata": {},
   "outputs": [
    {
     "data": {
      "image/png": "[encoded data removed]",
      "text/plain": [
       "<IPython.core.display.Image object>"
      ]
     },
     "execution_count": 266,
     "metadata": {},
     "output_type": "execute_result"
    }
   ],
   "source": [
    "plot_ppm(sel_pwms, '352', 4)"
   ]
  },
  {
   "cell_type": "code",
   "execution_count": 24,
   "metadata": {},
   "outputs": [
    {
     "data": {
      "image/png": "[encoded data removed]",
      "text/plain": [
       "<IPython.core.display.Image object>"
      ]
     },
     "execution_count": 24,
     "metadata": {},
     "output_type": "execute_result"
    }
   ],
   "source": [
    "choice = choose_representative_pm(sel_pwms)\n",
    "plot_pwm(sel_pwms, choice, 4)"
   ]
  },
  {
   "cell_type": "code",
   "execution_count": 25,
   "metadata": {},
   "outputs": [],
   "source": [
    "rep_Matrix_ids.append('352')"
   ]
  },
  {
   "cell_type": "markdown",
   "metadata": {},
   "source": [
    "## Final list of representative PWMs"
   ]
  },
  {
   "cell_type": "code",
   "execution_count": 26,
   "metadata": {
    "scrolled": true
   },
   "outputs": [
    {
     "name": "stdout",
     "output_type": "stream",
     "text": [
      "112\n"
     ]
    }
   ],
   "source": [
    "rep_Matrix_ids = list(pd.core.common.flatten(rep_Matrix_ids))\n",
    "print(len(rep_Matrix_ids))"
   ]
  },
  {
   "cell_type": "code",
   "execution_count": 27,
   "metadata": {},
   "outputs": [
    {
     "data": {
      "text/plain": [
       "['M104_0.6', '1393', 's22', 'M273_0.6', 'M274_0.6']"
      ]
     },
     "execution_count": 27,
     "metadata": {},
     "output_type": "execute_result"
    }
   ],
   "source": [
    "rep_Matrix_ids[:5]"
   ]
  },
  {
   "cell_type": "code",
   "execution_count": 28,
   "metadata": {
    "scrolled": true
   },
   "outputs": [],
   "source": [
    "single_pwms = pwms[~pwms.Gene_name.isin(rbp_counts[rbp_counts > 1].index)]"
   ]
  },
  {
   "cell_type": "code",
   "execution_count": 29,
   "metadata": {},
   "outputs": [],
   "source": [
    "representative_multi_pwms = pwms[pwms.Matrix_id.isin(rep_Matrix_ids)]"
   ]
  },
  {
   "cell_type": "code",
   "execution_count": 30,
   "metadata": {},
   "outputs": [],
   "source": [
    "representative_pwms = pd.concat([single_pwms, representative_multi_pwms]).reset_index(drop=True)"
   ]
  },
  {
   "cell_type": "code",
   "execution_count": 31,
   "metadata": {},
   "outputs": [
    {
     "data": {
      "text/plain": [
       "174"
      ]
     },
     "execution_count": 31,
     "metadata": {},
     "output_type": "execute_result"
    }
   ],
   "source": [
    "len(representative_pwms)"
   ]
  },
  {
   "cell_type": "code",
   "execution_count": 32,
   "metadata": {},
   "outputs": [
    {
     "data": {
      "text/plain": [
       "146"
      ]
     },
     "execution_count": 32,
     "metadata": {},
     "output_type": "execute_result"
    }
   ],
   "source": [
    "len(representative_pwms.Gene_name.unique())"
   ]
  },
  {
   "cell_type": "code",
   "execution_count": 33,
   "metadata": {
    "scrolled": true
   },
   "outputs": [
    {
     "data": {
      "text/plain": [
       "146"
      ]
     },
     "execution_count": 33,
     "metadata": {},
     "output_type": "execute_result"
    }
   ],
   "source": [
    "len(pwms.Gene_name.unique())"
   ]
  },
  {
   "cell_type": "code",
   "execution_count": 34,
   "metadata": {},
   "outputs": [
    {
     "data": {
      "text/plain": [
       "set()"
      ]
     },
     "execution_count": 34,
     "metadata": {},
     "output_type": "execute_result"
    }
   ],
   "source": [
    "set(pwms.Gene_name) - set(representative_pwms.Gene_name)"
   ]
  },
  {
   "cell_type": "code",
   "execution_count": 35,
   "metadata": {
    "scrolled": true
   },
   "outputs": [
    {
     "data": {
      "text/plain": [
       "SRSF2      5\n",
       "SRSF1      4\n",
       "HNRNPDL    3\n",
       "SNRPA      3\n",
       "ZFP36      3\n",
       "          ..\n",
       "G3BP1      1\n",
       "ESRP2      1\n",
       "PABPC4     1\n",
       "RBM24      1\n",
       "YBX1       1\n",
       "Name: Gene_name, Length: 146, dtype: int64"
      ]
     },
     "execution_count": 35,
     "metadata": {},
     "output_type": "execute_result"
    }
   ],
   "source": [
    "representative_pwms.Gene_name.value_counts()"
   ]
  },
  {
   "cell_type": "markdown",
   "metadata": {},
   "source": [
    "## Save list"
   ]
  },
  {
   "cell_type": "code",
   "execution_count": 36,
   "metadata": {},
   "outputs": [],
   "source": [
    "representative_pwms.Matrix_id.to_csv('../DATA/PWMs/attract_rbpdb_encode_representative_matrices.txt', index=False, header=False)"
   ]
  },
  {
   "cell_type": "code",
   "execution_count": null,
   "metadata": {},
   "outputs": [],
   "source": []
  }
 ],
 "metadata": {
  "kernelspec": {
   "display_name": "Python (vir2)",
   "language": "python",
   "name": "myenv"
  },
  "language_info": {
   "codemirror_mode": {
    "name": "ipython",
    "version": 3
   },
   "file_extension": ".py",
   "mimetype": "text/x-python",
   "name": "python",
   "nbconvert_exporter": "python",
   "pygments_lexer": "ipython3",
   "version": "3.7.10"
  }
 },
 "nbformat": 4,
 "nbformat_minor": 4
}
